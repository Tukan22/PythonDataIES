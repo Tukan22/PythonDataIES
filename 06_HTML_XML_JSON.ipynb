{
 "cells": [
  {
   "cell_type": "code",
   "execution_count": 21,
   "metadata": {},
   "outputs": [
    {
     "ename": "ModuleNotFoundError",
     "evalue": "No module named 'boto3'",
     "output_type": "error",
     "traceback": [
      "\u001b[1;31m---------------------------------------------------------------------------\u001b[0m",
      "\u001b[1;31mModuleNotFoundError\u001b[0m                       Traceback (most recent call last)",
      "Cell \u001b[1;32mIn[21], line 13\u001b[0m\n\u001b[0;32m      9\u001b[0m \u001b[38;5;28;01mimport\u001b[39;00m \u001b[38;5;21;01mnumpy\u001b[39;00m \u001b[38;5;28;01mas\u001b[39;00m \u001b[38;5;21;01mnp\u001b[39;00m\n\u001b[0;32m     11\u001b[0m \u001b[38;5;28;01mfrom\u001b[39;00m \u001b[38;5;21;01mbs4\u001b[39;00m \u001b[38;5;28;01mimport\u001b[39;00m BeautifulSoup\n\u001b[1;32m---> 13\u001b[0m \u001b[38;5;28;01mimport\u001b[39;00m \u001b[38;5;21;01mboto3\u001b[39;00m\n\u001b[0;32m     15\u001b[0m \u001b[38;5;28;01mfrom\u001b[39;00m \u001b[38;5;21;01mIPython\u001b[39;00m\u001b[38;5;21;01m.\u001b[39;00m\u001b[38;5;21;01mdisplay\u001b[39;00m \u001b[38;5;28;01mimport\u001b[39;00m HTML, display\n",
      "\u001b[1;31mModuleNotFoundError\u001b[0m: No module named 'boto3'"
     ]
    }
   ],
   "source": [
    "%matplotlib inline\n",
    "import matplotlib.pyplot as plt\n",
    "\n",
    "import requests\n",
    "import json\n",
    "\n",
    "import os\n",
    "import pandas as pd\n",
    "import numpy as np\n",
    "\n",
    "from bs4 import BeautifulSoup\n",
    "\n",
    "import boto3\n",
    "\n",
    "from IPython.display import HTML, display"
   ]
  },
  {
   "cell_type": "code",
   "execution_count": null,
   "metadata": {},
   "outputs": [],
   "source": [
    "#quick warmup\n",
    "\n",
    "# imagine a key-value data container\n",
    "inventory = {\n",
    "      \"001\": [{\"name\": \"Milk\", \"quantity\": 34, \"price\": 1.99}],\n",
    "      \"002\": [{\"name\": \"Bread\", \"quantity\": 20, \"price\": 2.49},\n",
    "              {\"name\": \"Nutella\", \"quantity\": 5, \"price\": 2.49}]    \n",
    "    }\n",
    "\n",
    "inventory"
   ]
  },
  {
   "cell_type": "code",
   "execution_count": null,
   "metadata": {},
   "outputs": [],
   "source": [
    "#How would a store manager find out how much is milk\n",
    "\n",
    "#How do we add new item? What do we need to do?"
   ]
  },
  {
   "cell_type": "code",
   "execution_count": null,
   "metadata": {
    "jupyter": {
     "outputs_hidden": false
    }
   },
   "outputs": [],
   "source": [
    "name_to_item = {}\n",
    "for item_id, details_list in inventory.items():\n",
    "    for details in details_list:\n",
    "        # Here we are assuming product names are unique\n",
    "        name_to_item[details[\"name\"]] = {\"id\": item_id, \"quantity\": details[\"quantity\"], \"price\": details[\"price\"]}\n",
    "#if details[\"name\"] is not unique, what happens?\n",
    "print(name_to_item)"
   ]
  },
  {
   "cell_type": "markdown",
   "metadata": {},
   "source": [
    "# Lecture 05 - JSON, XML, HTML, Requests and APIs\n",
    "by Jan Šíla, Vítek Macháček <br />\n",
    "March 26, 2024\n",
    "\n",
    "### Contents\n",
    "\n",
    "* Standardized data representation\n",
    "* JSON\n",
    "* XML\n",
    "* Introduction to BeautifulSoup\n",
    "* Basics of HTML (+ Element Inspection)\n",
    "* Introduction to Requests (GET vs. POST) and APIs\n"
   ]
  },
  {
   "cell_type": "markdown",
   "metadata": {},
   "source": [
    "### Goals:\n",
    "    \n",
    "* work with data  online/real-time data\n",
    "* acquisition, processing - > results"
   ]
  },
  {
   "cell_type": "markdown",
   "metadata": {},
   "source": [
    "## Date exchange formats - JSON, XML\n",
    "\n",
    "`Language of the internet`\n",
    "\n",
    "* You can send/receive a message with (almost) any service\n",
    "\n",
    "* send .docx -> what if I do not have MS Word?\n",
    "* we need a simple data format which would work on any machine (system agnostic), is general (can write anything) and is ediatable in basic editors\n",
    "\n",
    "* More complex than simple tables\n",
    "* Highly structured - if you dont follow the rules, you are out\n",
    "* Both sides need to understand the structure (comments in yaml)\n",
    "* only data, no code to be run (security measure)\n",
    "* distributed as text/string (to be precise as `bytes` literals) \n",
    "* parsed to objects - easy to work with straight away\n",
    "* Can be persisted as special files, or some data streams from APIs. \n",
    "* Human readable\n",
    "* Hierarchical\n",
    "* Can be fetched using standard web APIs\n",
    "\n",
    "### Purpose\n",
    "\n",
    "1. Communication \n",
    "    * All imaginable communication channels\n",
    "    * Applications within single server/machine\n",
    "    * Only transferring of data\n",
    "    * Both sides need to understand the structure\n",
    "\n",
    "2. Storing\n",
    "    * self-descriptive\n",
    "    * human readable\n",
    "    * also in DBs - SQL, MongoDB etc.\n",
    "\n",
    "3. Standardization\n",
    "    * predictability\n",
    "    * cooperation\n",
    "    * spillovers from standardization\n",
    "\n",
    "\n",
    "### Dimensionality problem\n",
    "\n",
    "* rich information comes at costs of data complexity \n",
    "* to interrelate information, you need to high dimensionality (or A LOT of columns) or declaratory formats such as protobuf\n",
    "* Strongly object-oriented\n",
    "\n",
    "\n",
    "### 1D:\n",
    "* logs\n",
    "\n",
    "### 2D: CSVs\n",
    "* tabular data (like pandas DFs)\n",
    "\n",
    "### 3+D:\n",
    "#### XML\n",
    "* eXtensible Markup Language is a software- and hardware-independent tool for storing and transporting data.\n",
    "* Officialy defined at 1998, but its roots are even older.\n",
    "* XML was designed to carry data - with focus on what data is\n",
    "* HTML was designed to display data - with focus on what data should look like displayed \n",
    "* XML tags are not predefined like HTML tags are\n",
    "* more verbose than JSON\n",
    "* can have comments !actually a really cool in useful feature!\n",
    "* used historically as a transaction format in many areas: \n",
    "    * Scientific measurements\n",
    "    * News information\n",
    "    * Wheather measurements\n",
    "    * Financial transactions\n",
    "* Necessary to use XML parser to use in Python or in JavaScript\n",
    "\n",
    "\n",
    "### JSON\n",
    "* JavaScript Object Notation\n",
    "* often *.json* files\n",
    "* but also used in the web etc.\n",
    "* supports standard datatypes - strings, integers, floats, lists\n",
    "* No comments\n",
    "* More compact, less verbose\n",
    "* No closing tags\n",
    "* Used EVERYWHERE, BUT [NOT LICENSED FOR EVIL](https://www.json.org/license.html). If you want to do evil stuff, use XML instead.\n",
    "* Native in JavaScript and close to native in Python (dictionary)\n",
    "* Jupyter Notebooks\n",
    "\n",
    "\n",
    "* common pitfals: properly formatted JSON is different to python dict. -> check: https://jsonlint.com/\n"
   ]
  },
  {
   "cell_type": "markdown",
   "metadata": {},
   "source": [
    "# JSON"
   ]
  },
  {
   "cell_type": "code",
   "execution_count": null,
   "metadata": {},
   "outputs": [],
   "source": [
    "# general representation of a dictionary\n",
    "# emphasis on accessibility -> key-value ( hash table )\n",
    "# contains records, lists, or other dictionaries\n",
    "\n",
    "teachers = [\n",
    "    {'name':'Jozef Baruník','titles':['doc.','PhDr.','Ph.D.','Bc.','Mgr.'],'ID':1234,'courses':['JEM005','JEM116','JEM059','JEM061']},\n",
    "    {'name':'Martin Hronec','titles':['Bc.','Mgr.'],'ID':3421,'courses':['JEM005','JEM207']},\n",
    "]\n",
    "\n",
    "courses = {\n",
    "    \"JEM005\":{'name':'Advanced Econometrics','ECTS':6,'teachers':[3421,1234]},\n",
    "    'JEM207':{'name':'Data Processing in Python','ECTS':5,'teachers':[3421]},\n",
    "    'JEM116':{'name':'Applied Econometrics','ECTS':6,'teachers':[1234]},\n",
    "    'JEM059':{'name':'Quantitative Finance I.','ECTS':6,'teachers':[1234,5678]},\n",
    "    'JEM061':{'name':'Quantitative Finance II.','ECTS':6,'teachers':[1234,5678]}\n",
    "}\n",
    "jsondata = {'teachers':teachers,'courses':courses}\n",
    "jsondata"
   ]
  },
  {
   "cell_type": "markdown",
   "metadata": {},
   "source": [
    "is this a valid JSON?"
   ]
  },
  {
   "cell_type": "markdown",
   "metadata": {},
   "source": [
    "https://jsonformatter.curiousconcept.com/"
   ]
  },
  {
   "cell_type": "markdown",
   "metadata": {},
   "source": [
    "![python and JSON](./06_pics/python_json.png)"
   ]
  },
  {
   "cell_type": "code",
   "execution_count": null,
   "metadata": {},
   "outputs": [],
   "source": [
    "js = json.dumps(\n",
    "    jsondata\n",
    ") #json formatted string!\n",
    "\n",
    "isinstance(js,str)\n"
   ]
  },
  {
   "cell_type": "code",
   "execution_count": null,
   "metadata": {},
   "outputs": [],
   "source": [
    "js"
   ]
  },
  {
   "cell_type": "code",
   "execution_count": null,
   "metadata": {},
   "outputs": [],
   "source": [
    "jsondata['courses']['JEM005']['test']='test'"
   ]
  },
  {
   "cell_type": "code",
   "execution_count": null,
   "metadata": {},
   "outputs": [],
   "source": [
    "pd.DataFrame(jsondata['courses']).transpose()"
   ]
  },
  {
   "cell_type": "code",
   "execution_count": null,
   "metadata": {},
   "outputs": [],
   "source": [
    "dfc = pd.read_json(json.dumps(jsondata['courses']),orient='index')\n",
    "dfc"
   ]
  },
  {
   "cell_type": "code",
   "execution_count": null,
   "metadata": {},
   "outputs": [],
   "source": [
    "# lets come back to this a little later"
   ]
  },
  {
   "cell_type": "markdown",
   "metadata": {},
   "source": [
    "# eXtensible Markup Language (XML)\n",
    "\n",
    "* elements\n",
    "* attributes\n",
    "* tags\n",
    "\n",
    "### Tag\n",
    "> <>\n",
    "\n",
    "### Element"
   ]
  },
  {
   "cell_type": "markdown",
   "metadata": {
    "jupyter": {
     "outputs_hidden": false
    }
   },
   "source": [
    "### Convert to python data-types"
   ]
  },
  {
   "cell_type": "markdown",
   "metadata": {
    "jupyter": {
     "outputs_hidden": false
    }
   },
   "source": []
  },
  {
   "cell_type": "code",
   "execution_count": null,
   "metadata": {},
   "outputs": [],
   "source": [
    "#either\n",
    "'''<element>content</element>'''\n",
    "\n",
    "#or self-closing (no content)\n",
    "'''<element />''';\n",
    "# <br />"
   ]
  },
  {
   "cell_type": "markdown",
   "metadata": {},
   "source": [
    "### Attributes"
   ]
  },
  {
   "cell_type": "code",
   "execution_count": null,
   "metadata": {},
   "outputs": [],
   "source": [
    "'''<element attr=\"value\" />''';"
   ]
  },
  {
   "cell_type": "markdown",
   "metadata": {},
   "source": [
    "![XML tree structure](./06_pics/xml_tree_structure.png)"
   ]
  },
  {
   "cell_type": "markdown",
   "metadata": {},
   "source": [
    "```xml\n",
    "<bookstore>\n",
    "    <book category=\"fiction\">\n",
    "        <title lang=\"ENG\">Everyday Italian</title>\n",
    "        <title lang=\"CZE\">AAaAA</title>\n",
    "        <author>Giada De Laurentis</author>\n",
    "        <year>2005</year>\n",
    "        <price>30.00</price>\n",
    "    </book>\n",
    "</bookstore>\n",
    "```"
   ]
  },
  {
   "cell_type": "markdown",
   "metadata": {},
   "source": [
    "```json\n",
    "{\n",
    "    \"bookstore\":[\n",
    "        {\n",
    "            \"title\":\"Everyday Italian\",\n",
    "            \"lang\":\"ENG\",\n",
    "            \"author\":\"Giada de Laurentis\",\n",
    "            \"year\":2005,\n",
    "            \"price\":30\n",
    "        }\n",
    "    ]\n",
    "}\n",
    "```\n",
    "\n",
    "\n",
    "Takeaway: JSON and XML are not equivalents and cannot be freely mirrored. Unfortunately.\n",
    "\n",
    "JSON cannot have multiple tags with different properties ->title_en, title_cze  perhaps"
   ]
  },
  {
   "cell_type": "markdown",
   "metadata": {},
   "source": [
    "## Navigation\n",
    "* Xpath\n",
    "* CSS selectors \n",
    "* **BeautifulSoup**"
   ]
  },
  {
   "cell_type": "markdown",
   "metadata": {},
   "source": [
    "### BeatifulSoup in detail\n",
    "each BS object represents\n",
    "* an element\n",
    "* the position in tree"
   ]
  },
  {
   "cell_type": "code",
   "execution_count": null,
   "metadata": {},
   "outputs": [],
   "source": [
    "'''string  on more \n",
    "nes '''"
   ]
  },
  {
   "cell_type": "code",
   "execution_count": null,
   "metadata": {},
   "outputs": [],
   "source": [
    "xml = '''\n",
    "<?xml version=\"1.0\" encoding=\"utf-8\"?>\n",
    "<ies_data>\n",
    "    <courses>\n",
    "        <course id=\"JEM005\" ects=\"6\" name=\"Advanced Econometrics\">\n",
    "           <teacher-id>3421</teacher-id>\n",
    "           <teacher-id>1234</teacher-id>\n",
    "        </course>\n",
    "        <course id=\"JEM207\" ects=\"5\" name=\"Data Processing in Python\">\n",
    "            <teacher-id>3421</teacher-id>\n",
    "        </course>\n",
    "            <course id=\"JEM116\" ects=\"6\" name=\"Applied Econometrics I.\">\n",
    "            <teacher-id>1234</teacher-id>\n",
    "        </course>\n",
    "        <course id=\"JEM059\" ects=\"6\" name=\"Quantitative Finance I.\">\n",
    "            <teacher-id>1234</teacher-id>\n",
    "            <teacher-id>5678</teacher-id>\n",
    "        </course>\n",
    "        <course id=\"JEM061\" ects=\"6\" name=\"Quantitative Finance II.\">\n",
    "            <teacher-id>1234</teacher-id>\n",
    "            <teacher-id>5678</teacher-id>\n",
    "        </course>\n",
    "    </courses>\n",
    "    <teachers>\n",
    "        <teacher teacher-id=\"3421\">\n",
    "            <name>Martin Hronec</name>\n",
    "        </teacher>\n",
    "        <teacher teacher-id=\"1234\">\n",
    "            <name>Jozef Baruník</name>\n",
    "        </teacher>\n",
    "        <teacher teacher-id=\"5678\">\n",
    "            <name>Lukáš Vácha</name>\n",
    "        </teacher>\n",
    "    </teachers>\n",
    "</ies_data>\n",
    "'''\n",
    "\n",
    "#unlike HTML, those tag names are defined by Vitek - no one else 'can' understand them -> flexibility is limited. But same issue with JSON to be fair\n",
    "\n",
    "soup = BeautifulSoup(xml)"
   ]
  },
  {
   "cell_type": "code",
   "execution_count": null,
   "metadata": {},
   "outputs": [],
   "source": [
    "dir(soup)"
   ]
  },
  {
   "cell_type": "markdown",
   "metadata": {},
   "source": [
    "```find()``` will find a **first** element given the input\n",
    "\n",
    "```find_all()``` or ```findAll()```  finds a **all** elements given the input"
   ]
  },
  {
   "cell_type": "code",
   "execution_count": 22,
   "metadata": {},
   "outputs": [
    {
     "data": {
      "text/plain": [
       "<teacher-id>3421</teacher-id>"
      ]
     },
     "execution_count": 22,
     "metadata": {},
     "output_type": "execute_result"
    }
   ],
   "source": [
    "soup.find_all('course')[0].find('teacher-id')"
   ]
  },
  {
   "cell_type": "code",
   "execution_count": 24,
   "metadata": {},
   "outputs": [],
   "source": [
    "jem059 = soup.find('course',{'id':'JEM059'}) #looking for a tag with attrbitues (optional)"
   ]
  },
  {
   "cell_type": "code",
   "execution_count": 25,
   "metadata": {},
   "outputs": [
    {
     "data": {
      "text/plain": [
       "<course ects=\"6\" id=\"JEM059\" name=\"Quantitative Finance I.\">\n",
       "<teacher-id>1234</teacher-id>\n",
       "<teacher-id>5678</teacher-id>\n",
       "</course>"
      ]
     },
     "execution_count": 25,
     "metadata": {},
     "output_type": "execute_result"
    }
   ],
   "source": [
    "jem059"
   ]
  },
  {
   "cell_type": "code",
   "execution_count": 26,
   "metadata": {},
   "outputs": [
    {
     "data": {
      "text/plain": [
       "[<teacher-id>3421</teacher-id>,\n",
       " <teacher-id>1234</teacher-id>,\n",
       " <teacher-id>3421</teacher-id>,\n",
       " <teacher-id>1234</teacher-id>,\n",
       " <teacher-id>1234</teacher-id>,\n",
       " <teacher-id>5678</teacher-id>,\n",
       " <teacher-id>1234</teacher-id>,\n",
       " <teacher-id>5678</teacher-id>]"
      ]
     },
     "execution_count": 26,
     "metadata": {},
     "output_type": "execute_result"
    }
   ],
   "source": [
    "soup.findAll('teacher-id')"
   ]
  },
  {
   "cell_type": "markdown",
   "metadata": {},
   "source": [
    "`soup['attr']` will return the value of attribute"
   ]
  },
  {
   "cell_type": "code",
   "execution_count": 27,
   "metadata": {},
   "outputs": [
    {
     "name": "stdout",
     "output_type": "stream",
     "text": [
      "6\n",
      "Quantitative Finance I.\n"
     ]
    }
   ],
   "source": [
    "print(jem059['ects'])\n",
    "print(jem059['name'])"
   ]
  },
  {
   "cell_type": "code",
   "execution_count": 28,
   "metadata": {},
   "outputs": [
    {
     "data": {
      "text/plain": [
       "[<teacher-id>3421</teacher-id>,\n",
       " <teacher-id>1234</teacher-id>,\n",
       " <teacher-id>3421</teacher-id>,\n",
       " <teacher-id>1234</teacher-id>,\n",
       " <teacher-id>1234</teacher-id>,\n",
       " <teacher-id>5678</teacher-id>,\n",
       " <teacher-id>1234</teacher-id>,\n",
       " <teacher-id>5678</teacher-id>]"
      ]
     },
     "execution_count": 28,
     "metadata": {},
     "output_type": "execute_result"
    }
   ],
   "source": [
    "soup.findAll('teacher-id')"
   ]
  },
  {
   "cell_type": "code",
   "execution_count": 29,
   "metadata": {},
   "outputs": [
    {
     "data": {
      "text/plain": [
       "<course ects=\"6\" id=\"JEM059\" name=\"Quantitative Finance I.\">\n",
       "<teacher-id>1234</teacher-id>\n",
       "<teacher-id>5678</teacher-id>\n",
       "</course>"
      ]
     },
     "execution_count": 29,
     "metadata": {},
     "output_type": "execute_result"
    }
   ],
   "source": [
    "jem059"
   ]
  },
  {
   "cell_type": "markdown",
   "metadata": {},
   "source": [
    "you can also navigate horizontally"
   ]
  },
  {
   "cell_type": "code",
   "execution_count": 30,
   "metadata": {},
   "outputs": [],
   "source": [
    "jem059.findNext('course').findNext('course')"
   ]
  },
  {
   "cell_type": "code",
   "execution_count": 34,
   "metadata": {},
   "outputs": [
    {
     "data": {
      "text/plain": [
       "<course ects=\"5\" id=\"JEM207\" name=\"Data Processing in Python\">\n",
       "<teacher-id>3421</teacher-id>\n",
       "</course>"
      ]
     },
     "execution_count": 34,
     "metadata": {},
     "output_type": "execute_result"
    }
   ],
   "source": [
    "jem059.findPrevious('course').findPrevious('course')"
   ]
  },
  {
   "cell_type": "markdown",
   "metadata": {},
   "source": [
    "and even upstream!"
   ]
  },
  {
   "cell_type": "code",
   "execution_count": 36,
   "metadata": {},
   "outputs": [
    {
     "data": {
      "text/plain": [
       "<ies_data>\n",
       "<courses>\n",
       "<course ects=\"6\" id=\"JEM005\" name=\"Advanced Econometrics\">\n",
       "<teacher-id>3421</teacher-id>\n",
       "<teacher-id>1234</teacher-id>\n",
       "</course>\n",
       "<course ects=\"5\" id=\"JEM207\" name=\"Data Processing in Python\">\n",
       "<teacher-id>3421</teacher-id>\n",
       "</course>\n",
       "<course ects=\"6\" id=\"JEM116\" name=\"Applied Econometrics I.\">\n",
       "<teacher-id>1234</teacher-id>\n",
       "</course>\n",
       "<course ects=\"6\" id=\"JEM059\" name=\"Quantitative Finance I.\">\n",
       "<teacher-id>1234</teacher-id>\n",
       "<teacher-id>5678</teacher-id>\n",
       "</course>\n",
       "<course ects=\"6\" id=\"JEM061\" name=\"Quantitative Finance II.\">\n",
       "<teacher-id>1234</teacher-id>\n",
       "<teacher-id>5678</teacher-id>\n",
       "</course>\n",
       "</courses>\n",
       "<teachers>\n",
       "<teacher teacher-id=\"3421\">\n",
       "<name>Martin Hronec</name>\n",
       "</teacher>\n",
       "<teacher teacher-id=\"1234\">\n",
       "<name>Jozef Baruník</name>\n",
       "</teacher>\n",
       "<teacher teacher-id=\"5678\">\n",
       "<name>Lukáš Vácha</name>\n",
       "</teacher>\n",
       "</teachers>\n",
       "</ies_data>"
      ]
     },
     "execution_count": 36,
     "metadata": {},
     "output_type": "execute_result"
    }
   ],
   "source": [
    "jem059.parent.parent"
   ]
  },
  {
   "cell_type": "code",
   "execution_count": 38,
   "metadata": {},
   "outputs": [
    {
     "name": "stdout",
     "output_type": "stream",
     "text": [
      "[3421, 1234, 3421, 1234, 1234, 5678, 1234, 5678]\n"
     ]
    },
    {
     "data": {
      "text/plain": [
       "{1234, 3421, 5678}"
      ]
     },
     "execution_count": 38,
     "metadata": {},
     "output_type": "execute_result"
    }
   ],
   "source": [
    "#get all teacher ids\n",
    "teacher_ids = [int(t.text) for t in soup.findAll('teacher-id')]\n",
    "print(teacher_ids)\n",
    "#get unique\n",
    "set(teacher_ids)"
   ]
  },
  {
   "cell_type": "code",
   "execution_count": 39,
   "metadata": {},
   "outputs": [
    {
     "data": {
      "text/plain": [
       "{'id': 'JEM005',\n",
       " 'name': 'Advanced Econometrics',\n",
       " 'ects': '6',\n",
       " 'teachers': [3421, 1234]}"
      ]
     },
     "execution_count": 39,
     "metadata": {},
     "output_type": "execute_result"
    }
   ],
   "source": [
    "course = soup.find('course')\n",
    "d = {\n",
    "    'id':course['id'],\n",
    "    'name':course['name'],\n",
    "    'ects':course['ects'],\n",
    "    'teachers':[int(t.text) for t in course.findAll('teacher-id')]\n",
    "}\n",
    "d"
   ]
  },
  {
   "cell_type": "markdown",
   "metadata": {},
   "source": [
    "### Can convert to JSON-like"
   ]
  },
  {
   "cell_type": "code",
   "execution_count": 40,
   "metadata": {},
   "outputs": [
    {
     "data": {
      "text/plain": [
       "[{'id': 'JEM005',\n",
       "  'name': 'Advanced Econometrics',\n",
       "  'ects': '6',\n",
       "  'teachers': [3421, 1234]},\n",
       " {'id': 'JEM207',\n",
       "  'name': 'Data Processing in Python',\n",
       "  'ects': '5',\n",
       "  'teachers': [3421]},\n",
       " {'id': 'JEM116',\n",
       "  'name': 'Applied Econometrics I.',\n",
       "  'ects': '6',\n",
       "  'teachers': [1234]},\n",
       " {'id': 'JEM059',\n",
       "  'name': 'Quantitative Finance I.',\n",
       "  'ects': '6',\n",
       "  'teachers': [1234, 5678]},\n",
       " {'id': 'JEM061',\n",
       "  'name': 'Quantitative Finance II.',\n",
       "  'ects': '6',\n",
       "  'teachers': [1234, 5678]}]"
      ]
     },
     "execution_count": 40,
     "metadata": {},
     "output_type": "execute_result"
    }
   ],
   "source": [
    "l = []\n",
    "for course in soup.findAll('course'):\n",
    "    d = {'id':course['id'],\n",
    "         'name':course['name'],\n",
    "         'ects':course['ects'],\n",
    "         'teachers':[int(t.text) for t in course.findAll('teacher-id')]}\n",
    "    l.append(d)\n",
    "l"
   ]
  },
  {
   "cell_type": "markdown",
   "metadata": {},
   "source": [
    "### Or in list-comprehension syntax"
   ]
  },
  {
   "cell_type": "code",
   "execution_count": 42,
   "metadata": {},
   "outputs": [],
   "source": [
    "l = [{\n",
    "    'id':course['id'],\n",
    "    'name':course['name'],\n",
    "    'ects':course['ects'],\n",
    "    'teachers':[int(t.text) for t in course.findAll('teacher-id')]\n",
    "} for course in soup.findAll('course')]"
   ]
  },
  {
   "cell_type": "code",
   "execution_count": 43,
   "metadata": {},
   "outputs": [
    {
     "data": {
      "text/plain": [
       "[{'id': 'JEM005',\n",
       "  'name': 'Advanced Econometrics',\n",
       "  'ects': '6',\n",
       "  'teachers': [3421, 1234]},\n",
       " {'id': 'JEM207',\n",
       "  'name': 'Data Processing in Python',\n",
       "  'ects': '5',\n",
       "  'teachers': [3421]},\n",
       " {'id': 'JEM116',\n",
       "  'name': 'Applied Econometrics I.',\n",
       "  'ects': '6',\n",
       "  'teachers': [1234]},\n",
       " {'id': 'JEM059',\n",
       "  'name': 'Quantitative Finance I.',\n",
       "  'ects': '6',\n",
       "  'teachers': [1234, 5678]},\n",
       " {'id': 'JEM061',\n",
       "  'name': 'Quantitative Finance II.',\n",
       "  'ects': '6',\n",
       "  'teachers': [1234, 5678]}]"
      ]
     },
     "execution_count": 43,
     "metadata": {},
     "output_type": "execute_result"
    }
   ],
   "source": [
    "l"
   ]
  },
  {
   "cell_type": "code",
   "execution_count": 44,
   "metadata": {},
   "outputs": [
    {
     "data": {
      "text/html": [
       "<div>\n",
       "<style scoped>\n",
       "    .dataframe tbody tr th:only-of-type {\n",
       "        vertical-align: middle;\n",
       "    }\n",
       "\n",
       "    .dataframe tbody tr th {\n",
       "        vertical-align: top;\n",
       "    }\n",
       "\n",
       "    .dataframe thead th {\n",
       "        text-align: right;\n",
       "    }\n",
       "</style>\n",
       "<table border=\"1\" class=\"dataframe\">\n",
       "  <thead>\n",
       "    <tr style=\"text-align: right;\">\n",
       "      <th></th>\n",
       "      <th>id</th>\n",
       "      <th>name</th>\n",
       "      <th>ects</th>\n",
       "      <th>teachers</th>\n",
       "    </tr>\n",
       "  </thead>\n",
       "  <tbody>\n",
       "    <tr>\n",
       "      <th>0</th>\n",
       "      <td>JEM005</td>\n",
       "      <td>Advanced Econometrics</td>\n",
       "      <td>6</td>\n",
       "      <td>[3421, 1234]</td>\n",
       "    </tr>\n",
       "    <tr>\n",
       "      <th>1</th>\n",
       "      <td>JEM207</td>\n",
       "      <td>Data Processing in Python</td>\n",
       "      <td>5</td>\n",
       "      <td>[3421]</td>\n",
       "    </tr>\n",
       "    <tr>\n",
       "      <th>2</th>\n",
       "      <td>JEM116</td>\n",
       "      <td>Applied Econometrics I.</td>\n",
       "      <td>6</td>\n",
       "      <td>[1234]</td>\n",
       "    </tr>\n",
       "    <tr>\n",
       "      <th>3</th>\n",
       "      <td>JEM059</td>\n",
       "      <td>Quantitative Finance I.</td>\n",
       "      <td>6</td>\n",
       "      <td>[1234, 5678]</td>\n",
       "    </tr>\n",
       "    <tr>\n",
       "      <th>4</th>\n",
       "      <td>JEM061</td>\n",
       "      <td>Quantitative Finance II.</td>\n",
       "      <td>6</td>\n",
       "      <td>[1234, 5678]</td>\n",
       "    </tr>\n",
       "  </tbody>\n",
       "</table>\n",
       "</div>"
      ],
      "text/plain": [
       "       id                       name ects      teachers\n",
       "0  JEM005      Advanced Econometrics    6  [3421, 1234]\n",
       "1  JEM207  Data Processing in Python    5        [3421]\n",
       "2  JEM116    Applied Econometrics I.    6        [1234]\n",
       "3  JEM059    Quantitative Finance I.    6  [1234, 5678]\n",
       "4  JEM061   Quantitative Finance II.    6  [1234, 5678]"
      ]
     },
     "execution_count": 44,
     "metadata": {},
     "output_type": "execute_result"
    }
   ],
   "source": [
    "pd.DataFrame(l)"
   ]
  },
  {
   "cell_type": "markdown",
   "metadata": {},
   "source": [
    "# HTML\n",
    "standard web-page consists of:\n",
    "\n",
    "* Browser-executed code (`front-end`)\n",
    "    * HTML \"DOM\" structure - the website content\n",
    "        * List of elements that are on website\n",
    "        * Links to CSS classes, ids and\n",
    "    * CSS stylesheets - website graphics\n",
    "    * JavaScripts - website interactivity    \n",
    "\n",
    "* Server-executed (`back-end`)\n",
    "    * Server, database, app logic etc.\n",
    "    * Not available for scraping!\n",
    "    * May be available as API\n",
    "\n",
    "\n",
    "## Web-scraping\n",
    "* client side only\n",
    "* Navigating HTML DOM by taking advantage of CSS structure\n",
    "\n",
    "## DOM (Document Object Module):"
   ]
  },
  {
   "cell_type": "code",
   "execution_count": 46,
   "metadata": {},
   "outputs": [
    {
     "ename": "NameError",
     "evalue": "name 'HTML' is not defined",
     "output_type": "error",
     "traceback": [
      "\u001b[1;31m---------------------------------------------------------------------------\u001b[0m",
      "\u001b[1;31mNameError\u001b[0m                                 Traceback (most recent call last)",
      "Cell \u001b[1;32mIn[46], line 50\u001b[0m\n\u001b[0;32m      1\u001b[0m html \u001b[38;5;241m=\u001b[39m \u001b[38;5;124m'''\u001b[39m\n\u001b[0;32m      2\u001b[0m \u001b[38;5;124m<html>\u001b[39m\n\u001b[0;32m      3\u001b[0m \u001b[38;5;124m    <head>\u001b[39m\n\u001b[1;32m   (...)\u001b[0m\n\u001b[0;32m     48\u001b[0m \u001b[38;5;124m</html>\u001b[39m\n\u001b[0;32m     49\u001b[0m \u001b[38;5;124m'''\u001b[39m\n\u001b[1;32m---> 50\u001b[0m display(\u001b[43mHTML\u001b[49m(html))\n",
      "\u001b[1;31mNameError\u001b[0m: name 'HTML' is not defined"
     ]
    }
   ],
   "source": [
    "html = '''\n",
    "<html>\n",
    "    <head>\n",
    "        <title>Sample page</title>\n",
    "    <script>\n",
    "        function click_button() {\n",
    "            alert('Hi guys, still enjoying Python?!')\n",
    "        }\n",
    "    </script>\n",
    "    <style>\n",
    "        #content div {\n",
    "            color:black;\n",
    "        }\n",
    "        .firstRow {\n",
    "            background-color:#ddd;\n",
    "        }\n",
    "\n",
    "        .normalRow {\n",
    "            background-color:white;\n",
    "        }\n",
    "    </style>\n",
    "    </head>\n",
    "    \n",
    "    <body>\n",
    "        <div id=\"header\">\n",
    "            My page header\n",
    "        </div>\n",
    "        <div id=\"table_container\">\n",
    "            <table>\n",
    "                <tr class=\"firstRow\">\n",
    "                    <td>name</td>\n",
    "                    <td>number</td>\n",
    "                </tr>\n",
    "                <tr class=\"normalRow\">\n",
    "                    <td>B</td>\n",
    "                    <td>2</td>\n",
    "                </tr>\n",
    "                <tr class=\"normalRow\">\n",
    "                    <td>C</td>\n",
    "                    <td>3</td>\n",
    "                </tr>\n",
    "            </table>\n",
    "        </div>\n",
    "        <div id=\"button_container\">\n",
    "            <button id=\"btn\" onclick=\"click_button()\">Click Me!</button>\n",
    "        </div\n",
    "    </body>\n",
    "</html>\n",
    "'''\n",
    "display(HTML(html))"
   ]
  },
  {
   "cell_type": "code",
   "execution_count": 49,
   "metadata": {},
   "outputs": [
    {
     "data": {
      "text/plain": [
       "<html>\n",
       "<head>\n",
       "<title>Sample page</title>\n",
       "<script>\n",
       "        function click_button() {\n",
       "            alert('Hi guys, still enjoying Python?!')\n",
       "        }\n",
       "    </script>\n",
       "<style>\n",
       "        #content div {\n",
       "            color:black;\n",
       "        }\n",
       "        .firstRow {\n",
       "            background-color:#ddd;\n",
       "        }\n",
       "\n",
       "        .normalRow {\n",
       "            background-color:white;\n",
       "        }\n",
       "    </style>\n",
       "</head>\n",
       "<body>\n",
       "<div id=\"header\">\n",
       "            My page header\n",
       "        </div>\n",
       "<div id=\"table_container\">\n",
       "<table>\n",
       "<tr class=\"firstRow\">\n",
       "<td>name</td>\n",
       "<td>number</td>\n",
       "</tr>\n",
       "<tr class=\"normalRow\">\n",
       "<td>B</td>\n",
       "<td>2</td>\n",
       "</tr>\n",
       "<tr class=\"normalRow\">\n",
       "<td>C</td>\n",
       "<td>3</td>\n",
       "</tr>\n",
       "</table>\n",
       "</div>\n",
       "<div id=\"button_container\">\n",
       "<button id=\"btn\" onclick=\"click_button()\">Click Me!</button>\n",
       "</div>\n",
       "</body></html>"
      ]
     },
     "execution_count": 49,
     "metadata": {},
     "output_type": "execute_result"
    }
   ],
   "source": [
    "soup = BeautifulSoup(html,'html')\n",
    "soup"
   ]
  },
  {
   "cell_type": "code",
   "execution_count": 50,
   "metadata": {},
   "outputs": [
    {
     "data": {
      "text/plain": [
       "[<tr class=\"normalRow\">\n",
       " <td>B</td>\n",
       " <td>2</td>\n",
       " </tr>,\n",
       " <tr class=\"normalRow\">\n",
       " <td>C</td>\n",
       " <td>3</td>\n",
       " </tr>]"
      ]
     },
     "execution_count": 50,
     "metadata": {},
     "output_type": "execute_result"
    }
   ],
   "source": [
    "rows = soup.findAll('tr',{'class','normalRow'})\n",
    "rows"
   ]
  },
  {
   "cell_type": "code",
   "execution_count": 51,
   "metadata": {},
   "outputs": [
    {
     "data": {
      "text/plain": [
       "B    2\n",
       "C    3\n",
       "dtype: int64"
      ]
     },
     "execution_count": 51,
     "metadata": {},
     "output_type": "execute_result"
    }
   ],
   "source": [
    "d = {}\n",
    "\n",
    "for row in rows:\n",
    "    key = row.findAll('td')[0].text\n",
    "    val = int(row.findAll('td')[1].text)\n",
    "    d[key] = val\n",
    "pd.Series(d)"
   ]
  },
  {
   "cell_type": "code",
   "execution_count": 52,
   "metadata": {},
   "outputs": [
    {
     "data": {
      "text/plain": [
       "{'B': 2, 'C': 3}"
      ]
     },
     "execution_count": 52,
     "metadata": {},
     "output_type": "execute_result"
    }
   ],
   "source": [
    "d"
   ]
  },
  {
   "cell_type": "code",
   "execution_count": 53,
   "metadata": {},
   "outputs": [
    {
     "data": {
      "text/plain": [
       "B    2\n",
       "C    3\n",
       "dtype: int64"
      ]
     },
     "execution_count": 53,
     "metadata": {},
     "output_type": "execute_result"
    }
   ],
   "source": [
    "pd.Series({\n",
    "    row.findAll('td')[0].text:int(row.findAll('td')[1].text) \n",
    "    for row in BeautifulSoup(html).findAll('tr',{'class':'normalRow'})})"
   ]
  },
  {
   "cell_type": "code",
   "execution_count": 55,
   "metadata": {},
   "outputs": [],
   "source": [
    "soup = BeautifulSoup(html)"
   ]
  },
  {
   "cell_type": "code",
   "execution_count": 56,
   "metadata": {},
   "outputs": [],
   "source": [
    "row = soup.findAll('tr',{'class':'normalRow'})[0]"
   ]
  },
  {
   "cell_type": "code",
   "execution_count": 57,
   "metadata": {},
   "outputs": [
    {
     "data": {
      "text/plain": [
       "<tr class=\"normalRow\">\n",
       "<td>B</td>\n",
       "<td>2</td>\n",
       "</tr>"
      ]
     },
     "execution_count": 57,
     "metadata": {},
     "output_type": "execute_result"
    }
   ],
   "source": [
    "row"
   ]
  },
  {
   "cell_type": "code",
   "execution_count": 61,
   "metadata": {},
   "outputs": [
    {
     "data": {
      "text/plain": [
       "'B'"
      ]
     },
     "execution_count": 61,
     "metadata": {},
     "output_type": "execute_result"
    }
   ],
   "source": [
    "row.findAll('td')[0].text"
   ]
  },
  {
   "cell_type": "code",
   "execution_count": 60,
   "metadata": {},
   "outputs": [
    {
     "data": {
      "text/plain": [
       "2"
      ]
     },
     "execution_count": 60,
     "metadata": {},
     "output_type": "execute_result"
    }
   ],
   "source": [
    "int(row.findAll('td')[1].text)"
   ]
  },
  {
   "cell_type": "code",
   "execution_count": 62,
   "metadata": {},
   "outputs": [
    {
     "data": {
      "text/plain": [
       "{'B': 2, 'C': 3}"
      ]
     },
     "execution_count": 62,
     "metadata": {},
     "output_type": "execute_result"
    }
   ],
   "source": [
    "{row.findAll('td')[0].text:int(row.findAll('td')[1].text) for row in soup.findAll('tr',{'class':'normalRow'})}"
   ]
  },
  {
   "cell_type": "markdown",
   "metadata": {},
   "source": [
    "## HTML Inspection\n",
    "http://ies.fsv.cuni.cz/cs/node/51"
   ]
  },
  {
   "cell_type": "code",
   "execution_count": 63,
   "metadata": {},
   "outputs": [],
   "source": [
    "import requests"
   ]
  },
  {
   "cell_type": "markdown",
   "metadata": {},
   "source": [
    "# requests and internet communication\n",
    "\n",
    "* `Client` asks/requests questions (your Jupyter client)\n",
    "* `Server` replies/serve answers (your Jupyter server)\n",
    "\n",
    "\n",
    "API = *Application Programming Interface*\n",
    "\n",
    "very general term! Not only used in web communication\n",
    "\n",
    "## HTTP requests\n",
    "\n",
    "A most standard webserver communication channel around\n",
    "\n",
    "A standard HTTP request contains:\n",
    "\n",
    "* URL \n",
    "\n",
    "    * domain\n",
    "    * route\n",
    "    * parameters\n",
    "\n",
    "* Request Type - GET, POST, PUT, DELETE (see below)\n",
    "\n",
    "* Content specification - \n",
    "    * Application/JSON\n",
    "    * Application/XML\n",
    "    * text/html\n",
    "    * text/css\n",
    "\n",
    "* Content\n",
    "\n",
    "* Outcoming data (will see below)\n",
    "\n",
    "* Cookies \n",
    "\n",
    "* Status Code:\n",
    "\n",
    "    * 200 - success\n",
    "    * 404 - resource does not exist\n",
    "    * 500 - the server failed during processing your request\n",
    "\n",
    "\n",
    "1) REST API - use HTTP request and returns JSON\n",
    "\n",
    "2) SOAP API - use HTTP request and returns XML\n",
    "\n",
    "3) Website - use HTTP request and returns set of HTML, JavaScript, CSS and other files\n",
    "\n",
    "### When to use?\n",
    "* whenever more applications need to communicate\n",
    "* user-friendly interface for complicated tasks - DEEP AI, Google Maps\n",
    "* Data - Golemio, OpenStreetMaps\n",
    "\n",
    "### GET request\n",
    "* fast\n",
    "* public\n",
    "* data flow only one direction\n",
    "* parameters via request adress\n",
    "\n",
    "> https://www.google.com/search?q=how+to+understand+url+parameters&rlz=1C1GCEU_csCZ860CZ860&oq=how+to+understand+url+parameters&aqs=chrome..69i57j33i22i29i30l7.5237j0j4&sourceid=chrome&ie=UTF-8\n"
   ]
  },
  {
   "cell_type": "code",
   "execution_count": 64,
   "metadata": {},
   "outputs": [
    {
     "data": {
      "text/plain": [
       "'<!DOCTYPE html>\\n<html class=\"client-nojs vector-feature-language-in-header-enabled vector-feature-language-in-main-page-header-disabled vector-feature-sticky-header-disabled vector-feature-page-tools-pinned-disabled vector-feature-toc-pinned-clientpref-1 vector-feature-main-menu-pinned-disabled vector-feature-limited-width-clientpref-1 vector-feature-limited-width-content-enabled vector-feature-custom-font-size-clientpref-0 vector-feature-client-preferences-disabled vector-feature-client-prefs-pinned-disabled vector-feature-night-mode-disabled skin-night-mode-clientpref-0 vector-toc-available\" lang=\"cs\" dir=\"ltr\">\\n<head>\\n<meta charset=\"UTF-8\">\\n<title>Institut ekonomických studií Fakulty sociálních věd Univerzity Karlovy – Wikipedie</title>\\n<script>(function(){var className=\"client-js vector-feature-language-in-header-enabled vector-feature-language-in-main-page-header-disabled vector-feature-sticky-header-disabled vector-feature-page-tools-pinned-disabled vector-feature-toc-pinned-clientpref-1 vector-feature-main-menu-pinned-disabled vector-feature-limited-width-clientpref-1 vector-feature-limited-width-content-enabled vector-feature-custom-font-size-clientpref-0 vector-feature-client-preferences-disabled vector-feature-client-prefs-pinned-disabled vector-feature-night-mode-disabled skin-night-mode-clientpref-0 vector-toc-available\";var cookie=document.cookie.match(/(?:^|; )cswikimwclientpreferences=([^;]+)/);if(cookie){cookie[1].split(\\'%2C\\').forEach(function(pref){className=className.replace(new RegExp(\\'(^| )\\'+pref.replace(/-clientpref-\\\\w+$|[^\\\\w-]+/g,\\'\\')+\\'-clientpref-\\\\\\\\w+( |$)\\'),\\'$1\\'+pref+\\'$2\\');});}document.documentElement.className=className;}());RLCONF={\"wgBreakFrames\":false,\"wgSeparatorTransformTable\":[\",\\\\t.\",\"\\xa0\\\\t,\"],\\n\"wgDigitTransformTable\":[\"\",\"\"],\"wgDefaultDateFormat\":\"ČSN basic dt\",\"wgMonthNames\":[\"\",\"leden\",\"únor\",\"březen\",\"duben\",\"květen\",\"červen\",\"červenec\",\"srpen\",\"září\",\"říjen\",\"listopad\",\"prosinec\"],\"wgRequestId\":\"1ad26b8a-c5bd-4be3-ba22-8a43159599a8\",\"wgCanonicalNamespace\":\"\",\"wgCanonicalSpecialPageName\":false,\"wgNamespaceNumber\":0,\"wgPageName\":\"Institut_ekonomických_studií_Fakulty_sociálních_věd_Univerzity_Karlovy\",\"wgTitle\":\"Institut ekonomických studií Fakulty sociálních věd Univerzity Karlovy\",\"wgCurRevisionId\":23667313,\"wgRevisionId\":23667313,\"wgArticleId\":439632,\"wgIsArticle\":true,\"wgIsRedirect\":false,\"wgAction\":\"view\",\"wgUserName\":null,\"wgUserGroups\":[\"*\"],\"wgCategories\":[\"Monitoring:Adresa z Wikidat\",\"Pahýly\",\"Monitoring:Články s identifikátorem NKC\",\"Monitoring:Články s identifikátorem LCCN\",\"Monitoring:Články s identifikátorem VIAF\",\"Monitoring:Články s identifikátorem WORLDCATID\",\"Monitoring:Stránky s mapami\",\\n\"Fakulta sociálních věd Univerzity Karlovy\"],\"wgPageViewLanguage\":\"cs\",\"wgPageContentLanguage\":\"cs\",\"wgPageContentModel\":\"wikitext\",\"wgRelevantPageName\":\"Institut_ekonomických_studií_Fakulty_sociálních_věd_Univerzity_Karlovy\",\"wgRelevantArticleId\":439632,\"wgIsProbablyEditable\":true,\"wgRelevantPageIsProbablyEditable\":true,\"wgRestrictionEdit\":[],\"wgRestrictionMove\":[],\"wgNoticeProject\":\"wikipedia\",\"wgMediaViewerOnClick\":true,\"wgMediaViewerEnabledByDefault\":true,\"wgPopupsFlags\":6,\"wgVisualEditor\":{\"pageLanguageCode\":\"cs\",\"pageLanguageDir\":\"ltr\",\"pageVariantFallbacks\":\"cs\"},\"wgMFDisplayWikibaseDescriptions\":{\"search\":true,\"watchlist\":true,\"tagline\":true,\"nearby\":true},\"wgWMESchemaEditAttemptStepOversample\":false,\"wgWMEPageLength\":7000,\"wgULSCurrentAutonym\":\"čeština\",\"wgCoordinates\":{\"lat\":50.082219444444,\"lon\":14.431111111111},\"wgCentralAuthMobileDomain\":false,\"wgEditSubmitButtonLabelPublish\":true,\"wgULSPosition\":\"interlanguage\",\"wgULSisCompactLinksEnabled\":false,\\n\"wgVector2022LanguageInHeader\":true,\"wgULSisLanguageSelectorEmpty\":false,\"wgWikibaseItemId\":\"Q12021663\",\"wgCheckUserClientHintsHeadersJsApi\":[\"architecture\",\"bitness\",\"brands\",\"fullVersionList\",\"mobile\",\"model\",\"platform\",\"platformVersion\"],\"GEHomepageSuggestedEditsEnableTopics\":true,\"wgGETopicsMatchModeEnabled\":true,\"wgGEStructuredTaskRejectionReasonTextInputEnabled\":false,\"wgGELevelingUpEnabledForUser\":false};RLSTATE={\"skins.vector.user.styles\":\"ready\",\"ext.globalCssJs.user.styles\":\"ready\",\"site.styles\":\"ready\",\"user.styles\":\"ready\",\"skins.vector.user\":\"ready\",\"ext.globalCssJs.user\":\"ready\",\"user\":\"ready\",\"user.options\":\"loading\",\"ext.kartographer.style\":\"ready\",\"ext.cite.styles\":\"ready\",\"skins.vector.search.codex.styles\":\"ready\",\"skins.vector.styles\":\"ready\",\"skins.vector.icons\":\"ready\",\"ext.visualEditor.desktopArticleTarget.noscript\":\"ready\",\"ext.uls.interlanguage\":\"ready\",\"wikibase.client.init\":\"ready\",\"ext.wikimediaBadges\":\"ready\"};RLPAGEMODULES=[\"ext.kartographer.staticframe\",\\n\"ext.cite.ux-enhancements\",\"mediawiki.page.media\",\"site\",\"mediawiki.page.ready\",\"mediawiki.toc\",\"skins.vector.js\",\"ext.centralNotice.geoIP\",\"ext.centralNotice.startUp\",\"ext.gadget.WikiMiniAtlas\",\"ext.gadget.OSMmapa\",\"ext.gadget.direct-links-to-commons\",\"ext.gadget.ReferenceTooltips\",\"ext.gadget.courses\",\"ext.urlShortener.toolbar\",\"ext.centralauth.centralautologin\",\"mmv.head\",\"mmv.bootstrap.autostart\",\"ext.popups\",\"ext.visualEditor.desktopArticleTarget.init\",\"ext.visualEditor.targetLoader\",\"ext.echo.centralauth\",\"ext.eventLogging\",\"ext.wikimediaEvents\",\"ext.navigationTiming\",\"ext.uls.interface\",\"ext.cx.eventlogging.campaigns\",\"ext.cx.uls.quick.actions\",\"wikibase.client.vector-2022\",\"ext.checkUser.clientHints\",\"ext.growthExperiments.SuggestedEditSession\"];</script>\\n<script>(RLQ=window.RLQ||[]).push(function(){mw.loader.impl(function(){return[\"user.options@12s5i\",function($,jQuery,require,module){mw.user.tokens.set({\"patrolToken\":\"+\\\\\\\\\",\"watchToken\":\"+\\\\\\\\\",\"csrfToken\":\"+\\\\\\\\\"});\\n}];});});</script>\\n<link rel=\"stylesheet\" href=\"/w/load.php?lang=cs&amp;modules=ext.cite.styles%7Cext.kartographer.style%7Cext.uls.interlanguage%7Cext.visualEditor.desktopArticleTarget.noscript%7Cext.wikimediaBadges%7Cskins.vector.icons%2Cstyles%7Cskins.vector.search.codex.styles%7Cwikibase.client.init&amp;only=styles&amp;skin=vector-2022\">\\n<script async=\"\" src=\"/w/load.php?lang=cs&amp;modules=startup&amp;only=scripts&amp;raw=1&amp;skin=vector-2022\"></script>\\n<meta name=\"ResourceLoaderDynamicStyles\" content=\"\">\\n<link rel=\"stylesheet\" href=\"/w/load.php?lang=cs&amp;modules=site.styles&amp;only=styles&amp;skin=vector-2022\">\\n<meta name=\"generator\" content=\"MediaWiki 1.42.0-wmf.23\">\\n<meta name=\"referrer\" content=\"origin\">\\n<meta name=\"referrer\" content=\"origin-when-cross-origin\">\\n<meta name=\"robots\" content=\"max-image-preview:standard\">\\n<meta name=\"format-detection\" content=\"telephone=no\">\\n<meta property=\"og:image\" content=\"https://upload.wikimedia.org/wikipedia/commons/thumb/6/64/Praha%2C_Nov%C3%A9_M%C4%9Bsto%2C_Opletalova%2C_IES_FSV_UK.JPG/1200px-Praha%2C_Nov%C3%A9_M%C4%9Bsto%2C_Opletalova%2C_IES_FSV_UK.JPG\">\\n<meta property=\"og:image:width\" content=\"1200\">\\n<meta property=\"og:image:height\" content=\"1600\">\\n<meta property=\"og:image\" content=\"https://upload.wikimedia.org/wikipedia/commons/thumb/6/64/Praha%2C_Nov%C3%A9_M%C4%9Bsto%2C_Opletalova%2C_IES_FSV_UK.JPG/800px-Praha%2C_Nov%C3%A9_M%C4%9Bsto%2C_Opletalova%2C_IES_FSV_UK.JPG\">\\n<meta property=\"og:image:width\" content=\"800\">\\n<meta property=\"og:image:height\" content=\"1067\">\\n<meta property=\"og:image\" content=\"https://upload.wikimedia.org/wikipedia/commons/thumb/6/64/Praha%2C_Nov%C3%A9_M%C4%9Bsto%2C_Opletalova%2C_IES_FSV_UK.JPG/640px-Praha%2C_Nov%C3%A9_M%C4%9Bsto%2C_Opletalova%2C_IES_FSV_UK.JPG\">\\n<meta property=\"og:image:width\" content=\"640\">\\n<meta property=\"og:image:height\" content=\"853\">\\n<meta name=\"viewport\" content=\"width=1000\">\\n<meta property=\"og:title\" content=\"Institut ekonomických studií Fakulty sociálních věd Univerzity Karlovy – Wikipedie\">\\n<meta property=\"og:type\" content=\"website\">\\n<link rel=\"preconnect\" href=\"//upload.wikimedia.org\">\\n<link rel=\"alternate\" media=\"only screen and (max-width: 720px)\" href=\"//cs.m.wikipedia.org/wiki/Institut_ekonomick%C3%BDch_studi%C3%AD_Fakulty_soci%C3%A1ln%C3%ADch_v%C4%9Bd_Univerzity_Karlovy\">\\n<link rel=\"alternate\" type=\"application/x-wiki\" title=\"Editovat\" href=\"/w/index.php?title=Institut_ekonomick%C3%BDch_studi%C3%AD_Fakulty_soci%C3%A1ln%C3%ADch_v%C4%9Bd_Univerzity_Karlovy&amp;action=edit\">\\n<link rel=\"apple-touch-icon\" href=\"/static/apple-touch/wikipedia.png\">\\n<link rel=\"icon\" href=\"/static/favicon/wikipedia.ico\">\\n<link rel=\"search\" type=\"application/opensearchdescription+xml\" href=\"/w/opensearch_desc.php\" title=\"Wikipedie (cs)\">\\n<link rel=\"EditURI\" type=\"application/rsd+xml\" href=\"//cs.wikipedia.org/w/api.php?action=rsd\">\\n<link rel=\"canonical\" href=\"https://cs.wikipedia.org/wiki/Institut_ekonomick%C3%BDch_studi%C3%AD_Fakulty_soci%C3%A1ln%C3%ADch_v%C4%9Bd_Univerzity_Karlovy\">\\n<link rel=\"license\" href=\"https://creativecommons.org/licenses/by-sa/4.0/deed.cs\">\\n<link rel=\"alternate\" type=\"application/atom+xml\" title=\"Atom kanál Wikipedie.\" href=\"/w/index.php?title=Speci%C3%A1ln%C3%AD:Posledn%C3%AD_zm%C4%9Bny&amp;feed=atom\">\\n<link rel=\"dns-prefetch\" href=\"//meta.wikimedia.org\" />\\n<link rel=\"dns-prefetch\" href=\"//login.wikimedia.org\">\\n</head>\\n<body class=\"skin-vector skin-vector-search-vue mediawiki ltr sitedir-ltr mw-hide-empty-elt ns-0 ns-subject mw-editable page-Institut_ekonomických_studií_Fakulty_sociálních_věd_Univerzity_Karlovy rootpage-Institut_ekonomických_studií_Fakulty_sociálních_věd_Univerzity_Karlovy skin-vector-2022 action-view\"><a class=\"mw-jump-link\" href=\"#bodyContent\">Přeskočit na obsah</a>\\n<div class=\"vector-header-container\">\\n\\t<header class=\"vector-header mw-header\">\\n\\t\\t<div class=\"vector-header-start\">\\n\\t\\t\\t<nav class=\"vector-main-menu-landmark\" aria-label=\"Projekt\" role=\"navigation\">\\n\\t\\t\\t\\t\\n<div id=\"vector-main-menu-dropdown\" class=\"vector-dropdown vector-main-menu-dropdown vector-button-flush-left vector-button-flush-right\"  >\\n\\t<input type=\"checkbox\" id=\"vector-main-menu-dropdown-checkbox\" role=\"button\" aria-haspopup=\"true\" data-event-name=\"ui.dropdown-vector-main-menu-dropdown\" class=\"vector-dropdown-checkbox \"  aria-label=\"Hlavní menu\"  >\\n\\t<label id=\"vector-main-menu-dropdown-label\" for=\"vector-main-menu-dropdown-checkbox\" class=\"vector-dropdown-label cdx-button cdx-button--fake-button cdx-button--fake-button--enabled cdx-button--weight-quiet cdx-button--icon-only \" aria-hidden=\"true\"  ><span class=\"vector-icon mw-ui-icon-menu mw-ui-icon-wikimedia-menu\"></span>\\n\\n<span class=\"vector-dropdown-label-text\">Hlavní menu</span>\\n\\t</label>\\n\\t<div class=\"vector-dropdown-content\">\\n\\n\\n\\t\\t\\t\\t<div id=\"vector-main-menu-unpinned-container\" class=\"vector-unpinned-container\">\\n\\t\\t\\n<div id=\"vector-main-menu\" class=\"vector-main-menu vector-pinnable-element\">\\n\\t<div\\n\\tclass=\"vector-pinnable-header vector-main-menu-pinnable-header vector-pinnable-header-unpinned\"\\n\\tdata-feature-name=\"main-menu-pinned\"\\n\\tdata-pinnable-element-id=\"vector-main-menu\"\\n\\tdata-pinned-container-id=\"vector-main-menu-pinned-container\"\\n\\tdata-unpinned-container-id=\"vector-main-menu-unpinned-container\"\\n>\\n\\t<div class=\"vector-pinnable-header-label\">Hlavní menu</div>\\n\\t<button class=\"vector-pinnable-header-toggle-button vector-pinnable-header-pin-button\" data-event-name=\"pinnable-header.vector-main-menu.pin\">přesunout do postranního panelu</button>\\n\\t<button class=\"vector-pinnable-header-toggle-button vector-pinnable-header-unpin-button\" data-event-name=\"pinnable-header.vector-main-menu.unpin\">skrýt</button>\\n</div>\\n\\n\\t\\n<div id=\"p-navigation\" class=\"vector-menu mw-portlet mw-portlet-navigation\"  >\\n\\t<div class=\"vector-menu-heading\">\\n\\t\\tNavigace\\n\\t</div>\\n\\t<div class=\"vector-menu-content\">\\n\\t\\t\\n\\t\\t<ul class=\"vector-menu-content-list\">\\n\\t\\t\\t\\n\\t\\t\\t<li id=\"n-mainpage\" class=\"mw-list-item\"><a href=\"/wiki/Hlavn%C3%AD_strana\" title=\"Navštívit Hlavní stranu [z]\" accesskey=\"z\"><span>Hlavní strana</span></a></li><li id=\"n-help\" class=\"mw-list-item\"><a href=\"/wiki/N%C3%A1pov%C4%9Bda:Obsah\" title=\"Místo, kde najdete pomoc\"><span>Nápověda</span></a></li><li id=\"n-helpdesk\" class=\"mw-list-item\"><a href=\"/wiki/Wikipedie:Pot%C5%99ebuji_pomoc\" title=\"Pokud si nevíte rady, zeptejte se ostatních\"><span>Potřebuji pomoc</span></a></li><li id=\"n-featuredcontent\" class=\"mw-list-item\"><a href=\"/wiki/Wikipedie:Nejlep%C5%A1%C3%AD_%C4%8Dl%C3%A1nky\" title=\"Přehled článků, které jsou považovány za nejlepší na české Wikipedii\"><span>Nejlepší články</span></a></li><li id=\"n-randompage\" class=\"mw-list-item\"><a href=\"/wiki/Speci%C3%A1ln%C3%AD:N%C3%A1hodn%C3%A1_str%C3%A1nka\" title=\"Přejít na náhodně vybranou stránku [x]\" accesskey=\"x\"><span>Náhodný článek</span></a></li><li id=\"n-recentchanges\" class=\"mw-list-item\"><a href=\"/wiki/Speci%C3%A1ln%C3%AD:Posledn%C3%AD_zm%C4%9Bny\" title=\"Seznam posledních změn na této wiki [r]\" accesskey=\"r\"><span>Poslední změny</span></a></li><li id=\"n-portal\" class=\"mw-list-item\"><a href=\"/wiki/Wikipedie:Port%C3%A1l_Wikipedie\" title=\"O projektu, jak můžete pomoci, kde hledat\"><span>Komunitní portál</span></a></li><li id=\"n-villagepump\" class=\"mw-list-item\"><a href=\"/wiki/Wikipedie:Pod_l%C3%ADpou\" title=\"Hlavní diskusní fórum\"><span>Pod lípou</span></a></li><li id=\"n-sitesupport\" class=\"mw-list-item\"><a href=\"//donate.wikimedia.org/wiki/Special:FundraiserRedirector?utm_source=donate&amp;utm_medium=sidebar&amp;utm_campaign=C13_cs.wikipedia.org&amp;uselang=cs\" title=\"Podpořte nás\"><span>Podpořte Wikipedii</span></a></li>\\n\\t\\t</ul>\\n\\t\\t\\n\\t</div>\\n</div>\\n\\n\\t\\n\\t\\n</div>\\n\\n\\t\\t\\t\\t</div>\\n\\n\\t</div>\\n</div>\\n\\n\\t\\t</nav>\\n\\t\\t\\t\\n<a href=\"/wiki/Hlavn%C3%AD_strana\" class=\"mw-logo\">\\n\\t<img class=\"mw-logo-icon\" src=\"/static/images/icons/wikipedia.png\" alt=\"\" aria-hidden=\"true\" height=\"50\" width=\"50\">\\n\\t<span class=\"mw-logo-container\">\\n\\t\\t<img class=\"mw-logo-wordmark\" alt=\"Wikipedie\" src=\"/static/images/mobile/copyright/wikipedia-wordmark-cs.svg\" style=\"width: 7.5em; height: 1.1875em;\">\\n\\t\\t<img class=\"mw-logo-tagline\" alt=\"Wikipedie: Otevřená encyklopedie\" src=\"/static/images/mobile/copyright/wikipedia-tagline-cs.svg\" width=\"118\" height=\"13\" style=\"width: 7.375em; height: 0.8125em;\">\\n\\t</span>\\n</a>\\n\\n\\t\\t</div>\\n\\t\\t<div class=\"vector-header-end\">\\n\\t\\t\\t\\n<div id=\"p-search\" role=\"search\" class=\"vector-search-box-vue  vector-search-box-collapses vector-search-box-show-thumbnail vector-search-box-auto-expand-width vector-search-box\">\\n\\t<a href=\"/wiki/Speci%C3%A1ln%C3%AD:Hled%C3%A1n%C3%AD\" class=\"cdx-button cdx-button--fake-button cdx-button--fake-button--enabled cdx-button--weight-quiet cdx-button--icon-only search-toggle\" id=\"\" title=\"Prohledat tuto wiki [f]\" accesskey=\"f\"><span class=\"vector-icon mw-ui-icon-search mw-ui-icon-wikimedia-search\"></span>\\n\\n<span>Hledání</span>\\n\\t</a>\\n\\t<div class=\"vector-typeahead-search-container\">\\n\\t\\t<div class=\"cdx-typeahead-search cdx-typeahead-search--show-thumbnail cdx-typeahead-search--auto-expand-width\">\\n\\t\\t\\t<form action=\"/w/index.php\" id=\"searchform\" class=\"cdx-search-input cdx-search-input--has-end-button\">\\n\\t\\t\\t\\t<div id=\"simpleSearch\" class=\"cdx-search-input__input-wrapper\"  data-search-loc=\"header-moved\">\\n\\t\\t\\t\\t\\t<div class=\"cdx-text-input cdx-text-input--has-start-icon\">\\n\\t\\t\\t\\t\\t\\t<input\\n\\t\\t\\t\\t\\t\\t\\tclass=\"cdx-text-input__input\"\\n\\t\\t\\t\\t\\t\\t\\t type=\"search\" name=\"search\" placeholder=\"Hledat na Wikipedii\" aria-label=\"Hledat na Wikipedii\" autocapitalize=\"sentences\" title=\"Prohledat tuto wiki [f]\" accesskey=\"f\" id=\"searchInput\"\\n\\t\\t\\t\\t\\t\\t\\t>\\n\\t\\t\\t\\t\\t\\t<span class=\"cdx-text-input__icon cdx-text-input__start-icon\"></span>\\n\\t\\t\\t\\t\\t</div>\\n\\t\\t\\t\\t\\t<input type=\"hidden\" name=\"title\" value=\"Speciální:Hledání\">\\n\\t\\t\\t\\t</div>\\n\\t\\t\\t\\t<button class=\"cdx-button cdx-search-input__end-button\">Hledat</button>\\n\\t\\t\\t</form>\\n\\t\\t</div>\\n\\t</div>\\n</div>\\n\\n\\t\\t\\t<nav class=\"vector-user-links vector-user-links-wide\" aria-label=\"Osobní nástroje\" role=\"navigation\" >\\n\\t<div class=\"vector-user-links-main\">\\n\\t\\n<div id=\"p-vector-user-menu-preferences\" class=\"vector-menu mw-portlet emptyPortlet\"  >\\n\\t<div class=\"vector-menu-content\">\\n\\t\\t\\n\\t\\t<ul class=\"vector-menu-content-list\">\\n\\t\\t\\t\\n\\t\\t\\t\\n\\t\\t</ul>\\n\\t\\t\\n\\t</div>\\n</div>\\n\\n\\t\\n<div id=\"p-vector-user-menu-userpage\" class=\"vector-menu mw-portlet emptyPortlet\"  >\\n\\t<div class=\"vector-menu-content\">\\n\\t\\t\\n\\t\\t<ul class=\"vector-menu-content-list\">\\n\\t\\t\\t\\n\\t\\t\\t\\n\\t\\t</ul>\\n\\t\\t\\n\\t</div>\\n</div>\\n\\n\\t<nav class=\"vector-client-prefs-landmark\" aria-label=\"Appearance\">\\n\\t\\t\\n\\t\\t\\n\\t</nav>\\n\\t\\n<div id=\"p-vector-user-menu-notifications\" class=\"vector-menu mw-portlet emptyPortlet\"  >\\n\\t<div class=\"vector-menu-content\">\\n\\t\\t\\n\\t\\t<ul class=\"vector-menu-content-list\">\\n\\t\\t\\t\\n\\t\\t\\t\\n\\t\\t</ul>\\n\\t\\t\\n\\t</div>\\n</div>\\n\\n\\t\\n<div id=\"p-vector-user-menu-overflow\" class=\"vector-menu mw-portlet\"  >\\n\\t<div class=\"vector-menu-content\">\\n\\t\\t\\n\\t\\t<ul class=\"vector-menu-content-list\">\\n\\t\\t\\t<li id=\"pt-createaccount-2\" class=\"user-links-collapsible-item mw-list-item user-links-collapsible-item\"><a data-mw=\"interface\" href=\"/w/index.php?title=Speci%C3%A1ln%C3%AD:Vytvo%C5%99it_%C3%BA%C4%8Det&amp;returnto=Institut+ekonomick%C3%BDch+studi%C3%AD+Fakulty+soci%C3%A1ln%C3%ADch+v%C4%9Bd+Univerzity+Karlovy\" title=\"Doporučujeme vytvořit si účet a přihlásit se, ovšem není to povinné\" class=\"\"><span>Vytvoření účtu</span></a>\\n</li>\\n<li id=\"pt-login-2\" class=\"user-links-collapsible-item mw-list-item user-links-collapsible-item\"><a data-mw=\"interface\" href=\"/w/index.php?title=Speci%C3%A1ln%C3%AD:P%C5%99ihl%C3%A1sit&amp;returnto=Institut+ekonomick%C3%BDch+studi%C3%AD+Fakulty+soci%C3%A1ln%C3%ADch+v%C4%9Bd+Univerzity+Karlovy\" title=\"Doporučujeme vám přihlásit se, ovšem není to povinné. [o]\" accesskey=\"o\" class=\"\"><span>Přihlášení</span></a>\\n</li>\\n\\n\\t\\t\\t\\n\\t\\t</ul>\\n\\t\\t\\n\\t</div>\\n</div>\\n\\n\\t</div>\\n\\t\\n<div id=\"vector-user-links-dropdown\" class=\"vector-dropdown vector-user-menu vector-button-flush-right vector-user-menu-logged-out\"  title=\"Další možnosti\" >\\n\\t<input type=\"checkbox\" id=\"vector-user-links-dropdown-checkbox\" role=\"button\" aria-haspopup=\"true\" data-event-name=\"ui.dropdown-vector-user-links-dropdown\" class=\"vector-dropdown-checkbox \"  aria-label=\"Osobní nástroje\"  >\\n\\t<label id=\"vector-user-links-dropdown-label\" for=\"vector-user-links-dropdown-checkbox\" class=\"vector-dropdown-label cdx-button cdx-button--fake-button cdx-button--fake-button--enabled cdx-button--weight-quiet cdx-button--icon-only \" aria-hidden=\"true\"  ><span class=\"vector-icon mw-ui-icon-ellipsis mw-ui-icon-wikimedia-ellipsis\"></span>\\n\\n<span class=\"vector-dropdown-label-text\">Osobní nástroje</span>\\n\\t</label>\\n\\t<div class=\"vector-dropdown-content\">\\n\\n\\n\\t\\t\\n<div id=\"p-personal\" class=\"vector-menu mw-portlet mw-portlet-personal user-links-collapsible-item\"  title=\"Uživatelské menu\" >\\n\\t<div class=\"vector-menu-content\">\\n\\t\\t\\n\\t\\t<ul class=\"vector-menu-content-list\">\\n\\t\\t\\t\\n\\t\\t\\t<li id=\"pt-createaccount\" class=\"user-links-collapsible-item mw-list-item\"><a href=\"/w/index.php?title=Speci%C3%A1ln%C3%AD:Vytvo%C5%99it_%C3%BA%C4%8Det&amp;returnto=Institut+ekonomick%C3%BDch+studi%C3%AD+Fakulty+soci%C3%A1ln%C3%ADch+v%C4%9Bd+Univerzity+Karlovy\" title=\"Doporučujeme vytvořit si účet a přihlásit se, ovšem není to povinné\"><span class=\"vector-icon mw-ui-icon-userAdd mw-ui-icon-wikimedia-userAdd\"></span> <span>Vytvoření účtu</span></a></li><li id=\"pt-login\" class=\"user-links-collapsible-item mw-list-item\"><a href=\"/w/index.php?title=Speci%C3%A1ln%C3%AD:P%C5%99ihl%C3%A1sit&amp;returnto=Institut+ekonomick%C3%BDch+studi%C3%AD+Fakulty+soci%C3%A1ln%C3%ADch+v%C4%9Bd+Univerzity+Karlovy\" title=\"Doporučujeme vám přihlásit se, ovšem není to povinné. [o]\" accesskey=\"o\"><span class=\"vector-icon mw-ui-icon-logIn mw-ui-icon-wikimedia-logIn\"></span> <span>Přihlášení</span></a></li>\\n\\t\\t</ul>\\n\\t\\t\\n\\t</div>\\n</div>\\n\\n<div id=\"p-user-menu-anon-editor\" class=\"vector-menu mw-portlet mw-portlet-user-menu-anon-editor\"  >\\n\\t<div class=\"vector-menu-heading\">\\n\\t\\tStránky pro odhlášené editory <a href=\"/wiki/N%C3%A1pov%C4%9Bda:%C3%9Avod\" aria-label=\"Více informací o editování\"><span>dozvědět se více</span></a>\\n\\t</div>\\n\\t<div class=\"vector-menu-content\">\\n\\t\\t\\n\\t\\t<ul class=\"vector-menu-content-list\">\\n\\t\\t\\t\\n\\t\\t\\t<li id=\"pt-anoncontribs\" class=\"mw-list-item\"><a href=\"/wiki/Speci%C3%A1ln%C3%AD:Moje_p%C5%99%C3%ADsp%C4%9Bvky\" title=\"Seznam editací provedených z této IP adresy [y]\" accesskey=\"y\"><span>Příspěvky</span></a></li><li id=\"pt-anontalk\" class=\"mw-list-item\"><a href=\"/wiki/Speci%C3%A1ln%C3%AD:Moje_diskuse\" title=\"Diskuse o editacích provedených z této IP adresy [n]\" accesskey=\"n\"><span>Diskuse</span></a></li>\\n\\t\\t</ul>\\n\\t\\t\\n\\t</div>\\n</div>\\n\\n\\t\\n\\t</div>\\n</div>\\n\\n</nav>\\n\\n\\t\\t</div>\\n\\t</header>\\n</div>\\n<div class=\"mw-page-container\">\\n\\t<div class=\"mw-page-container-inner\">\\n\\t\\t<div class=\"vector-sitenotice-container\">\\n\\t\\t\\t<div id=\"siteNotice\"><!-- CentralNotice --></div>\\n\\t\\t</div>\\n\\t\\t<div class=\"vector-column-start\">\\n\\t\\t\\t<div class=\"vector-main-menu-container\">\\n\\t\\t<div id=\"mw-navigation\">\\n\\t\\t\\t<nav id=\"mw-panel\" class=\"vector-main-menu-landmark\" aria-label=\"Projekt\" role=\"navigation\">\\n\\t\\t\\t\\t<div id=\"vector-main-menu-pinned-container\" class=\"vector-pinned-container\">\\n\\t\\t\\t\\t\\n\\t\\t\\t\\t</div>\\n\\t\\t</nav>\\n\\t\\t</div>\\n\\t</div>\\n\\t<div class=\"vector-sticky-pinned-container\">\\n\\t\\t\\t\\t<nav id=\"mw-panel-toc\" role=\"navigation\" aria-label=\"Obsah\" data-event-name=\"ui.sidebar-toc\" class=\"mw-table-of-contents-container vector-toc-landmark\">\\n\\t\\t\\t\\t\\t<div id=\"vector-toc-pinned-container\" class=\"vector-pinned-container\">\\n\\t\\t\\t\\t\\t<div id=\"vector-toc\" class=\"vector-toc vector-pinnable-element\">\\n\\t<div\\n\\tclass=\"vector-pinnable-header vector-toc-pinnable-header vector-pinnable-header-pinned\"\\n\\tdata-feature-name=\"toc-pinned\"\\n\\tdata-pinnable-element-id=\"vector-toc\"\\n\\t\\n\\t\\n>\\n\\t<h2 class=\"vector-pinnable-header-label\">Obsah</h2>\\n\\t<button class=\"vector-pinnable-header-toggle-button vector-pinnable-header-pin-button\" data-event-name=\"pinnable-header.vector-toc.pin\">přesunout do postranního panelu</button>\\n\\t<button class=\"vector-pinnable-header-toggle-button vector-pinnable-header-unpin-button\" data-event-name=\"pinnable-header.vector-toc.unpin\">skrýt</button>\\n</div>\\n\\n\\n\\t<ul class=\"vector-toc-contents\" id=\"mw-panel-toc-list\">\\n\\t\\t<li id=\"toc-mw-content-text\"\\n\\t\\t\\tclass=\"vector-toc-list-item vector-toc-level-1\">\\n\\t\\t\\t<a href=\"#\" class=\"vector-toc-link\">\\n\\t\\t\\t\\t<div class=\"vector-toc-text\">(úvod)</div>\\n\\t\\t\\t</a>\\n\\t\\t</li>\\n\\t\\t<li id=\"toc-Programy\"\\n\\t\\tclass=\"vector-toc-list-item vector-toc-level-1 vector-toc-list-item-expanded\">\\n\\t\\t<a class=\"vector-toc-link\" href=\"#Programy\">\\n\\t\\t\\t<div class=\"vector-toc-text\">\\n\\t\\t\\t<span class=\"vector-toc-numb\">1</span>Programy</div>\\n\\t\\t</a>\\n\\t\\t\\n\\t\\t<ul id=\"toc-Programy-sublist\" class=\"vector-toc-list\">\\n\\t\\t</ul>\\n\\t</li>\\n\\t<li id=\"toc-Vyučující\"\\n\\t\\tclass=\"vector-toc-list-item vector-toc-level-1 vector-toc-list-item-expanded\">\\n\\t\\t<a class=\"vector-toc-link\" href=\"#Vyučující\">\\n\\t\\t\\t<div class=\"vector-toc-text\">\\n\\t\\t\\t<span class=\"vector-toc-numb\">2</span>Vyučující</div>\\n\\t\\t</a>\\n\\t\\t\\n\\t\\t<ul id=\"toc-Vyučující-sublist\" class=\"vector-toc-list\">\\n\\t\\t</ul>\\n\\t</li>\\n\\t<li id=\"toc-Odkazy\"\\n\\t\\tclass=\"vector-toc-list-item vector-toc-level-1 vector-toc-list-item-expanded\">\\n\\t\\t<a class=\"vector-toc-link\" href=\"#Odkazy\">\\n\\t\\t\\t<div class=\"vector-toc-text\">\\n\\t\\t\\t<span class=\"vector-toc-numb\">3</span>Odkazy</div>\\n\\t\\t</a>\\n\\t\\t\\n\\t\\t\\t<button aria-controls=\"toc-Odkazy-sublist\" class=\"cdx-button cdx-button--weight-quiet cdx-button--icon-only vector-toc-toggle\">\\n\\t\\t\\t\\t<span class=\"vector-icon vector-icon--x-small mw-ui-icon-wikimedia-expand\"></span>\\n\\t\\t\\t\\t<span>Přepnout podsekci Odkazy</span>\\n\\t\\t\\t</button>\\n\\t\\t\\n\\t\\t<ul id=\"toc-Odkazy-sublist\" class=\"vector-toc-list\">\\n\\t\\t\\t<li id=\"toc-Reference\"\\n\\t\\t\\tclass=\"vector-toc-list-item vector-toc-level-2\">\\n\\t\\t\\t<a class=\"vector-toc-link\" href=\"#Reference\">\\n\\t\\t\\t\\t<div class=\"vector-toc-text\">\\n\\t\\t\\t\\t<span class=\"vector-toc-numb\">3.1</span>Reference</div>\\n\\t\\t\\t</a>\\n\\t\\t\\t\\n\\t\\t\\t<ul id=\"toc-Reference-sublist\" class=\"vector-toc-list\">\\n\\t\\t\\t</ul>\\n\\t\\t</li>\\n\\t\\t<li id=\"toc-Externí_odkazy\"\\n\\t\\t\\tclass=\"vector-toc-list-item vector-toc-level-2\">\\n\\t\\t\\t<a class=\"vector-toc-link\" href=\"#Externí_odkazy\">\\n\\t\\t\\t\\t<div class=\"vector-toc-text\">\\n\\t\\t\\t\\t<span class=\"vector-toc-numb\">3.2</span>Externí odkazy</div>\\n\\t\\t\\t</a>\\n\\t\\t\\t\\n\\t\\t\\t<ul id=\"toc-Externí_odkazy-sublist\" class=\"vector-toc-list\">\\n\\t\\t\\t</ul>\\n\\t\\t</li>\\n\\t</ul>\\n\\t</li>\\n</ul>\\n</div>\\n\\n\\t\\t\\t\\t\\t</div>\\n\\t\\t</nav>\\n\\t\\t\\t</div>\\n\\t\\t</div>\\n\\t\\t<div class=\"mw-content-container\">\\n\\t\\t\\t<main id=\"content\" class=\"mw-body\" role=\"main\">\\n\\t\\t\\t\\t<header class=\"mw-body-header vector-page-titlebar\">\\n\\t\\t\\t\\t\\t<nav role=\"navigation\" aria-label=\"Obsah\" class=\"vector-toc-landmark\">\\n\\t\\t\\t\\t\\t\\t\\n<div id=\"vector-page-titlebar-toc\" class=\"vector-dropdown vector-page-titlebar-toc vector-button-flush-left\"  >\\n\\t<input type=\"checkbox\" id=\"vector-page-titlebar-toc-checkbox\" role=\"button\" aria-haspopup=\"true\" data-event-name=\"ui.dropdown-vector-page-titlebar-toc\" class=\"vector-dropdown-checkbox \"  aria-label=\"Přepnout obsah\"  >\\n\\t<label id=\"vector-page-titlebar-toc-label\" for=\"vector-page-titlebar-toc-checkbox\" class=\"vector-dropdown-label cdx-button cdx-button--fake-button cdx-button--fake-button--enabled cdx-button--weight-quiet cdx-button--icon-only \" aria-hidden=\"true\"  ><span class=\"vector-icon mw-ui-icon-listBullet mw-ui-icon-wikimedia-listBullet\"></span>\\n\\n<span class=\"vector-dropdown-label-text\">Přepnout obsah</span>\\n\\t</label>\\n\\t<div class=\"vector-dropdown-content\">\\n\\n\\n\\t\\t\\t\\t\\t\\t\\t<div id=\"vector-page-titlebar-toc-unpinned-container\" class=\"vector-unpinned-container\">\\n\\t\\t\\t</div>\\n\\t\\t\\n\\t</div>\\n</div>\\n\\n\\t\\t\\t\\t\\t</nav>\\n\\t\\t\\t\\t\\t<h1 id=\"firstHeading\" class=\"firstHeading mw-first-heading\"><span class=\"mw-page-title-main\">Institut ekonomických studií Fakulty sociálních věd Univerzity Karlovy</span></h1>\\n\\t\\t\\t\\t\\t\\t\\t\\n<div id=\"p-lang-btn\" class=\"vector-dropdown mw-portlet mw-portlet-lang\"  >\\n\\t<input type=\"checkbox\" id=\"p-lang-btn-checkbox\" role=\"button\" aria-haspopup=\"true\" data-event-name=\"ui.dropdown-p-lang-btn\" class=\"vector-dropdown-checkbox mw-interlanguage-selector\" aria-label=\"Tento článek existuje jenom v tomto jazyce. Přidejte jej i v ostatních jazycích\"   >\\n\\t<label id=\"p-lang-btn-label\" for=\"p-lang-btn-checkbox\" class=\"vector-dropdown-label cdx-button cdx-button--fake-button cdx-button--fake-button--enabled cdx-button--weight-quiet cdx-button--action-progressive mw-portlet-lang-heading-0\" aria-hidden=\"true\"  ><span class=\"vector-icon mw-ui-icon-language-progressive mw-ui-icon-wikimedia-language-progressive\"></span>\\n\\n<span class=\"vector-dropdown-label-text\">Přidat jazyky</span>\\n\\t</label>\\n\\t<div class=\"vector-dropdown-content\">\\n\\n\\t\\t<div class=\"vector-menu-content\">\\n\\t\\t\\t\\n\\t\\t\\t<ul class=\"vector-menu-content-list\">\\n\\t\\t\\t\\t\\n\\t\\t\\t\\t\\n\\t\\t\\t</ul>\\n\\t\\t\\t<div class=\"after-portlet after-portlet-lang\"><span class=\"uls-after-portlet-link\"></span><span class=\"wb-langlinks-add wb-langlinks-link\"><a href=\"https://www.wikidata.org/wiki/Special:EntityPage/Q12021663#sitelinks-wikipedia\" title=\"Přidat mezijazykové odkazy\" class=\"wbc-editpage\">Přidat odkazy</a></span></div>\\n\\t\\t</div>\\n\\n\\t</div>\\n</div>\\n</header>\\n\\t\\t\\t\\t<div class=\"vector-page-toolbar\">\\n\\t\\t\\t\\t\\t<div class=\"vector-page-toolbar-container\">\\n\\t\\t\\t\\t\\t\\t<div id=\"left-navigation\">\\n\\t\\t\\t\\t\\t\\t\\t<nav aria-label=\"Jmenné prostory\">\\n\\t\\t\\t\\t\\t\\t\\t\\t\\n<div id=\"p-associated-pages\" class=\"vector-menu vector-menu-tabs mw-portlet mw-portlet-associated-pages\"  >\\n\\t<div class=\"vector-menu-content\">\\n\\t\\t\\n\\t\\t<ul class=\"vector-menu-content-list\">\\n\\t\\t\\t\\n\\t\\t\\t<li id=\"ca-nstab-main\" class=\"selected vector-tab-noicon mw-list-item\"><a href=\"/wiki/Institut_ekonomick%C3%BDch_studi%C3%AD_Fakulty_soci%C3%A1ln%C3%ADch_v%C4%9Bd_Univerzity_Karlovy\" title=\"Zobrazit obsahovou stránku [c]\" accesskey=\"c\"><span>Článek</span></a></li><li id=\"ca-talk\" class=\"new vector-tab-noicon mw-list-item\"><a href=\"/w/index.php?title=Diskuse:Institut_ekonomick%C3%BDch_studi%C3%AD_Fakulty_soci%C3%A1ln%C3%ADch_v%C4%9Bd_Univerzity_Karlovy&amp;action=edit&amp;redlink=1\" rel=\"discussion\" title=\"Diskuse ke stránce (stránka neexistuje) [t]\" accesskey=\"t\"><span>Diskuse</span></a></li>\\n\\t\\t</ul>\\n\\t\\t\\n\\t</div>\\n</div>\\n\\n\\t\\t\\t\\t\\t\\t\\t\\t\\n<div id=\"p-variants\" class=\"vector-dropdown emptyPortlet\"  >\\n\\t<input type=\"checkbox\" id=\"p-variants-checkbox\" role=\"button\" aria-haspopup=\"true\" data-event-name=\"ui.dropdown-p-variants\" class=\"vector-dropdown-checkbox \" aria-label=\"Změnit variantu jazyka\"   >\\n\\t<label id=\"p-variants-label\" for=\"p-variants-checkbox\" class=\"vector-dropdown-label cdx-button cdx-button--fake-button cdx-button--fake-button--enabled cdx-button--weight-quiet\" aria-hidden=\"true\"  ><span class=\"vector-dropdown-label-text\">čeština</span>\\n\\t</label>\\n\\t<div class=\"vector-dropdown-content\">\\n\\n\\n\\t\\t\\t\\t\\t\\n<div id=\"p-variants\" class=\"vector-menu mw-portlet mw-portlet-variants emptyPortlet\"  >\\n\\t<div class=\"vector-menu-content\">\\n\\t\\t\\n\\t\\t<ul class=\"vector-menu-content-list\">\\n\\t\\t\\t\\n\\t\\t\\t\\n\\t\\t</ul>\\n\\t\\t\\n\\t</div>\\n</div>\\n\\n\\t\\t\\t\\t\\n\\t</div>\\n</div>\\n\\n\\t\\t\\t\\t\\t\\t\\t</nav>\\n\\t\\t\\t\\t\\t\\t</div>\\n\\t\\t\\t\\t\\t\\t<div id=\"right-navigation\" class=\"vector-collapsible\">\\n\\t\\t\\t\\t\\t\\t\\t<nav aria-label=\"Zobrazení\">\\n\\t\\t\\t\\t\\t\\t\\t\\t\\n<div id=\"p-views\" class=\"vector-menu vector-menu-tabs mw-portlet mw-portlet-views\"  >\\n\\t<div class=\"vector-menu-content\">\\n\\t\\t\\n\\t\\t<ul class=\"vector-menu-content-list\">\\n\\t\\t\\t\\n\\t\\t\\t<li id=\"ca-view\" class=\"selected vector-tab-noicon mw-list-item\"><a href=\"/wiki/Institut_ekonomick%C3%BDch_studi%C3%AD_Fakulty_soci%C3%A1ln%C3%ADch_v%C4%9Bd_Univerzity_Karlovy\"><span>Číst</span></a></li><li id=\"ca-ve-edit\" class=\"vector-tab-noicon mw-list-item\"><a href=\"/w/index.php?title=Institut_ekonomick%C3%BDch_studi%C3%AD_Fakulty_soci%C3%A1ln%C3%ADch_v%C4%9Bd_Univerzity_Karlovy&amp;veaction=edit\" title=\"Editovat tuto stránku [v]\" accesskey=\"v\"><span>Editovat</span></a></li><li id=\"ca-edit\" class=\"collapsible vector-tab-noicon mw-list-item\"><a href=\"/w/index.php?title=Institut_ekonomick%C3%BDch_studi%C3%AD_Fakulty_soci%C3%A1ln%C3%ADch_v%C4%9Bd_Univerzity_Karlovy&amp;action=edit\" title=\"Editovat zdrojový kód této stránky [e]\" accesskey=\"e\"><span>Editovat zdroj</span></a></li><li id=\"ca-history\" class=\"vector-tab-noicon mw-list-item\"><a href=\"/w/index.php?title=Institut_ekonomick%C3%BDch_studi%C3%AD_Fakulty_soci%C3%A1ln%C3%ADch_v%C4%9Bd_Univerzity_Karlovy&amp;action=history\" title=\"Starší verze této stránky. [h]\" accesskey=\"h\"><span>Zobrazit historii</span></a></li>\\n\\t\\t</ul>\\n\\t\\t\\n\\t</div>\\n</div>\\n\\n\\t\\t\\t\\t\\t\\t\\t</nav>\\n\\t\\t\\t\\t\\n\\t\\t\\t\\t\\t\\t\\t<nav class=\"vector-page-tools-landmark\" aria-label=\"Page tools\">\\n\\t\\t\\t\\t\\t\\t\\t\\t\\n<div id=\"vector-page-tools-dropdown\" class=\"vector-dropdown vector-page-tools-dropdown\"  >\\n\\t<input type=\"checkbox\" id=\"vector-page-tools-dropdown-checkbox\" role=\"button\" aria-haspopup=\"true\" data-event-name=\"ui.dropdown-vector-page-tools-dropdown\" class=\"vector-dropdown-checkbox \"  aria-label=\"Nástroje\"  >\\n\\t<label id=\"vector-page-tools-dropdown-label\" for=\"vector-page-tools-dropdown-checkbox\" class=\"vector-dropdown-label cdx-button cdx-button--fake-button cdx-button--fake-button--enabled cdx-button--weight-quiet\" aria-hidden=\"true\"  ><span class=\"vector-dropdown-label-text\">Nástroje</span>\\n\\t</label>\\n\\t<div class=\"vector-dropdown-content\">\\n\\n\\n\\t\\t\\t\\t\\t\\t\\t\\t\\t<div id=\"vector-page-tools-unpinned-container\" class=\"vector-unpinned-container\">\\n\\t\\t\\t\\t\\t\\t\\n<div id=\"vector-page-tools\" class=\"vector-page-tools vector-pinnable-element\">\\n\\t<div\\n\\tclass=\"vector-pinnable-header vector-page-tools-pinnable-header vector-pinnable-header-unpinned\"\\n\\tdata-feature-name=\"page-tools-pinned\"\\n\\tdata-pinnable-element-id=\"vector-page-tools\"\\n\\tdata-pinned-container-id=\"vector-page-tools-pinned-container\"\\n\\tdata-unpinned-container-id=\"vector-page-tools-unpinned-container\"\\n>\\n\\t<div class=\"vector-pinnable-header-label\">Nástroje</div>\\n\\t<button class=\"vector-pinnable-header-toggle-button vector-pinnable-header-pin-button\" data-event-name=\"pinnable-header.vector-page-tools.pin\">přesunout do postranního panelu</button>\\n\\t<button class=\"vector-pinnable-header-toggle-button vector-pinnable-header-unpin-button\" data-event-name=\"pinnable-header.vector-page-tools.unpin\">skrýt</button>\\n</div>\\n\\n\\t\\n<div id=\"p-cactions\" class=\"vector-menu mw-portlet mw-portlet-cactions emptyPortlet vector-has-collapsible-items\"  title=\"Další možnosti\" >\\n\\t<div class=\"vector-menu-heading\">\\n\\t\\tAkce\\n\\t</div>\\n\\t<div class=\"vector-menu-content\">\\n\\t\\t\\n\\t\\t<ul class=\"vector-menu-content-list\">\\n\\t\\t\\t\\n\\t\\t\\t<li id=\"ca-more-view\" class=\"selected vector-more-collapsible-item mw-list-item\"><a href=\"/wiki/Institut_ekonomick%C3%BDch_studi%C3%AD_Fakulty_soci%C3%A1ln%C3%ADch_v%C4%9Bd_Univerzity_Karlovy\"><span>Číst</span></a></li><li id=\"ca-more-ve-edit\" class=\"vector-more-collapsible-item mw-list-item\"><a href=\"/w/index.php?title=Institut_ekonomick%C3%BDch_studi%C3%AD_Fakulty_soci%C3%A1ln%C3%ADch_v%C4%9Bd_Univerzity_Karlovy&amp;veaction=edit\" title=\"Editovat tuto stránku [v]\" accesskey=\"v\"><span>Editovat</span></a></li><li id=\"ca-more-edit\" class=\"collapsible vector-more-collapsible-item mw-list-item\"><a href=\"/w/index.php?title=Institut_ekonomick%C3%BDch_studi%C3%AD_Fakulty_soci%C3%A1ln%C3%ADch_v%C4%9Bd_Univerzity_Karlovy&amp;action=edit\" title=\"Editovat zdrojový kód této stránky [e]\" accesskey=\"e\"><span>Editovat zdroj</span></a></li><li id=\"ca-more-history\" class=\"vector-more-collapsible-item mw-list-item\"><a href=\"/w/index.php?title=Institut_ekonomick%C3%BDch_studi%C3%AD_Fakulty_soci%C3%A1ln%C3%ADch_v%C4%9Bd_Univerzity_Karlovy&amp;action=history\"><span>Zobrazit historii</span></a></li>\\n\\t\\t</ul>\\n\\t\\t\\n\\t</div>\\n</div>\\n\\n<div id=\"p-tb\" class=\"vector-menu mw-portlet mw-portlet-tb\"  >\\n\\t<div class=\"vector-menu-heading\">\\n\\t\\tObecné\\n\\t</div>\\n\\t<div class=\"vector-menu-content\">\\n\\t\\t\\n\\t\\t<ul class=\"vector-menu-content-list\">\\n\\t\\t\\t\\n\\t\\t\\t<li id=\"t-whatlinkshere\" class=\"mw-list-item\"><a href=\"/wiki/Speci%C3%A1ln%C3%AD:Co_odkazuje_na/Institut_ekonomick%C3%BDch_studi%C3%AD_Fakulty_soci%C3%A1ln%C3%ADch_v%C4%9Bd_Univerzity_Karlovy\" title=\"Seznam všech wikistránek, které sem odkazují [j]\" accesskey=\"j\"><span>Odkazuje sem</span></a></li><li id=\"t-recentchangeslinked\" class=\"mw-list-item\"><a href=\"/wiki/Speci%C3%A1ln%C3%AD:Souvisej%C3%ADc%C3%AD_zm%C4%9Bny/Institut_ekonomick%C3%BDch_studi%C3%AD_Fakulty_soci%C3%A1ln%C3%ADch_v%C4%9Bd_Univerzity_Karlovy\" rel=\"nofollow\" title=\"Nedávné změny stránek, na které je odkazováno [k]\" accesskey=\"k\"><span>Související změny</span></a></li><li id=\"t-upload\" class=\"mw-list-item\"><a href=\"//commons.wikimedia.org/wiki/Special:UploadWizard?uselang=cs\" title=\"Nahrát obrázky či jiná multimédia [u]\" accesskey=\"u\"><span>Načíst soubor</span></a></li><li id=\"t-specialpages\" class=\"mw-list-item\"><a href=\"/wiki/Speci%C3%A1ln%C3%AD:Speci%C3%A1ln%C3%AD_str%C3%A1nky\" title=\"Seznam všech speciálních stránek [q]\" accesskey=\"q\"><span>Speciální stránky</span></a></li><li id=\"t-permalink\" class=\"mw-list-item\"><a href=\"/w/index.php?title=Institut_ekonomick%C3%BDch_studi%C3%AD_Fakulty_soci%C3%A1ln%C3%ADch_v%C4%9Bd_Univerzity_Karlovy&amp;oldid=23667313\" title=\"Trvalý odkaz na současnou verzi této stránky\"><span>Trvalý odkaz</span></a></li><li id=\"t-info\" class=\"mw-list-item\"><a href=\"/w/index.php?title=Institut_ekonomick%C3%BDch_studi%C3%AD_Fakulty_soci%C3%A1ln%C3%ADch_v%C4%9Bd_Univerzity_Karlovy&amp;action=info\" title=\"Více informací o této stránce\"><span>Informace o stránce</span></a></li><li id=\"t-cite\" class=\"mw-list-item\"><a href=\"/w/index.php?title=Speci%C3%A1ln%C3%AD:Citovat&amp;page=Institut_ekonomick%C3%BDch_studi%C3%AD_Fakulty_soci%C3%A1ln%C3%ADch_v%C4%9Bd_Univerzity_Karlovy&amp;id=23667313&amp;wpFormIdentifier=titleform\" title=\"Informace o tom, jak citovat tuto stránku\"><span>Citovat stránku</span></a></li><li id=\"t-urlshortener\" class=\"mw-list-item\"><a href=\"/w/index.php?title=Speci%C3%A1ln%C3%AD:UrlShortener&amp;url=https%3A%2F%2Fcs.wikipedia.org%2Fwiki%2FInstitut_ekonomick%25C3%25BDch_studi%25C3%25AD_Fakulty_soci%25C3%25A1ln%25C3%25ADch_v%25C4%259Bd_Univerzity_Karlovy\"><span>Získat zkrácené URL</span></a></li><li id=\"t-urlshortener-qrcode\" class=\"mw-list-item\"><a href=\"/w/index.php?title=Speci%C3%A1ln%C3%AD:QrCode&amp;url=https%3A%2F%2Fcs.wikipedia.org%2Fwiki%2FInstitut_ekonomick%25C3%25BDch_studi%25C3%25AD_Fakulty_soci%25C3%25A1ln%25C3%25ADch_v%25C4%259Bd_Univerzity_Karlovy\"><span>Stáhnout QR kód</span></a></li><li id=\"t-wikibase\" class=\"mw-list-item\"><a href=\"https://www.wikidata.org/wiki/Special:EntityPage/Q12021663\" title=\"Odkaz na propojenou položku datového úložiště [g]\" accesskey=\"g\"><span>Položka Wikidat</span></a></li>\\n\\t\\t</ul>\\n\\t\\t\\n\\t</div>\\n</div>\\n\\n<div id=\"p-coll-print_export\" class=\"vector-menu mw-portlet mw-portlet-coll-print_export\"  >\\n\\t<div class=\"vector-menu-heading\">\\n\\t\\tTisk/export\\n\\t</div>\\n\\t<div class=\"vector-menu-content\">\\n\\t\\t\\n\\t\\t<ul class=\"vector-menu-content-list\">\\n\\t\\t\\t\\n\\t\\t\\t<li id=\"coll-create_a_book\" class=\"mw-list-item\"><a href=\"/w/index.php?title=Speci%C3%A1ln%C3%AD:Kniha&amp;bookcmd=book_creator&amp;referer=Institut+ekonomick%C3%BDch+studi%C3%AD+Fakulty+soci%C3%A1ln%C3%ADch+v%C4%9Bd+Univerzity+Karlovy\"><span>Vytvořit knihu</span></a></li><li id=\"coll-download-as-rl\" class=\"mw-list-item\"><a href=\"/w/index.php?title=Speci%C3%A1ln%C3%AD:DownloadAsPdf&amp;page=Institut_ekonomick%C3%BDch_studi%C3%AD_Fakulty_soci%C3%A1ln%C3%ADch_v%C4%9Bd_Univerzity_Karlovy&amp;action=show-download-screen\"><span>Stáhnout jako PDF</span></a></li><li id=\"t-print\" class=\"mw-list-item\"><a href=\"/w/index.php?title=Institut_ekonomick%C3%BDch_studi%C3%AD_Fakulty_soci%C3%A1ln%C3%ADch_v%C4%9Bd_Univerzity_Karlovy&amp;printable=yes\" title=\"Tato stránka v podobě vhodné k tisku [p]\" accesskey=\"p\"><span>Verze k tisku</span></a></li>\\n\\t\\t</ul>\\n\\t\\t\\n\\t</div>\\n</div>\\n\\n<div id=\"p-wikibase-otherprojects\" class=\"vector-menu mw-portlet mw-portlet-wikibase-otherprojects\"  >\\n\\t<div class=\"vector-menu-heading\">\\n\\t\\tNa jiných projektech\\n\\t</div>\\n\\t<div class=\"vector-menu-content\">\\n\\t\\t\\n\\t\\t<ul class=\"vector-menu-content-list\">\\n\\t\\t\\t\\n\\t\\t\\t<li class=\"wb-otherproject-link wb-otherproject-commons mw-list-item\"><a href=\"https://commons.wikimedia.org/wiki/Category:Institut_ekonomick%C3%BDch_studi%C3%AD_FSV_UK\" hreflang=\"en\"><span>Wikimedia Commons</span></a></li>\\n\\t\\t</ul>\\n\\t\\t\\n\\t</div>\\n</div>\\n\\n</div>\\n\\n\\t\\t\\t\\t\\t\\t\\t\\t\\t</div>\\n\\t\\t\\t\\t\\n\\t</div>\\n</div>\\n\\n\\t\\t\\t\\t\\t\\t\\t</nav>\\n\\t\\t\\t\\t\\t\\t</div>\\n\\t\\t\\t\\t\\t</div>\\n\\t\\t\\t\\t</div>\\n\\t\\t\\t\\t<div class=\"vector-column-end\">\\n\\t\\t\\t\\t\\t<div class=\"vector-sticky-pinned-container\">\\n\\t\\t\\t\\t\\t\\t<nav class=\"vector-page-tools-landmark\" aria-label=\"Page tools\">\\n\\t\\t\\t\\t\\t\\t\\t<div id=\"vector-page-tools-pinned-container\" class=\"vector-pinned-container\">\\n\\t\\t\\t\\t\\n\\t\\t\\t\\t\\t\\t\\t</div>\\n\\t\\t</nav>\\n\\t\\t\\t\\t\\t\\t<nav class=\"vector-client-prefs-landmark\" aria-label=\"Appearance\">\\n\\t\\t\\t\\t\\t\\t</nav>\\n\\t\\t\\t\\t\\t</div>\\n\\t\\t\\t\\t</div>\\n\\t\\t\\t\\t<div id=\"bodyContent\" class=\"vector-body\" aria-labelledby=\"firstHeading\" data-mw-ve-target-container>\\n\\t\\t\\t\\t\\t<div class=\"vector-body-before-content\">\\n\\t\\t\\t\\t\\t\\t\\t<div class=\"mw-indicators\">\\n\\t\\t<div id=\"mw-indicator-coordinates\" class=\"mw-indicator\"><div class=\"mw-parser-output\">Souřadnice: <a class=\"external text\" href=\"//geohack.toolforge.org/geohack.php?language=cs&amp;pagename=Institut+ekonomick%C3%BDch+studi%C3%AD+Fakulty+soci%C3%A1ln%C3%ADch+v%C4%9Bd+Univerzity+Karlovy&amp;params=50.082219444444_N_14.431111111111_E_type:landmark\"><span style=\"white-space:pre\">50°4′55,99″ s. š.</span>, <span style=\"white-space:pre\">14°25′52″ v. d.</span></a></div></div>\\n\\t\\t</div>\\n\\n\\t\\t\\t\\t\\t\\t<div id=\"siteSub\" class=\"noprint\">Z Wikipedie, otevřené encyklopedie</div>\\n\\t\\t\\t\\t\\t</div>\\n\\t\\t\\t\\t\\t<div id=\"contentSub\"><div id=\"mw-content-subtitle\"></div></div>\\n\\t\\t\\t\\t\\t\\n\\t\\t\\t\\t\\t\\n\\t\\t\\t\\t\\t<div id=\"mw-content-text\" class=\"mw-body-content\"><div class=\"mw-content-ltr mw-parser-output\" lang=\"cs\" dir=\"ltr\"><table class=\"infobox\" style=\"width:22em\"><tbody><tr><th colspan=\"2\" style=\"text-align:center;font-size:125%;font-weight:bold;background-color: #2E73B9; color: white;\">Institut ekonomických studií</th></tr><tr><td colspan=\"2\" style=\"text-align:center\"><span typeof=\"mw:File\"><a href=\"/wiki/Soubor:Praha,_Nov%C3%A9_M%C4%9Bsto,_Opletalova,_IES_FSV_UK.JPG\" class=\"mw-file-description\" title=\"Budova IES FSV UK v Praze v Opletalově ulici\"><img alt=\"Budova IES FSV UK v Praze v Opletalově ulici\" src=\"//upload.wikimedia.org/wikipedia/commons/thumb/6/64/Praha%2C_Nov%C3%A9_M%C4%9Bsto%2C_Opletalova%2C_IES_FSV_UK.JPG/250px-Praha%2C_Nov%C3%A9_M%C4%9Bsto%2C_Opletalova%2C_IES_FSV_UK.JPG\" decoding=\"async\" width=\"250\" height=\"333\" class=\"mw-file-element\" srcset=\"//upload.wikimedia.org/wikipedia/commons/thumb/6/64/Praha%2C_Nov%C3%A9_M%C4%9Bsto%2C_Opletalova%2C_IES_FSV_UK.JPG/375px-Praha%2C_Nov%C3%A9_M%C4%9Bsto%2C_Opletalova%2C_IES_FSV_UK.JPG 1.5x, //upload.wikimedia.org/wikipedia/commons/thumb/6/64/Praha%2C_Nov%C3%A9_M%C4%9Bsto%2C_Opletalova%2C_IES_FSV_UK.JPG/500px-Praha%2C_Nov%C3%A9_M%C4%9Bsto%2C_Opletalova%2C_IES_FSV_UK.JPG 2x\" data-file-width=\"2136\" data-file-height=\"2848\" /></a></span><div><span class=\"wd\"><span lang=\"cs\">Budova IES FSV UK v Praze v Opletalově ulici</span></span></div></td></tr><tr><th scope=\"row\" style=\"text-align:left\">Sídlo</th><td><span class=\"wd\"><a href=\"/wiki/Opletalova\" title=\"Opletalova\">Opletalova</a>, <a href=\"/wiki/Praha\" title=\"Praha\">Praha</a>, <a href=\"/wiki/%C4%8Cesko\" title=\"Česko\">Česko</a></span></td></tr><tr><th scope=\"row\" style=\"text-align:left\"><a href=\"/wiki/Zem%C4%9Bpisn%C3%A9_sou%C5%99adnice\" title=\"Zeměpisné souřadnice\">Souřadnice</a></th><td class=\"plainlinks\"><span class=\"wd\"><span></span><span class=\"coordinates\"><a class=\"external text\" href=\"//geohack.toolforge.org/geohack.php?language=cs&amp;pagename=Institut+ekonomick%C3%BDch+studi%C3%AD+Fakulty+soci%C3%A1ln%C3%ADch+v%C4%9Bd+Univerzity+Karlovy&amp;params=50.082219444444_N_14.431111111111_E_type:landmark\"><span style=\"white-space:pre\">50°4′55,99″ s. š.</span>, <span style=\"white-space:pre\">14°25′52″ v. d.</span></a></span></span></td></tr><tr><td colspan=\"2\" style=\"text-align:center\"><div class=\"mw-kartographer-container thumb tnone center\"><div class=\"thumbinner\" style=\"width: 240px;\"><a class=\"mw-kartographer-map\" style=\"width: 240px; height: 150px;\" data-mw-kartographer=\"mapframe\" data-style=\"osm-intl\" data-width=\"240\" data-height=\"150\" data-zoom=\"11\" data-lat=\"50.082219444444\" data-lon=\"14.431111111111\" data-overlays=\"[&quot;_ff2d6f6329b115d5dc369d5f5590a68999e89d68&quot;]\" href=\"/wiki/Speci%C3%A1ln%C3%AD:Map/11/50.082219444444/14.431111111111/cs\"><img src=\"https://maps.wikimedia.org/img/osm-intl,11,50.082219444444,14.431111111111,240x150.png?lang=cs&amp;domain=cs.wikipedia.org&amp;title=Institut+ekonomick%C3%BDch+studi%C3%AD+Fakulty+soci%C3%A1ln%C3%ADch+v%C4%9Bd+Univerzity+Karlovy&amp;revid=23667313&amp;groups=_ff2d6f6329b115d5dc369d5f5590a68999e89d68\" width=\"240\" height=\"150\" decoding=\"async\" srcset=\"https://maps.wikimedia.org/img/osm-intl,11,50.082219444444,14.431111111111,240x150@2x.png?lang=cs&amp;domain=cs.wikipedia.org&amp;title=Institut+ekonomick%C3%BDch+studi%C3%AD+Fakulty+soci%C3%A1ln%C3%ADch+v%C4%9Bd+Univerzity+Karlovy&amp;revid=23667313&amp;groups=_ff2d6f6329b115d5dc369d5f5590a68999e89d68 2x\" alt=\"Map\" /></a></div></div></td></tr><tr><td colspan=\"2\" style=\"text-align:center\"><span typeof=\"mw:File\"><span title=\"Logo Wikimedia Commons\"><img alt=\"Logo Wikimedia Commons\" src=\"//upload.wikimedia.org/wikipedia/commons/thumb/4/4a/Commons-logo.svg/20px-Commons-logo.svg.png\" decoding=\"async\" width=\"20\" height=\"27\" class=\"mw-file-element\" srcset=\"//upload.wikimedia.org/wikipedia/commons/thumb/4/4a/Commons-logo.svg/30px-Commons-logo.svg.png 1.5x, //upload.wikimedia.org/wikipedia/commons/thumb/4/4a/Commons-logo.svg/40px-Commons-logo.svg.png 2x\" data-file-width=\"1024\" data-file-height=\"1376\" /></span></span> <b><a href=\"https://commons.wikimedia.org/wiki/Category:Institut_ekonomick%C3%BDch_studi%C3%AD_FSV_UK\" class=\"extiw\" title=\"c:Category:Institut ekonomických studií FSV UK\">multimediální obsah</a></b> na&#160;<a href=\"/wiki/Wikimedia_Commons\" title=\"Wikimedia Commons\">Commons</a></td></tr><tr><td colspan=\"2\" style=\"text-align:center;font-size:smaller;\">Některá data mohou pocházet z <a href=\"https://www.wikidata.org/wiki/Q12021663\" class=\"extiw\" title=\"d:Q12021663\">datové položky</a>.</td></tr></tbody></table>\\n<figure class=\"mw-default-size\" typeof=\"mw:File/Thumb\"><a href=\"/wiki/Soubor:5F3A9232.jpg\" class=\"mw-file-description\"><img src=\"//upload.wikimedia.org/wikipedia/commons/thumb/c/ce/5F3A9232.jpg/220px-5F3A9232.jpg\" decoding=\"async\" width=\"220\" height=\"211\" class=\"mw-file-element\" srcset=\"//upload.wikimedia.org/wikipedia/commons/thumb/c/ce/5F3A9232.jpg/330px-5F3A9232.jpg 1.5x, //upload.wikimedia.org/wikipedia/commons/thumb/c/ce/5F3A9232.jpg/440px-5F3A9232.jpg 2x\" data-file-width=\"1173\" data-file-height=\"1123\" /></a><figcaption>Budova IES FSV UK</figcaption></figure>\\n<p><b>Institut ekonomických studií</b> (zkráceně <b>IES</b>) vznikl v květnu <a href=\"/wiki/1993\" title=\"1993\">1993</a> při reorganizaci <a href=\"/wiki/Fakulta_soci%C3%A1ln%C3%ADch_v%C4%9Bd_Univerzity_Karlovy\" title=\"Fakulta sociálních věd Univerzity Karlovy\">Fakulty sociálních věd</a> <a href=\"/wiki/Univerzita_Karlova\" title=\"Univerzita Karlova\">Univerzity Karlovy</a> z Katedry ekonomie a Institutu ekonomických věd. Ředitelem institutu je v současné době doc. PhDr. Adam Geršl, Ph.D., který v lednu 2024 vystřídal ve funkci svého předchůdce, doc. PhDr. Martina Gregora, Ph.D.. Institut sídlí v budově Fakulty sociálních věd v Opletalově ulici.\\n</p><p>Podle srovnání provedeného <a href=\"/wiki/Hospod%C3%A1%C5%99sk%C3%A9_noviny\" title=\"Hospodářské noviny\">Hospodářskými novinami</a> v roce <a href=\"/wiki/2016\" title=\"2016\">2016</a> patřil k nejkvalitnějším českým vysokým školám se zaměřením na <a href=\"/wiki/Ekonomie\" title=\"Ekonomie\">ekonomii</a>.<sup id=\"cite_ref-1\" class=\"reference\"><a href=\"#cite_note-1\">&#91;1&#93;</a></sup> Podle žebříčku mezinárodní databáze RePEc je v současnosti nejlépe hodnoceným českým výzkumným pracovištěm zaměřeným na ekonomii.<sup id=\"cite_ref-2\" class=\"reference\"><a href=\"#cite_note-2\">&#91;2&#93;</a></sup> V mezinárodních žebříčcích je ekonomie vyučovaná na Univerzitě Karlově hodnocená v první 100 v oboru ekonomie<sup id=\"cite_ref-3\" class=\"reference\"><a href=\"#cite_note-3\">&#91;3&#93;</a></sup> a v první 200 v oboru finance<sup id=\"cite_ref-4\" class=\"reference\"><a href=\"#cite_note-4\">&#91;4&#93;</a></sup> (žebříček <a href=\"/wiki/%C5%A0anghajsk%C3%BD_%C5%BEeb%C5%99%C3%AD%C4%8Dek\" title=\"Šanghajský žebříček\">Global Ranking of Academic Subjects</a>), zatímco žebříček U.S. News Best Global Universities hodnotí Univerzitu Karlovu v kategorii ekonomie a obchod na 111. místě na světě.<a rel=\"nofollow\" class=\"external autonumber\" href=\"https://www.usnews.com/education/best-global-universities/czech-republic/economics-business\">[1]</a> Za umístěním stojí výzkumná činnost dvou ekonomických pracovišť Univerzity Karlovy, vedle IES FSV UK je jím také <a href=\"/wiki/CERGE-EI\" title=\"CERGE-EI\">CERGE-EI</a>.\\n</p>\\n<meta property=\"mw:PageProp/toc\" />\\n<h2><span class=\"mw-headline\" id=\"Programy\">Programy</span><span class=\"mw-editsection\"><span class=\"mw-editsection-bracket\">[</span><a href=\"/w/index.php?title=Institut_ekonomick%C3%BDch_studi%C3%AD_Fakulty_soci%C3%A1ln%C3%ADch_v%C4%9Bd_Univerzity_Karlovy&amp;veaction=edit&amp;section=1\" title=\"Editace sekce: Programy\" class=\"mw-editsection-visualeditor\"><span>editovat</span></a><span class=\"mw-editsection-divider\"> | </span><a href=\"/w/index.php?title=Institut_ekonomick%C3%BDch_studi%C3%AD_Fakulty_soci%C3%A1ln%C3%ADch_v%C4%9Bd_Univerzity_Karlovy&amp;action=edit&amp;section=1\" title=\"Edit section&#039;s source code: Programy\"><span>editovat zdroj</span></a><span class=\"mw-editsection-bracket\">]</span></span></h2>\\n<p><a href=\"/wiki/Bakal%C3%A1%C5%99\" title=\"Bakalář\">Bakalářské</a> studium je zaměřené na intenzivní výuku <a href=\"/wiki/Matematika\" title=\"Matematika\">matematiky</a>, na teoretickou ekonomii, <a href=\"/wiki/Ekonometrie\" title=\"Ekonometrie\">ekonometrii</a>, aplikovanou ekonomii a finance.<sup id=\"cite_ref-5\" class=\"reference\"><a href=\"#cite_note-5\">&#91;5&#93;</a></sup> <a href=\"/wiki/Magistr\" title=\"Magistr\">Magisterské</a> studium umožňuje užší specializaci ve dvou oblastech: v <a href=\"/wiki/Ekonomick%C3%A1_teorie\" title=\"Ekonomická teorie\">ekonomických teoriích</a> a <a href=\"/wiki/V%C4%9Bdeck%C3%A9_modelov%C3%A1n%C3%AD\" title=\"Vědecké modelování\">modelování</a> či v oblasti financí, <a href=\"/wiki/Finan%C4%8Dn%C3%AD_trh\" title=\"Finanční trh\">finančních trhů</a> a bankovnictví.<sup id=\"cite_ref-6\" class=\"reference\"><a href=\"#cite_note-6\">&#91;6&#93;</a></sup> 70&#160;% kurzů v bakalářském programu a 88&#160;% kurzů v magisterském programu je vyučováno v angličtině, 91&#160;% absolventských prací je napsáno v angličtině.<sup id=\"cite_ref-:0_7-0\" class=\"reference\"><a href=\"#cite_note-:0-7\">&#91;7&#93;</a></sup> IES nabízí také možnost doktorského studia v oboru ekonomie zaměřené na ekonomickou teorii a její aplikace v ekonomických a finančních analýzách. Institut ročně absolvuje 90 bakalářů, 80 magistrů a 5 doktorandů.<sup id=\"cite_ref-:0_7-1\" class=\"reference\"><a href=\"#cite_note-:0-7\">&#91;7&#93;</a></sup> Studenti IES se výborně umisťují ve studentských soutěžích (BCG Strategy Cup, CFA Institute Research Challenge, <a href=\"/w/index.php?title=Global_Management_Challenge&amp;action=edit&amp;redlink=1\" class=\"new\" title=\"Global Management Challenge (stránka neexistuje)\">Global Management Challenge</a>, <a rel=\"nofollow\" class=\"external text\" href=\"http://ies.fsv.cuni.cz/cs/news/3935\">Rotman European Trading Competition</a> <a rel=\"nofollow\" class=\"external text\" href=\"https://web.archive.org/web/20190207015726/http://ies.fsv.cuni.cz/cs/news/3935\">Archivováno</a> 7. 2. 2019 na <a href=\"/wiki/Internet_Archive\" title=\"Internet Archive\">Wayback Machine</a>.) a pravidelně získávají odborné ceny (Olga Radzyner Award, Mladý ekonom,<a rel=\"nofollow\" class=\"external autonumber\" href=\"http://www.cse.cz/page/mlady-ekonom\">[2]</a> Cena <a href=\"/wiki/Karel_Engli%C5%A1\" title=\"Karel Engliš\">Karla Engliše</a>,<a rel=\"nofollow\" class=\"external autonumber\" href=\"http://iesdev.fsv.cuni.cz/cs/news/4516\">[3]</a> <a rel=\"nofollow\" class=\"external text\" href=\"https://web.archive.org/web/20190207015323/http://iesdev.fsv.cuni.cz/cs/news/4516\">Archivováno</a> 7. 2. 2019 na <a href=\"/wiki/Internet_Archive\" title=\"Internet Archive\">Wayback Machine</a>. <a href=\"/wiki/Cena_Josefa_Hl%C3%A1vky\" title=\"Cena Josefa Hlávky\">Cena Josefa Hlávky</a>, Energy Economics Contest<a rel=\"nofollow\" class=\"external autonumber\" href=\"http://ies.fsv.cuni.cz/cs/news/4269\">[4]</a> <a rel=\"nofollow\" class=\"external text\" href=\"https://web.archive.org/web/20190207020258/http://ies.fsv.cuni.cz/cs/news/4269\">Archivováno</a> 7. 2. 2019 na <a href=\"/wiki/Internet_Archive\" title=\"Internet Archive\">Wayback Machine</a>.).\\n</p><p>Dostupné programy:\\n</p>\\n<ul><li>Ekonomie a finance (bakalářský program v češtině)</li>\\n<li>Bachelor in Economics and Finance (BEF - bakalářský placený program v angličtině)</li>\\n<li>Ekonomie a finance (magisterský program v češtině)</li>\\n<li>Master in Economics and Finance (MEF - magisterský placený program v angličtině)</li>\\n<li>Master in Finance and Data Analytics (MFDA - magisterský placený program v angličtině)</li>\\n<li>Corporate Strategy and Finance (CSF - placený magisterský program v angličtině ve spolupráci s <a href=\"/w/index.php?title=University_of_Strasbourg&amp;action=edit&amp;redlink=1\" class=\"new\" title=\"University of Strasbourg (stránka neexistuje)\">University of Strasbourg</a>)</li></ul>\\n<h2><span id=\"Vyu.C4.8Duj.C3.ADc.C3.AD\"></span><span class=\"mw-headline\" id=\"Vyučující\">Vyučující</span><span class=\"mw-editsection\"><span class=\"mw-editsection-bracket\">[</span><a href=\"/w/index.php?title=Institut_ekonomick%C3%BDch_studi%C3%AD_Fakulty_soci%C3%A1ln%C3%ADch_v%C4%9Bd_Univerzity_Karlovy&amp;veaction=edit&amp;section=2\" title=\"Editace sekce: Vyučující\" class=\"mw-editsection-visualeditor\"><span>editovat</span></a><span class=\"mw-editsection-divider\"> | </span><a href=\"/w/index.php?title=Institut_ekonomick%C3%BDch_studi%C3%AD_Fakulty_soci%C3%A1ln%C3%ADch_v%C4%9Bd_Univerzity_Karlovy&amp;action=edit&amp;section=2\" title=\"Edit section&#039;s source code: Vyučující\"><span>editovat zdroj</span></a><span class=\"mw-editsection-bracket\">]</span></span></h2>\\n<figure class=\"mw-default-size\" typeof=\"mw:File/Thumb\"><a href=\"/wiki/Soubor:IES2018%C2%A9AnnaSolcova.06.jpg\" class=\"mw-file-description\"><img src=\"//upload.wikimedia.org/wikipedia/commons/thumb/d/d1/IES2018%C2%A9AnnaSolcova.06.jpg/220px-IES2018%C2%A9AnnaSolcova.06.jpg\" decoding=\"async\" width=\"220\" height=\"147\" class=\"mw-file-element\" srcset=\"//upload.wikimedia.org/wikipedia/commons/thumb/d/d1/IES2018%C2%A9AnnaSolcova.06.jpg/330px-IES2018%C2%A9AnnaSolcova.06.jpg 1.5x, //upload.wikimedia.org/wikipedia/commons/thumb/d/d1/IES2018%C2%A9AnnaSolcova.06.jpg/440px-IES2018%C2%A9AnnaSolcova.06.jpg 2x\" data-file-width=\"4799\" data-file-height=\"3204\" /></a><figcaption>IES: učebna 109</figcaption></figure>\\n<p>Mezi vyučujícími IES působí 6 ekonomů, kteří figurují mezi deseti nejlepšími českými ekonomy podle <a href=\"/w/index.php?title=Repec&amp;action=edit&amp;redlink=1\" class=\"new\" title=\"Repec (stránka neexistuje)\">RePEc</a> Country Ranking.<sup id=\"cite_ref-8\" class=\"reference\"><a href=\"#cite_note-8\">&#91;8&#93;</a></sup> Jsou jimi <a href=\"/wiki/Tom%C3%A1%C5%A1_Havr%C3%A1nek_(ekonom)\" title=\"Tomáš Havránek (ekonom)\">Tomáš Havránek</a>, <a href=\"/w/index.php?title=Roman_Horv%C3%A1th&amp;action=edit&amp;redlink=1\" class=\"new\" title=\"Roman Horváth (stránka neexistuje)\">Roman Horváth</a>, <a href=\"/wiki/Ev%C5%BEen_Ko%C4%8Denda\" title=\"Evžen Kočenda\">Evžen Kočenda</a>, <a href=\"/wiki/Zuzana_Havr%C3%A1nkov%C3%A1\" title=\"Zuzana Havránková\">Zuzana Havránková</a> (roz. Iršová), <a href=\"/w/index.php?title=Jozef_Barun%C3%ADk&amp;action=edit&amp;redlink=1\" class=\"new\" title=\"Jozef Baruník (stránka neexistuje)\">Jozef Baruník</a> a <a href=\"/w/index.php?title=Ladislav_Kri%C5%A1toufek&amp;action=edit&amp;redlink=1\" class=\"new\" title=\"Ladislav Krištoufek (stránka neexistuje)\">Ladislav Krištoufek</a>. K dalším vyučujícím patří například <a href=\"/wiki/Old%C5%99ich_D%C4%9Bdek\" title=\"Oldřich Dědek\">Oldřich Dědek</a> a <a href=\"/wiki/Tom%C3%A1%C5%A1_Holub_(ekonom)\" title=\"Tomáš Holub (ekonom)\">Tomáš Holub</a>.\\n</p>\\n<h2><span class=\"mw-headline\" id=\"Odkazy\">Odkazy</span><span class=\"mw-editsection\"><span class=\"mw-editsection-bracket\">[</span><a href=\"/w/index.php?title=Institut_ekonomick%C3%BDch_studi%C3%AD_Fakulty_soci%C3%A1ln%C3%ADch_v%C4%9Bd_Univerzity_Karlovy&amp;veaction=edit&amp;section=3\" title=\"Editace sekce: Odkazy\" class=\"mw-editsection-visualeditor\"><span>editovat</span></a><span class=\"mw-editsection-divider\"> | </span><a href=\"/w/index.php?title=Institut_ekonomick%C3%BDch_studi%C3%AD_Fakulty_soci%C3%A1ln%C3%ADch_v%C4%9Bd_Univerzity_Karlovy&amp;action=edit&amp;section=3\" title=\"Edit section&#039;s source code: Odkazy\"><span>editovat zdroj</span></a><span class=\"mw-editsection-bracket\">]</span></span></h2>\\n<h3><span class=\"mw-headline\" id=\"Reference\">Reference</span><span class=\"mw-editsection\"><span class=\"mw-editsection-bracket\">[</span><a href=\"/w/index.php?title=Institut_ekonomick%C3%BDch_studi%C3%AD_Fakulty_soci%C3%A1ln%C3%ADch_v%C4%9Bd_Univerzity_Karlovy&amp;veaction=edit&amp;section=4\" title=\"Editace sekce: Reference\" class=\"mw-editsection-visualeditor\"><span>editovat</span></a><span class=\"mw-editsection-divider\"> | </span><a href=\"/w/index.php?title=Institut_ekonomick%C3%BDch_studi%C3%AD_Fakulty_soci%C3%A1ln%C3%ADch_v%C4%9Bd_Univerzity_Karlovy&amp;action=edit&amp;section=4\" title=\"Edit section&#039;s source code: Reference\"><span>editovat zdroj</span></a><span class=\"mw-editsection-bracket\">]</span></span></h3>\\n<div class=\"mw-references-wrap\"><ol class=\"references\">\\n<li id=\"cite_note-1\"><span class=\"mw-cite-backlink\"><a href=\"#cite_ref-1\">↑</a></span> <span class=\"reference-text\"><cite style=\"font-style:normal;\">KEMÉNYOVÁ, Zuzana. Žebříčky HN: Nejlepší ekonomickou školou v Česku je Institut ekonomických studií Univerzity Karlovy. <i>Hospodářské noviny</i> [online]. 2016-01-20 [cit. 2019-02-05]. <a rel=\"nofollow\" class=\"external text\" href=\"https://byznys.ihned.cz/c1-65112220-zebricky-hn-nejlepsi-ekonomickou-skolou-v-cesku-je-institut-ekonomickych-studii-univerzity-karlovy\">Dostupné online</a>.</cite><span class=\"Z3988\" title=\"ctx_ver=Z39.88-2004&amp;rft_val_fmt=info%3Aofi%2Ffmt%3Akev%3Amtx%3Ajournal&amp;rfr_id=info:sid/cs.wikipedia.org:templatecitaceelperiodika&amp;rft.jtitle=Hospod%C3%A1%C5%99sk%C3%A9+noviny&amp;rft_id=https%3A%2F%2Fbyznys.ihned.cz%2Fc1-65112220-zebricky-hn-nejlepsi-ekonomickou-skolou-v-cesku-je-institut-ekonomickych-studii-univerzity-karlovy&amp;rft.atitle=%C5%BDeb%C5%99%C3%AD%C4%8Dky+HN%3A+Nejlep%C5%A1%C3%AD+ekonomickou+%C5%A1kolou+v+%C4%8Cesku+je+Institut+ekonomick%C3%BDch+studi%C3%AD+Univerzity+Karlovy&amp;rft.date=2016-01-20&amp;rft.aulast=Kem%C3%A9nyov%C3%A1&amp;rft.aufirst=Zuzana\"><span style=\"display:none\">&#160;</span></span></span>\\n</li>\\n<li id=\"cite_note-2\"><span class=\"mw-cite-backlink\"><a href=\"#cite_ref-2\">↑</a></span> <span class=\"reference-text\"><cite style=\"font-style:normal;\"> Within Country and State Economics Rankings: Czech Republic | IDEAS/RePEc. <i>ideas.repec.org</i> [online]. [cit. 2019-02-05]. <a rel=\"nofollow\" class=\"external text\" href=\"https://ideas.repec.org/top/top.czech.html#inst10\">Dostupné online</a>.</cite><span class=\"Z3988\" title=\"ctx_ver=Z39.88-2004&amp;rft_val_fmt=info%3Aofi%2Ffmt%3Akev%3Amtx%3Ajournal&amp;rfr_id=info:sid/cs.wikipedia.org:templatecitaceelperiodika&amp;rft.jtitle=ideas.repec.org&amp;rft_id=https%3A%2F%2Fideas.repec.org%2Ftop%2Ftop.czech.html%23inst10&amp;rft.atitle=Within+Country+and+State+Economics+Rankings%3A+Czech+Republic+%7C+IDEAS%2FRePEc\"><span style=\"display:none\">&#160;</span></span></span>\\n</li>\\n<li id=\"cite_note-3\"><span class=\"mw-cite-backlink\"><a href=\"#cite_ref-3\">↑</a></span> <span class=\"reference-text\"><cite style=\"font-style:normal;\"> ShanghaiRanking\\'s Global Ranking of Academic Subjects 2018 - Economics | Shanghai Ranking - 2018. <i>www.shanghairanking.com</i> [online]. [cit. 2019-02-06]. <a rel=\"nofollow\" class=\"external text\" href=\"https://web.archive.org/web/20200413172011/http://www.shanghairanking.com/Shanghairanking-Subject-Rankings/economics.html\">Dostupné v&#160;archivu</a> pořízeném z&#160;<a rel=\"nofollow\" class=\"external text\" href=\"http://www.shanghairanking.com/Shanghairanking-Subject-Rankings/economics.html\">originálu</a> dne&#160;2020-04-13.</cite><span class=\"Z3988\" title=\"ctx_ver=Z39.88-2004&amp;rft_val_fmt=info%3Aofi%2Ffmt%3Akev%3Amtx%3Ajournal&amp;rfr_id=info:sid/cs.wikipedia.org:templatecitaceelperiodika&amp;rft.jtitle=www.shanghairanking.com&amp;rft_id=http%3A%2F%2Fwww.shanghairanking.com%2FShanghairanking-Subject-Rankings%2Feconomics.html&amp;rft.atitle=ShanghaiRanking%27s+Global+Ranking+of+Academic+Subjects+2018+-+Economics+%7C+Shanghai+Ranking+-+2018\"><span style=\"display:none\">&#160;</span></span></span>\\n</li>\\n<li id=\"cite_note-4\"><span class=\"mw-cite-backlink\"><a href=\"#cite_ref-4\">↑</a></span> <span class=\"reference-text\"><cite style=\"font-style:normal;\"> ShanghaiRanking\\'s Global Ranking of Academic Subjects 2018 - Finance | Shanghai Ranking - 2018. <i>www.shanghairanking.com</i> [online]. [cit. 2019-02-06]. <a rel=\"nofollow\" class=\"external text\" href=\"https://web.archive.org/web/20170702090429/http://www.shanghairanking.com/Shanghairanking-Subject-Rankings/finance.html\">Dostupné v&#160;archivu</a> pořízeném z&#160;<a rel=\"nofollow\" class=\"external text\" href=\"http://www.shanghairanking.com/Shanghairanking-Subject-Rankings/finance.html\">originálu</a> dne&#160;2017-07-02.</cite><span class=\"Z3988\" title=\"ctx_ver=Z39.88-2004&amp;rft_val_fmt=info%3Aofi%2Ffmt%3Akev%3Amtx%3Ajournal&amp;rfr_id=info:sid/cs.wikipedia.org:templatecitaceelperiodika&amp;rft.jtitle=www.shanghairanking.com&amp;rft_id=http%3A%2F%2Fwww.shanghairanking.com%2FShanghairanking-Subject-Rankings%2Ffinance.html&amp;rft.atitle=ShanghaiRanking%27s+Global+Ranking+of+Academic+Subjects+2018+-+Finance+%7C+Shanghai+Ranking+-+2018\"><span style=\"display:none\">&#160;</span></span></span>\\n</li>\\n<li id=\"cite_note-5\"><span class=\"mw-cite-backlink\"><a href=\"#cite_ref-5\">↑</a></span> <span class=\"reference-text\"><cite style=\"font-style:normal;\"> IES&#160;:: Bakalářský program Ekonomie a finance. <i>ies.fsv.cuni.cz</i> [online]. [cit. 2019-02-05]. <a rel=\"nofollow\" class=\"external text\" href=\"http://ies.fsv.cuni.cz/cs/node/294\">Dostupné online</a>.</cite><span class=\"Z3988\" title=\"ctx_ver=Z39.88-2004&amp;rft_val_fmt=info%3Aofi%2Ffmt%3Akev%3Amtx%3Ajournal&amp;rfr_id=info:sid/cs.wikipedia.org:templatecitaceelperiodika&amp;rft.jtitle=ies.fsv.cuni.cz&amp;rft_id=http%3A%2F%2Fies.fsv.cuni.cz%2Fcs%2Fnode%2F294&amp;rft.atitle=IES+%3A%3A+Bakal%C3%A1%C5%99sk%C3%BD+program+Ekonomie+a+finance\"><span style=\"display:none\">&#160;</span></span></span>\\n</li>\\n<li id=\"cite_note-6\"><span class=\"mw-cite-backlink\"><a href=\"#cite_ref-6\">↑</a></span> <span class=\"reference-text\"><cite style=\"font-style:normal;\"> IES&#160;:: Magisterský program Ekonomie a finance. <i>ies.fsv.cuni.cz</i> [online]. [cit. 2019-02-05]. <a rel=\"nofollow\" class=\"external text\" href=\"https://web.archive.org/web/20190207020401/http://ies.fsv.cuni.cz/cs/node/296\">Dostupné v&#160;archivu</a> pořízeném z&#160;<a rel=\"nofollow\" class=\"external text\" href=\"http://ies.fsv.cuni.cz/cs/node/296\">originálu</a> dne&#160;2019-02-07.</cite><span class=\"Z3988\" title=\"ctx_ver=Z39.88-2004&amp;rft_val_fmt=info%3Aofi%2Ffmt%3Akev%3Amtx%3Ajournal&amp;rfr_id=info:sid/cs.wikipedia.org:templatecitaceelperiodika&amp;rft.jtitle=ies.fsv.cuni.cz&amp;rft_id=http%3A%2F%2Fies.fsv.cuni.cz%2Fcs%2Fnode%2F296&amp;rft.atitle=IES+%3A%3A+Magistersk%C3%BD+program+Ekonomie+a+finance\"><span style=\"display:none\">&#160;</span></span></span>\\n</li>\\n<li id=\"cite_note-:0-7\"><span class=\"mw-cite-backlink\">↑ <a href=\"#cite_ref-:0_7-0\"><sup style=\"font-style: italic; font-weight: bold; vertical-align: top\">a</sup></a> <a href=\"#cite_ref-:0_7-1\"><sup style=\"font-style: italic; font-weight: bold; vertical-align: top\">b</sup></a></span> <span class=\"reference-text\"><cite style=\"font-style:normal;\"> IES&#160;:: Kdo jsme?. <i>ies.fsv.cuni.cz</i> [online]. [cit. 2019-02-06]. <a rel=\"nofollow\" class=\"external text\" href=\"http://ies.fsv.cuni.cz/cs/node/264\">Dostupné online</a>.</cite><span class=\"Z3988\" title=\"ctx_ver=Z39.88-2004&amp;rft_val_fmt=info%3Aofi%2Ffmt%3Akev%3Amtx%3Ajournal&amp;rfr_id=info:sid/cs.wikipedia.org:templatecitaceelperiodika&amp;rft.jtitle=ies.fsv.cuni.cz&amp;rft_id=http%3A%2F%2Fies.fsv.cuni.cz%2Fcs%2Fnode%2F264&amp;rft.atitle=IES+%3A%3A+Kdo+jsme%3F\"><span style=\"display:none\">&#160;</span></span></span>\\n</li>\\n<li id=\"cite_note-8\"><span class=\"mw-cite-backlink\"><a href=\"#cite_ref-8\">↑</a></span> <span class=\"reference-text\"><cite style=\"font-style:normal;\"> Within Country and State Economics Rankings: Czech Republic | IDEAS/RePEc. <i>ideas.repec.org</i> [online]. [cit. 2019-02-06]. <a rel=\"nofollow\" class=\"external text\" href=\"https://ideas.repec.org/top/top.czech.html#authors\">Dostupné online</a>.</cite><span class=\"Z3988\" title=\"ctx_ver=Z39.88-2004&amp;rft_val_fmt=info%3Aofi%2Ffmt%3Akev%3Amtx%3Ajournal&amp;rfr_id=info:sid/cs.wikipedia.org:templatecitaceelperiodika&amp;rft.jtitle=ideas.repec.org&amp;rft_id=https%3A%2F%2Fideas.repec.org%2Ftop%2Ftop.czech.html%23authors&amp;rft.atitle=Within+Country+and+State+Economics+Rankings%3A+Czech+Republic+%7C+IDEAS%2FRePEc\"><span style=\"display:none\">&#160;</span></span></span>\\n</li>\\n</ol></div>\\n<h3><span id=\"Extern.C3.AD_odkazy\"></span><span class=\"mw-headline\" id=\"Externí_odkazy\">Externí odkazy</span><span class=\"mw-editsection\"><span class=\"mw-editsection-bracket\">[</span><a href=\"/w/index.php?title=Institut_ekonomick%C3%BDch_studi%C3%AD_Fakulty_soci%C3%A1ln%C3%ADch_v%C4%9Bd_Univerzity_Karlovy&amp;veaction=edit&amp;section=5\" title=\"Editace sekce: Externí odkazy\" class=\"mw-editsection-visualeditor\"><span>editovat</span></a><span class=\"mw-editsection-divider\"> | </span><a href=\"/w/index.php?title=Institut_ekonomick%C3%BDch_studi%C3%AD_Fakulty_soci%C3%A1ln%C3%ADch_v%C4%9Bd_Univerzity_Karlovy&amp;action=edit&amp;section=5\" title=\"Edit section&#039;s source code: Externí odkazy\"><span>editovat zdroj</span></a><span class=\"mw-editsection-bracket\">]</span></span></h3>\\n<ul><li><span class=\"wd\"><span class=\"sisterproject sisterproject-commons\"><span class=\"sisterproject_image\"><span typeof=\"mw:File\"><a href=\"/wiki/Wikimedia_Commons\" title=\"Wikimedia Commons\"><img alt=\"Logo Wikimedia Commons\" src=\"//upload.wikimedia.org/wikipedia/commons/thumb/4/4a/Commons-logo.svg/12px-Commons-logo.svg.png\" decoding=\"async\" width=\"12\" height=\"16\" class=\"mw-file-element\" srcset=\"//upload.wikimedia.org/wikipedia/commons/thumb/4/4a/Commons-logo.svg/18px-Commons-logo.svg.png 1.5x, //upload.wikimedia.org/wikipedia/commons/thumb/4/4a/Commons-logo.svg/24px-Commons-logo.svg.png 2x\" data-file-width=\"1024\" data-file-height=\"1376\" /></a></span></span> <span class=\"sisterproject_text\">Obrázky, zvuky či videa k tématu <span class=\"sisterproject_text_target\"><a href=\"https://commons.wikimedia.org/wiki/Category:Institut_ekonomick%C3%BDch_studi%C3%AD_FSV_UK\" class=\"extiw\" title=\"c:Category:Institut ekonomických studií FSV UK\">Institut ekonomických studií</a></span> na <a href=\"/wiki/Wikimedia_Commons\" title=\"Wikimedia Commons\">Wikimedia Commons</a></span></span></span><i> </i></li>\\n<li><a rel=\"nofollow\" class=\"external text\" href=\"http://ies.fsv.cuni.cz\">Stránky Institutu ekonomických studií FSV UK </a></li>\\n<li><a rel=\"nofollow\" class=\"external text\" href=\"https://byznys.ihned.cz/c1-65112220-zebricky-hn-nejlepsi-ekonomickou-skolou-v-cesku-je-institut-ekonomickych-studii-univerzity-karlovy\">Srovnání škol v HN</a></li></ul>\\n<table class=\"plainlinks metadata noprint pahyl\" cellpadding=\"2\" style=\"background: transparent;\">\\n<tbody><tr>\\n<td><figure class=\"mw-halign-left\" typeof=\"mw:File\"><a href=\"/wiki/Soubor:Wiki_letter_w.svg\" class=\"mw-file-description\" title=\"Pahýl\"><img alt=\"Pahýl\" src=\"//upload.wikimedia.org/wikipedia/commons/thumb/6/6c/Wiki_letter_w.svg/40px-Wiki_letter_w.svg.png\" decoding=\"async\" width=\"40\" height=\"40\" class=\"mw-file-element\" srcset=\"//upload.wikimedia.org/wikipedia/commons/thumb/6/6c/Wiki_letter_w.svg/60px-Wiki_letter_w.svg.png 1.5x, //upload.wikimedia.org/wikipedia/commons/thumb/6/6c/Wiki_letter_w.svg/80px-Wiki_letter_w.svg.png 2x\" data-file-width=\"44\" data-file-height=\"44\" /></a><figcaption>Pahýl</figcaption></figure>\\n</td>\\n<td><i>Tento článek je příliš stručný nebo <a href=\"/wiki/Wikipedie:Pah%C3%BDl\" title=\"Wikipedie:Pahýl\">postrádá důležité informace</a>.<br />Pomozte Wikipedii tím, že jej vhodně <a class=\"external text\" href=\"https://cs.wikipedia.org/w/index.php?title=Institut_ekonomick%C3%BDch_studi%C3%AD_Fakulty_soci%C3%A1ln%C3%ADch_v%C4%9Bd_Univerzity_Karlovy&amp;action=edit\">rozšíříte</a>. Nevkládejte však <a href=\"/wiki/Wikipedie:Autorsk%C3%A9_pr%C3%A1vo#Publikování_cizích_autorských_děl\" title=\"Wikipedie:Autorské právo\">bez oprávnění</a> cizí texty.</i>\\n</td></tr></tbody></table>\\n<style data-mw-deduplicate=\"TemplateStyles:r23078045\">.mw-parser-output .navbox2{box-sizing:border-box;border:1px solid #a2a9b1;width:100%;clear:both;font-size:88%;text-align:center;padding:1px;margin:1em auto 0}.mw-parser-output .navbox2 .navbox2{margin-top:0}.mw-parser-output .navbox2+.navbox2{margin-top:-1px}.mw-parser-output .navbox2-inner,.mw-parser-output .navbox2-subgroup{width:100%}.mw-parser-output .navbox2-group,.mw-parser-output .navbox2-title,.mw-parser-output .navbox2-abovebelow{padding:0.25em 1em;line-height:1.5em;text-align:center}.mw-parser-output th.navbox2-group{white-space:nowrap;text-align:right}.mw-parser-output .navbox2,.mw-parser-output .navbox2-subgroup{background-color:#fdfdfd}.mw-parser-output .navbox2-list{line-height:1.5em;border-color:#fdfdfd}.mw-parser-output tr+tr>.navbox2-abovebelow,.mw-parser-output tr+tr>.navbox2-group,.mw-parser-output tr+tr>.navbox2-image,.mw-parser-output tr+tr>.navbox2-list{border-top:2px solid #fdfdfd}.mw-parser-output .navbox2 th,.mw-parser-output .navbox2-title{background-color:#e0e0e0}.mw-parser-output .navbox2-abovebelow,.mw-parser-output th.navbox2-group,.mw-parser-output .navbox2-subgroup .navbox2-title{background-color:#e7e7e7}.mw-parser-output .navbox2-subgroup .navbox2-title{font-size:88%}.mw-parser-output .navbox2-subgroup .navbox2-group,.mw-parser-output .navbox2-subgroup .navbox2-abovebelow{background-color:#f0f0f0}.mw-parser-output .navbox2-even{background-color:#f7f7f7}.mw-parser-output .navbox2-odd{background-color:transparent}.mw-parser-output .navbox2 .hlist td dl,.mw-parser-output .navbox2 .hlist td ol,.mw-parser-output .navbox2 .hlist td ul,.mw-parser-output .navbox2 td.hlist dl,.mw-parser-output .navbox2 td.hlist ol,.mw-parser-output .navbox2 td.hlist ul{padding:0.125em 0}</style><div role=\"navigation\" class=\"navbox2\" aria-labelledby=\"Autoritní_data_frameless_&amp;#124;text-top_&amp;#124;10px_&amp;#124;alt=Editovat_na_Wikidatech_&amp;#124;link=https&amp;#58;//www.wikidata.org/wiki/Q12021663#identifiers&amp;#124;Editovat_na_Wikidatech\" style=\"padding:2px\"><table class=\"nowraplinks hlist navbox2-inner\" style=\"border-spacing:0;background:transparent;color:inherit\"><tbody><tr><th id=\"Autoritní_data_frameless_&amp;#124;text-top_&amp;#124;10px_&amp;#124;alt=Editovat_na_Wikidatech_&amp;#124;link=https&amp;#58;//www.wikidata.org/wiki/Q12021663#identifiers&amp;#124;Editovat_na_Wikidatech\" scope=\"row\" class=\"navbox2-group\" style=\"width:1%\"><a href=\"/wiki/Autoritn%C3%AD_kontrola\" title=\"Autoritní kontrola\">Autoritní data</a> <span class=\"mw-valign-text-top\" typeof=\"mw:File/Frameless\"><a href=\"https://www.wikidata.org/wiki/Q12021663#identifiers\" title=\"Editovat na Wikidatech\"><img alt=\"Editovat na Wikidatech\" src=\"//upload.wikimedia.org/wikipedia/commons/thumb/8/8a/OOjs_UI_icon_edit-ltr-progressive.svg/10px-OOjs_UI_icon_edit-ltr-progressive.svg.png\" decoding=\"async\" width=\"10\" height=\"10\" class=\"mw-file-element\" srcset=\"//upload.wikimedia.org/wikipedia/commons/thumb/8/8a/OOjs_UI_icon_edit-ltr-progressive.svg/15px-OOjs_UI_icon_edit-ltr-progressive.svg.png 1.5x, //upload.wikimedia.org/wikipedia/commons/thumb/8/8a/OOjs_UI_icon_edit-ltr-progressive.svg/20px-OOjs_UI_icon_edit-ltr-progressive.svg.png 2x\" data-file-width=\"20\" data-file-height=\"20\" /></a></span></th><td class=\"navbox2-list navbox2-odd\" style=\"text-align:left;border-left-width:2px;border-left-style:solid;width:100%;padding:0px\"><div style=\"padding:0em 0.25em\">\\n<ul><li><span class=\"nowrap\"><a href=\"/wiki/N%C3%A1rodn%C3%AD_knihovna_%C4%8Cesk%C3%A9_republiky\" title=\"Národní knihovna České republiky\">NKC</a>: <span class=\"uid\"><a rel=\"nofollow\" class=\"external text\" href=\"https://aleph.nkp.cz/F/?func=find-c&amp;local_base=aut&amp;ccl_term=ica=xx0005480\">xx0005480</a></span></span></li>\\n<li><span class=\"nowrap\"><a href=\"/wiki/Library_of_Congress_Control_Number\" title=\"Library of Congress Control Number\">LCCN</a>: <span class=\"uid\"><a rel=\"nofollow\" class=\"external text\" href=\"https://id.loc.gov/authorities/names/no2014093230\">no2014093230</a></span></span></li>\\n<li><span class=\"nowrap\"><a href=\"/wiki/Virtual_International_Authority_File\" title=\"Virtual International Authority File\">VIAF</a>: <span class=\"uid\"><a rel=\"nofollow\" class=\"external text\" href=\"https://viaf.org/viaf/134194408\">134194408</a></span></span></li>\\n<li><span class=\"nowrap\"> <a href=\"/wiki/WorldCat\" title=\"WorldCat\">WorldCat Identities</a>: <a rel=\"nofollow\" class=\"external text\" href=\"https://www.worldcat.org/identities/lccn-no2014093230\">lccn-no2014093230</a></span></li></ul>\\n</div></td></tr></tbody></table></div>\\n<style data-mw-deduplicate=\"TemplateStyles:r16915398\">.mw-parser-output div/**/#portallinks a{font-weight:bold}</style><div id=\"portallinks\" class=\"catlinks\"><a href=\"/wiki/Port%C3%A1l:Obsah\" title=\"Portál:Obsah\">Portály</a>: <a href=\"/wiki/Port%C3%A1l:Praha\" title=\"Portál:Praha\">Praha</a>           \\n</div>\\n<!-- \\nNewPP limit report\\nParsed by mw‐web.codfw.main‐7cc586fbdd‐pscpt\\nCached time: 20240317190046\\nCache expiry: 2592000\\nReduced expiry: false\\nComplications: [show‐toc]\\nCPU time usage: 0.277 seconds\\nReal time usage: 0.539 seconds\\nPreprocessor visited node count: 1453/1000000\\nPost‐expand include size: 31134/2097152 bytes\\nTemplate argument size: 4730/2097152 bytes\\nHighest expansion depth: 21/100\\nExpensive parser function count: 4/500\\nUnstrip recursion depth: 0/20\\nUnstrip post‐expand size: 12907/5000000 bytes\\nLua time usage: 0.138/10.000 seconds\\nLua memory usage: 3018704/52428800 bytes\\nNumber of Wikibase entities loaded: 3/400\\n-->\\n<!--\\nTransclusion expansion time report (%,ms,calls,template)\\n100.00%  388.699      1 -total\\n 69.69%  270.888      1 Šablona:Infobox_-_organizace\\n 68.82%  267.511      1 Šablona:Infobox\\n 20.50%   79.701      1 Šablona:Adresa_z_WD\\n 14.91%   57.942      1 Šablona:WD_štítek\\n 12.98%   50.446      1 Šablona:Autoritní_data\\n 12.43%   48.297      2 Šablona:Obrázek_z_WD\\n  5.95%   23.124      8 Šablona:První_neprázdný\\n  4.90%   19.048      1 Šablona:Commonscat\\n  4.12%   16.010      8 Šablona:Citace_elektronického_periodika\\n-->\\n\\n<!-- Saved in parser cache with key cswiki:pcache:idhash:439632-0!canonical and timestamp 20240317190046 and revision id 23667313. Rendering was triggered because: page-view\\n -->\\n</div><!--esi <esi:include src=\"/esitest-fa8a495983347898/content\" /> --><noscript><img src=\"https://login.wikimedia.org/wiki/Special:CentralAutoLogin/start?type=1x1\" alt=\"\" width=\"1\" height=\"1\" style=\"border: none; position: absolute;\"></noscript>\\n<div class=\"printfooter\" data-nosnippet=\"\">Citováno z „<a dir=\"ltr\" href=\"https://cs.wikipedia.org/w/index.php?title=Institut_ekonomických_studií_Fakulty_sociálních_věd_Univerzity_Karlovy&amp;oldid=23667313\">https://cs.wikipedia.org/w/index.php?title=Institut_ekonomických_studií_Fakulty_sociálních_věd_Univerzity_Karlovy&amp;oldid=23667313</a>“</div></div>\\n\\t\\t\\t\\t\\t<div id=\"catlinks\" class=\"catlinks\" data-mw=\"interface\"><div id=\"mw-normal-catlinks\" class=\"mw-normal-catlinks\"><a href=\"/wiki/N%C3%A1pov%C4%9Bda:Kategorie\" title=\"Nápověda:Kategorie\">Kategorie</a>: <ul><li><a href=\"/wiki/Kategorie:Fakulta_soci%C3%A1ln%C3%ADch_v%C4%9Bd_Univerzity_Karlovy\" title=\"Kategorie:Fakulta sociálních věd Univerzity Karlovy\">Fakulta sociálních věd Univerzity Karlovy</a></li></ul></div><div id=\"mw-hidden-catlinks\" class=\"mw-hidden-catlinks mw-hidden-cats-hidden\">Skryté kategorie: <ul><li><a href=\"/wiki/Kategorie:Monitoring:Adresa_z_Wikidat\" title=\"Kategorie:Monitoring:Adresa z Wikidat\">Monitoring:Adresa z Wikidat</a></li><li><a href=\"/wiki/Kategorie:Pah%C3%BDly\" title=\"Kategorie:Pahýly\">Pahýly</a></li><li><a href=\"/wiki/Kategorie:Monitoring:%C4%8Cl%C3%A1nky_s_identifik%C3%A1torem_NKC\" title=\"Kategorie:Monitoring:Články s identifikátorem NKC\">Monitoring:Články s identifikátorem NKC</a></li><li><a href=\"/wiki/Kategorie:Monitoring:%C4%8Cl%C3%A1nky_s_identifik%C3%A1torem_LCCN\" title=\"Kategorie:Monitoring:Články s identifikátorem LCCN\">Monitoring:Články s identifikátorem LCCN</a></li><li><a href=\"/wiki/Kategorie:Monitoring:%C4%8Cl%C3%A1nky_s_identifik%C3%A1torem_VIAF\" title=\"Kategorie:Monitoring:Články s identifikátorem VIAF\">Monitoring:Články s identifikátorem VIAF</a></li><li><a href=\"/wiki/Kategorie:Monitoring:%C4%8Cl%C3%A1nky_s_identifik%C3%A1torem_WORLDCATID\" title=\"Kategorie:Monitoring:Články s identifikátorem WORLDCATID\">Monitoring:Články s identifikátorem WORLDCATID</a></li><li><a href=\"/wiki/Kategorie:Monitoring:Str%C3%A1nky_s_mapami\" title=\"Kategorie:Monitoring:Stránky s mapami\">Monitoring:Stránky s mapami</a></li></ul></div></div>\\n\\t\\t\\t\\t</div>\\n\\t\\t\\t</main>\\n\\t\\t\\t\\n\\t\\t</div>\\n\\t\\t<div class=\"mw-footer-container\">\\n\\t\\t\\t\\n<footer id=\"footer\" class=\"mw-footer\" role=\"contentinfo\" >\\n\\t<ul id=\"footer-info\">\\n\\t<li id=\"footer-info-lastmod\"> Stránka byla naposledy editována 16. 2. 2024 v 16:06.</li>\\n\\t<li id=\"footer-info-copyright\">Text je dostupný pod <a href=\"https://creativecommons.org/licenses/by-sa/4.0/deed.cs\">licencí Creative Commons Uveďte původ\\xa0– Zachovejte licenci</a>, případně za dalších podmínek. Podrobnosti naleznete na stránce <a href=\"https://foundation.wikimedia.org/wiki/Policy:Terms_of_Use/cs\">Podmínky užití</a>.</li>\\n</ul>\\n\\n\\t<ul id=\"footer-places\">\\n\\t<li id=\"footer-places-privacy\"><a href=\"https://foundation.wikimedia.org/wiki/Special:MyLanguage/Policy:Privacy_policy\">Ochrana osobních údajů</a></li>\\n\\t<li id=\"footer-places-about\"><a href=\"/wiki/Wikipedie\">O\\xa0Wikipedii</a></li>\\n\\t<li id=\"footer-places-disclaimers\"><a href=\"/wiki/Wikipedie:Vylou%C4%8Den%C3%AD_odpov%C4%9Bdnosti\">Vyloučení odpovědnosti</a></li>\\n\\t<li id=\"footer-places-contact\"><a href=\"//cs.wikipedia.org/wiki/Wikipedie:Kontakt\">Kontaktujte Wikipedii</a></li>\\n\\t<li id=\"footer-places-wm-codeofconduct\"><a href=\"https://foundation.wikimedia.org/wiki/Special:MyLanguage/Policy:Universal_Code_of_Conduct\">Kodex chování</a></li>\\n\\t<li id=\"footer-places-developers\"><a href=\"https://developer.wikimedia.org\">Vývojáři</a></li>\\n\\t<li id=\"footer-places-statslink\"><a href=\"https://stats.wikimedia.org/#/cs.wikipedia.org\">Statistiky</a></li>\\n\\t<li id=\"footer-places-cookiestatement\"><a href=\"https://foundation.wikimedia.org/wiki/Special:MyLanguage/Policy:Cookie_statement\">Prohlášení o\\xa0cookies</a></li>\\n\\t<li id=\"footer-places-mobileview\"><a href=\"//cs.m.wikipedia.org/w/index.php?title=Institut_ekonomick%C3%BDch_studi%C3%AD_Fakulty_soci%C3%A1ln%C3%ADch_v%C4%9Bd_Univerzity_Karlovy&amp;mobileaction=toggle_view_mobile\" class=\"noprint stopMobileRedirectToggle\">Mobilní verze</a></li>\\n</ul>\\n\\n\\t<ul id=\"footer-icons\" class=\"noprint\">\\n\\t<li id=\"footer-copyrightico\"><a href=\"https://wikimediafoundation.org/\"><img src=\"/static/images/footer/wikimedia-button.png\" srcset=\"/static/images/footer/wikimedia-button-1.5x.png 1.5x, /static/images/footer/wikimedia-button-2x.png 2x\" width=\"88\" height=\"31\" alt=\"Wikimedia Foundation\" loading=\"lazy\" /></a></li>\\n\\t<li id=\"footer-poweredbyico\"><a href=\"https://www.mediawiki.org/\"><img src=\"/static/images/footer/poweredby_mediawiki_88x31.png\" alt=\"Powered by MediaWiki\" srcset=\"/static/images/footer/poweredby_mediawiki_132x47.png 1.5x, /static/images/footer/poweredby_mediawiki_176x62.png 2x\" width=\"88\" height=\"31\" loading=\"lazy\"></a></li>\\n</ul>\\n\\n</footer>\\n\\n\\t\\t</div>\\n\\t</div> \\n</div> \\n<div class=\"vector-settings\" id=\"p-dock-bottom\">\\n\\t<ul>\\n\\t\\t<li>\\n\\t\\t<button class=\"cdx-button cdx-button--icon-only vector-limited-width-toggle\" id=\"\"><span class=\"vector-icon mw-ui-icon-fullScreen mw-ui-icon-wikimedia-fullScreen\"></span>\\n\\n<span>Přepnout omezenou šířku obsahu</span>\\n</button>\\n</li>\\n\\t</ul>\\n</div>\\n<script>(RLQ=window.RLQ||[]).push(function(){mw.config.set({\"wgHostname\":\"mw-web.eqiad.main-76bc9dd85b-k8qcx\",\"wgBackendResponseTime\":196,\"wgKartographerLiveData\":{\"_ff2d6f6329b115d5dc369d5f5590a68999e89d68\":[{\"type\":\"Feature\",\"geometry\":{\"coordinates\":[14.431111111111,50.082219444444],\"type\":\"Point\"},\"properties\":{\"marker-size\":\"small\",\"marker-symbol\":\"building\",\"marker-color\":\"4682B4\"}}]},\"wgPageParseReport\":{\"limitreport\":{\"cputime\":\"0.277\",\"walltime\":\"0.539\",\"ppvisitednodes\":{\"value\":1453,\"limit\":1000000},\"postexpandincludesize\":{\"value\":31134,\"limit\":2097152},\"templateargumentsize\":{\"value\":4730,\"limit\":2097152},\"expansiondepth\":{\"value\":21,\"limit\":100},\"expensivefunctioncount\":{\"value\":4,\"limit\":500},\"unstrip-depth\":{\"value\":0,\"limit\":20},\"unstrip-size\":{\"value\":12907,\"limit\":5000000},\"entityaccesscount\":{\"value\":3,\"limit\":400},\"timingprofile\":[\"100.00%  388.699      1 -total\",\" 69.69%  270.888      1 Šablona:Infobox_-_organizace\",\" 68.82%  267.511      1 Šablona:Infobox\",\" 20.50%   79.701      1 Šablona:Adresa_z_WD\",\" 14.91%   57.942      1 Šablona:WD_štítek\",\" 12.98%   50.446      1 Šablona:Autoritní_data\",\" 12.43%   48.297      2 Šablona:Obrázek_z_WD\",\"  5.95%   23.124      8 Šablona:První_neprázdný\",\"  4.90%   19.048      1 Šablona:Commonscat\",\"  4.12%   16.010      8 Šablona:Citace_elektronického_periodika\"]},\"scribunto\":{\"limitreport-timeusage\":{\"value\":\"0.138\",\"limit\":\"10.000\"},\"limitreport-memusage\":{\"value\":3018704,\"limit\":52428800}},\"cachereport\":{\"origin\":\"mw-web.codfw.main-7cc586fbdd-pscpt\",\"timestamp\":\"20240317190046\",\"ttl\":2592000,\"transientcontent\":false}}});});</script>\\n<script type=\"application/ld+json\">{\"@context\":\"https:\\\\/\\\\/schema.org\",\"@type\":\"Article\",\"name\":\"Institut ekonomick\\\\u00fdch studi\\\\u00ed Fakulty soci\\\\u00e1ln\\\\u00edch v\\\\u011bd Univerzity Karlovy\",\"url\":\"https:\\\\/\\\\/cs.wikipedia.org\\\\/wiki\\\\/Institut_ekonomick%C3%BDch_studi%C3%AD_Fakulty_soci%C3%A1ln%C3%ADch_v%C4%9Bd_Univerzity_Karlovy\",\"sameAs\":\"http:\\\\/\\\\/www.wikidata.org\\\\/entity\\\\/Q12021663\",\"mainEntity\":\"http:\\\\/\\\\/www.wikidata.org\\\\/entity\\\\/Q12021663\",\"author\":{\"@type\":\"Organization\",\"name\":\"P\\\\u0159isp\\\\u011bvatel\\\\u00e9 projekt\\\\u016f Wikimedia\"},\"publisher\":{\"@type\":\"Organization\",\"name\":\"nadace Wikimedia\",\"logo\":{\"@type\":\"ImageObject\",\"url\":\"https:\\\\/\\\\/www.wikimedia.org\\\\/static\\\\/images\\\\/wmf-hor-googpub.png\"}},\"datePublished\":\"2009-06-06T20:44:00Z\",\"dateModified\":\"2024-02-16T15:06:28Z\",\"image\":\"https:\\\\/\\\\/upload.wikimedia.org\\\\/wikipedia\\\\/commons\\\\/6\\\\/64\\\\/Praha%2C_Nov%C3%A9_M%C4%9Bsto%2C_Opletalova%2C_IES_FSV_UK.JPG\",\"headline\":\"institut Fakulty soci\\\\u00e1ln\\\\u00edch v\\\\u011bd UK\"}</script>\\n</body>\\n</html>'"
      ]
     },
     "execution_count": 64,
     "metadata": {},
     "output_type": "execute_result"
    }
   ],
   "source": [
    "r = requests.get('https://cs.wikipedia.org/wiki/Institut_ekonomick%C3%BDch_studi%C3%AD_Fakulty_soci%C3%A1ln%C3%ADch_v%C4%9Bd_Univerzity_Karlovy')\n",
    "#plain request - like browser\n",
    "r.text"
   ]
  },
  {
   "cell_type": "code",
   "execution_count": 66,
   "metadata": {},
   "outputs": [],
   "source": [
    "soup = BeautifulSoup(r.text,'html')\n",
    "tags=soup.findAll('span', {'class':\"wd\"})"
   ]
  },
  {
   "cell_type": "code",
   "execution_count": 67,
   "metadata": {},
   "outputs": [
    {
     "data": {
      "text/plain": [
       "[<span class=\"wd\"><span lang=\"cs\">Budova IES FSV UK v Praze v Opletalově ulici</span></span>,\n",
       " <span class=\"wd\"><a href=\"/wiki/Opletalova\" title=\"Opletalova\">Opletalova</a>, <a href=\"/wiki/Praha\" title=\"Praha\">Praha</a>, <a href=\"/wiki/%C4%8Cesko\" title=\"Česko\">Česko</a></span>,\n",
       " <span class=\"wd\"><span></span><span class=\"coordinates\"><a class=\"external text\" href=\"//geohack.toolforge.org/geohack.php?language=cs&amp;pagename=Institut+ekonomick%C3%BDch+studi%C3%AD+Fakulty+soci%C3%A1ln%C3%ADch+v%C4%9Bd+Univerzity+Karlovy&amp;params=50.082219444444_N_14.431111111111_E_type:landmark\"><span style=\"white-space:pre\">50°4′55,99″ s. š.</span>, <span style=\"white-space:pre\">14°25′52″ v. d.</span></a></span></span>,\n",
       " <span class=\"wd\"><span class=\"sisterproject sisterproject-commons\"><span class=\"sisterproject_image\"><span typeof=\"mw:File\"><a href=\"/wiki/Wikimedia_Commons\" title=\"Wikimedia Commons\"><img alt=\"Logo Wikimedia Commons\" class=\"mw-file-element\" data-file-height=\"1376\" data-file-width=\"1024\" decoding=\"async\" height=\"16\" src=\"//upload.wikimedia.org/wikipedia/commons/thumb/4/4a/Commons-logo.svg/12px-Commons-logo.svg.png\" srcset=\"//upload.wikimedia.org/wikipedia/commons/thumb/4/4a/Commons-logo.svg/18px-Commons-logo.svg.png 1.5x, //upload.wikimedia.org/wikipedia/commons/thumb/4/4a/Commons-logo.svg/24px-Commons-logo.svg.png 2x\" width=\"12\"/></a></span></span> <span class=\"sisterproject_text\">Obrázky, zvuky či videa k tématu <span class=\"sisterproject_text_target\"><a class=\"extiw\" href=\"https://commons.wikimedia.org/wiki/Category:Institut_ekonomick%C3%BDch_studi%C3%AD_FSV_UK\" title=\"c:Category:Institut ekonomických studií FSV UK\">Institut ekonomických studií</a></span> na <a href=\"/wiki/Wikimedia_Commons\" title=\"Wikimedia Commons\">Wikimedia Commons</a></span></span></span>]"
      ]
     },
     "execution_count": 67,
     "metadata": {},
     "output_type": "execute_result"
    }
   ],
   "source": [
    "tags"
   ]
  },
  {
   "cell_type": "markdown",
   "metadata": {
    "tags": []
   },
   "source": [
    "### POST request\n",
    "* slow\n",
    "* private\n",
    "* both sides can send data"
   ]
  },
  {
   "cell_type": "markdown",
   "metadata": {},
   "source": [
    "## Static pages x Dynamic pages x JavaScript-rendered pages\n",
    "\n",
    "### Static\n",
    "\n",
    "* pages that do not get updated instantly\n",
    "* all information necessary for rendering a website is available after entering the URL\n",
    "* It may ask the database, but the output is stable.\n",
    "* all parameters within the adress!\n",
    "* Typical example:\n",
    "    \n",
    "### JavaScript rendered: \n",
    "* Defacto static, but you cannot take advantage of HTML/CSS structure\n",
    "\n",
    "### Dynamic content\n",
    "* webpage instantly communicates with the webserver and the database\n",
    "* \n",
    "* solution -> Selenium!\n",
    "\n",
    "### Is this website static or dynamic?\n",
    "\n",
    "1. Facebook\n",
    "2. Sreality.cz\n",
    "3. IES website\n",
    "\n"
   ]
  },
  {
   "cell_type": "markdown",
   "metadata": {},
   "source": [
    "## How to chose data source for project\n",
    "\n",
    "You need to know in advance what data you will download:\n",
    "\n",
    "1. full or satisfactory access to API\n",
    "2. the web-page is parsable (prefer not too much javascript)\n",
    "3. plan to generate all requests"
   ]
  },
  {
   "cell_type": "markdown",
   "metadata": {},
   "source": [
    "# APIs Example\n",
    "### Get wiki data using GET"
   ]
  },
  {
   "cell_type": "code",
   "execution_count": null,
   "metadata": {},
   "outputs": [],
   "source": [
    "#if time, return to geodata"
   ]
  },
  {
   "cell_type": "markdown",
   "metadata": {},
   "source": [
    "# Lets start with a basic request"
   ]
  },
  {
   "cell_type": "code",
   "execution_count": 68,
   "metadata": {},
   "outputs": [],
   "source": [
    "api_url = 'https://krcgc3uqga.execute-api.eu-central-1.amazonaws.com'\n",
    "#this api implements three routers\n",
    "# GET /time\n",
    "# GET /stocks\n",
    "# POST /hashme"
   ]
  },
  {
   "cell_type": "code",
   "execution_count": 69,
   "metadata": {},
   "outputs": [
    {
     "data": {
      "text/plain": [
       "{'time': '2024-03-26T17:23:05.691Z'}"
      ]
     },
     "execution_count": 69,
     "metadata": {},
     "output_type": "execute_result"
    }
   ],
   "source": [
    "route = 'time'\n",
    "# route /ruːt/\n",
    "response = requests.get(f'{api_url}/{route}')\n",
    "response.json()\n"
   ]
  },
  {
   "cell_type": "code",
   "execution_count": null,
   "metadata": {},
   "outputs": [],
   "source": []
  },
  {
   "cell_type": "code",
   "execution_count": 70,
   "metadata": {},
   "outputs": [
    {
     "name": "stdout",
     "output_type": "stream",
     "text": [
      "{'AAPL': 123.123}\n"
     ]
    }
   ],
   "source": [
    "# route = stocks\n",
    "\n",
    "route = 'stocks'\n",
    "# route /ruːt/\n",
    "response = requests.get(f'{api_url}/{route}')\n",
    "print(response.json())"
   ]
  },
  {
   "cell_type": "code",
   "execution_count": 71,
   "metadata": {},
   "outputs": [
    {
     "name": "stdout",
     "output_type": "stream",
     "text": [
      "{'hash': '9989540023c7d128cc66a374d79574b6'}\n"
     ]
    }
   ],
   "source": [
    "route = \"hashme\"\n",
    "url = f\"https://krcgc3uqga.execute-api.eu-central-1.amazonaws.com/{route}\"\n",
    "\n",
    "payload = json.dumps({\n",
    "  \"name\": \"Jan Sila\"\n",
    "})\n",
    "headers = {\n",
    "  'Content-Type': 'application/json'\n",
    "}\n",
    "\n",
    "response = requests.post(url, headers=headers, data=payload)\n",
    "\n",
    "print(response.json())\n"
   ]
  },
  {
   "cell_type": "code",
   "execution_count": null,
   "metadata": {},
   "outputs": [],
   "source": []
  },
  {
   "cell_type": "code",
   "execution_count": 73,
   "metadata": {},
   "outputs": [
    {
     "name": "stdout",
     "output_type": "stream",
     "text": [
      "Charles University (CU; Czech: Univerzita Karlova, UK; Latin: Universitas Carolina; German: Karls-Universität), also known as Charles University in Prague or historically as the University of Prague (Latin: Universitas Pragensis), is the oldest and largest university in the Czech Republic.[2] It is one of the oldest universities in Europe in continuous operation.[3] Today, the university consists of 17 faculties located in Prague, Hradec Králové, and Plzeň. Charles University is in the top three universities in Central and Eastern Europe.[4][5] The institution has been ranked 200–300 in the world as one of the best universities.[6][7]\n",
      " The establishment of a medieval university in Prague was inspired by Holy Roman Emperor Charles IV.[8] He asked a friend and ally, Pope Clement VI, to do so. On 26 January 1347 the pope issued the bull establishing a university in Prague, modeled on the University of Paris, with the full (4) number of faculties, that is including a theological faculty. On 7 April 1348 Charles, the king of Bohemia, gave to the established university privileges and immunities from the secular power in a Golden Bull[9] and on 14 January 1349 he repeated that as the King of the Romans. Most Czech sources since the 19th century—encyclopedias, general histories, materials of the university itself—prefer to give 1348 as the year of the founding of the university, rather than 1347 or 1349. That was caused by an anticlerical shift in the 19th century, shared by both Czechs and Germans.\n",
      " The university was opened in 1349. The university was sectioned into parts called nations: the Bohemian, Bavarian, Polish and Saxon. The Bohemian natio included Bohemians, Moravians, southern Slavs, and Hungarians; the Bavarian included Austrians, Swabians, natives of Franconia and of the Rhine provinces; the Polish included Silesians, Poles, Ruthenians; the Saxon included inhabitants of the Margravate of Meissen, Thuringia, Upper and Lower Saxony, Denmark, and Sweden.[10] Ethnically Czech students made 16–20% of all students.[11] Archbishop Arnošt of Pardubice took an active part in the foundation by obliging the clergy to contribute and became a chancellor of the university (i.e., director or manager).\n",
      " The first graduate was promoted in 1359. The lectures were held in the colleges, of which the oldest was named for the king the Carolinum, established in 1366. In 1372 the Faculty of Law became an independent university.[12]\n",
      " In 1402 Jerome of Prague in Oxford copied out the Dialogus and Trialogus of John Wycliffe. The dean of the philosophical faculty, Jan Hus, translated Trialogus into the Czech language. In 1403 the university forbade its members to follow the teachings of Wycliffe, but his doctrine continued to gain in popularity.\n",
      " In the Western Schism, the Bohemian nation took the side of king Wenceslaus and supported the Council of Pisa (1409). The other nations of the university declared their support for the side of Pope Gregory XII, thus the vote was 1:3 against the Bohemians. Hus and other Bohemians, though, took advantage of Wenceslaus' opposition to Gregory. By the Decree of Kutná Hora (German: Kuttenberg) on 18 January 1409, the king subverted the university constitution by granting the Bohemian masters three votes. Only a single vote was left for all other three nations combined, compared to one vote per each nation before. The result of this coup was the emigration of foreign (mostly German) professors and students, founding the University of Leipzig in May 1409. Before that, in 1408, the university had about 200 doctors and Masters, 500 bachelors, and 30,000 students[dubious  – discuss]; it now lost a large part of this number, accounts of the loss varying from 5000 to 20,000[dubious  – discuss] including 46 professors.[10]\n",
      " In the autumn of 1409, Hus was elected rector of the now Czech-dominated rump university. The university regressed and it became a regional institution which had a very low status.[13] Soon, in 1419, the faculties of theology and law disappeared, and only the faculty of arts remained in existence.\n",
      " The faculty of arts became a centre of the Hussite movement, and the chief doctrinal authority of the Utraquists. No degrees were given in the years 1417–30; at times there were only eight or nine professors.[10] Emperor Sigismund, son of Charles IV, took what was left into his personal property and some progress was made. The emperor Ferdinand I called the Jesuits to Prague and in 1562 they opened an academy—the Clementinum. From 1541 till 1558 the Czech humanist Mattheus Collinus [de] (1516–1566) was a professor of Greek language.[14] Some progress was made again when the emperor Rudolph II took up residence in Prague. In 1609 the obligatory celibacy of the professors was abolished.[15] In 1616 the Jesuit Academy became a university. (It could award academic degrees.)[15]\n",
      " Jesuits were expelled 1618–1621 during the early stages of the Thirty Years' War, which was started in Prague by anti-Catholic and anti-Imperial Bohemians. By 1622, the Jesuits had a predominant influence over the emperor. An Imperial decree of 19 September 1622 gave the Jesuits supreme control over the entire school system of Bohemia, Moravia, and Silesia. The last four professors at the Carolinum resigned, and all of the Carolinum and nine colleges went to the Jesuits. The right of handing out degrees, of holding chancellorships, and of appointing the secular professors was also granted to the Jesuits.\n",
      " Cardinal Ernst Adalbert of Harrach actively opposed the union of the university with another institution, the withdrawal of the archiepiscopal right to the chancellorship, and prevented the drawing up of the Golden Bull for the confirmation of the grant to Jesuits. Cardinal Ernst funded the Collegium Adalbertinum, and in 1638, Emperor Ferdinand III limited the teaching monopoly enjoyed by the Jesuits. He took from them the rights, properties and archives of the Carolinum making the university once more independent under an imperial protector. During the last years of the Thirty Years' War the Charles Bridge in Prague was courageously defended by students of the Carolinum and Clementinum. Since 1650, those who received any degrees took an oath to maintain the Immaculate Conception of the Blessed Virgin, which has been renewed annually.\n",
      " On 23 February 1654 emperor Ferdinand III merged Carolinum and Clementinum and created a single university with four faculties—Charles-Ferdinand University.[16] Carolinum had at that time only the faculty of arts, as the only faculty surviving the period of the Hussite Wars. Starting at this time, the university designated itself Charles-Ferdinand University (Latin: Universitatis Carolinae Ferdinandeae). The dilapidated Carolinum was rebuilt in 1718 at the expense of the state.\n",
      " The rebuilding and the bureaucratic reforms of universities in the Habsburg monarchy in 1752 and 1754 deprived the university of many of its former privileges. In 1757 a Dominican and an Augustinian were appointed to give theological instruction. However, there was a gradual introduction of enlightened reforms, and this process culminated at the end of the century when even non-Catholics were granted the right to study. On 29 July 1784, German replaced Latin as the language of instruction.[17] For the first time Protestants were allowed, and soon after Jews. The university acknowledged the need for a Czech language and literature chair. Emperor Leopold II established it by a courtly decree on 28 October 1791. On 15 May 1792, scholar and historian Franz Martin Pelzel [cs][18] was named the professor of the chair. He started his lectures on 13 March 1793.[19]\n",
      " In the revolution of 1848, German and Czech students fought for the addition of the Czech language at the Charles-Ferdinand University as a language of lectures. Due to the demographic changes of the 19th century, Prague ceased to have a German-language majority around 1860. By 1863, 22 lecture courses were held in Czech, the remainder (out of 187) in German. In 1864, Germans suggested the creation of a separate Czech university. Czech professors rejected this because they did not wish to lose the continuity of university traditions.\n",
      " It soon became clear that neither the German-speaking Bohemians nor the Czechs were satisfied with the bilingual arrangement that the university had established after the revolutions of 1848. The Czechs also refused to support the idea of the reinstitution of the 1349 student nations, instead declaring their support for the idea of keeping the university together, but dividing it into separate colleges, one German and one Czech. This would allow both Germans and Czechs to retain the collective traditions of the university. German-speakers, however, quickly vetoed this proposal, preferring a pure German university: they proposed to split Charles-Ferdinand University into two separate institutions.\n",
      " After long negotiations, Charles-Ferdinand was divided into a German Charles-Ferdinand University (German: Deutsche Karl-Ferdinands-Universität) and a Czech Charles-Ferdinand University (Czech: Česká universita Karlo-Ferdinandova) by an act of the Cisleithanian Imperial Council, which Emperor Franz Joseph sanctioned on 28 February 1882.[20] Each section was entirely independent of the other, and enjoyed equal status. The two universities shared medical and scientific institutes, the old insignia, aula, library, and botanical garden, but common facilities were administered by the German University. The first rector of the Czech University became Václav Vladivoj Tomek [de].\n",
      " In 1890, the Royal and Imperial Czech Charles Ferdinand University had 112 teachers and 2,191 students and the Royal and Imperial German Charles Ferdinand University had 146 teachers and 1,483 students. Both universities had three faculties; the Theological Faculty remained the common until 1891, when it was divided as well. In the winter semester of 1909–10 the German Charles-Ferdinand University had 1,778 students; these were divided into: 58 theological students, for both the secular priesthood and religious orders; 755 law students; 376 medical; 589 philosophical. Among the students were about 80 women. The professors were divided as follows: theology, 7 regular professors, 1 assistant professor, 1 docent; law, 12 regular professors, 2 assistant professors, 4 docents; medicine, 15 regular professors, 19 assistant, 30 docents; philosophy, 30 regular professors, 8 assistant, 19 docents, 7 lecturers. The Czech Charles-Ferdinand University in the winter semester of 1909–10 included 4,319 students; of these 131 were theological students belonging both to the secular and regular clergy; 1,962 law students; 687 medical; 1,539 philosophical; 256 students were women. The professors were divided as follows: theological faculty, 8 regular professors, 2 docents; law, 12 regular, 7 assistant professors, 12 docents; medicine, 16 regular professors, 22 assistant, 24 docents; philosophy, 29 regular, 16 assistant, 35 docents, 11 lecturers.[10]\n",
      " The high point of the German University was the era preceding the First World War, when it was home to world-renowned scientists such as physicist and philosopher Ernst Mach, Moritz Winternitz and Albert Einstein. In addition, the German-language students included prominent individuals such as future writers Max Brod, Franz Kafka, and Johannes Urzidil.[21] The \"Lese- und Redehalle der deutschen Studenten in Prag\" (\"Reading and Lecture Hall of the German students in Prague\"), founded in 1848, was an important social and scientific centre. Their library contained in 1885 more than 23,519 books and offered 248 scientific journals, 19 daily newspapers, 49 periodicals and 34 papers of entertainment. Regular lectures were held to scientific and political themes.\n",
      " Even before the Austro-Hungarian Empire was abolished in late 1918, to be succeeded by Czechoslovakia, Czech politicians demanded that the insignia of 1348 were exclusively to be kept by the Czech university.[citation needed] The Act No. 197/1919 Sb. z. a n. established the Protestant Theological Faculty, but not as a part of the Charles University.[22] (That changed on 10 May 1990, when it finally became a faculty of the university.[23])\n",
      " In 1920, the so-called Lex Mareš (No. 135/1920 Sb. z. a n.) was issued, named for its initiator, professor of physiology František Mareš, which determined that the Czech university was to be the successor to the original university.[24] Dropping the Habsburg name Ferdinand, it designated itself Charles University, while the German university was not named in the document, and then became officially called the German University in Prague (German: Deutsche Universität Prag).[25][26]\n",
      " In 1921 the German-speaking Bohemians considered moving[27] their university to Liberec (German: Reichenberg), in northern Bohemia. In 1930, about 42,000 inhabitants of Prague spoke German as their native language, while millions lived in northern, southern and western Bohemia, in Czech Silesia and parts of Moravia near the borders with Austria and Germany.\n",
      " In October 1932, after Naegle's death, the Czechs started again a controversy over the insignia. Ethnic tensions intensified, although some professors of the German University were members of the Czechoslovak government. Any agreement to use the insignia for both the universities was rejected.[citation needed] On 21 November 1934, the German University had to hand over the insigniae to the Czechs. The German University senate sent a delegation to Minister of Education Krčmář to protest the writ. At noon on 24 November 1934, several thousand students of the Czech University protested in front of the German university building. The Czech rector Karel Domin gave a speech urging the crowd to attack, while the outnumbered German students tried to resist. Under the threat of violence, on 25 November 1934 rector Otto Grosser [de] (1873–1951) handed over the insigniae. These troubles of 1934 harmed relations between the two universities and nationalities.\n",
      " The tide turned in 1938 when, following the Munich Agreement, German troops entered the border areas of Czechoslovakia (the so-called Sudetenland), as did Polish and Hungarian troops elsewhere. On 15 March 1939 Germans forced Czecho-Slovakia to split apart and the Czech lands were occupied by Nazis as the Protectorate of Bohemia and Moravia. Reichsprotektor Konstantin von Neurath handed the historical insigniae to the German University, which was officially renamed Deutsche Karls-Universität in Prag. On 1 September 1939 the German University was subordinated to the Reich Ministry of Education in Berlin and on 4 November 1939 it was proclaimed to be Reichsuniversität.[28]\n",
      " On 28 October 1939, during a demonstration, Jan Opletal was shot. His burial on 15 November 1939 became another demonstration.[29] On 17 November 1939 (now marked as International Students' Day) the Czech University and all other Czech institutions of higher learning were closed, remaining closed until the end of the War. Nine student leaders were executed and about 1,200 Czech students were interned in Sachsenhausen and not released until 1943. About 20[30] or 35[31] interned students died in the camp. On 8 May 1940 the Czech University was officially renamed Czech Charles University (Czech: Česká universita Karlova) by government regulation 188/1940 Coll.\n",
      " World War II marks the end of the coexistence of the two universities in Prague.\n",
      " In 1945 the insignia of the university (the rector's chain, the scepters of the individual faculties, the university seal and also the founding documents and other historical documents) were stolen by the Nazis. None of these historical objects have been found to this day.\n",
      " Although the university began to recover rapidly after 1945, it did not enjoy academic freedom for long. After the communist coup in 1948, the new regime started to arrange purges and repress all forms of disagreement with the official ideology, and continued to do so for the next four decades, with the second wave of purges during the \"normalization\" period in the beginning of the 1970s.[32] Only in the late 1980s did the situation start to improve; students organized various activities and several peaceful demonstrations in the wake of the Revolutions of 1989 abroad.[33] This initiated the \"Velvet Revolution\" in 1989, in which both students and faculty of the university played a large role. Václav Havel, a writer, dramatist and philosopher, was recruited from the independent academic community and appointed president of the republic in December 1989.\n",
      " On 21 December 2023, a mass shooting occurred at the university. 14 people were killed, and 25 others were wounded.[34][35][36][37] The 24-year-old perpetrator then killed himself.[38][39] Before the shooting at the university, the perpetrator killed his father at their home in Hostouň.[40] He was also identified as the person responsible for the murders of a man and his two-month-old daughter in Klánovice Forest six days earlier on 15 December.[41]\n",
      " Charles University does not have one joint campus. The academic facilities occupy many locations throughout the city of Prague and three of the faculties are located in other cities (two of them in Hradec Králové, one in Plzeň). The historical main building from the 14th century called Karolinum is situated in the Old Town of Prague and constitutes the university's center. It is the seat of the rector and of the Academic Senate of Charles university. Carolinum is also the venue for official academic ceremonies such as matriculations or graduations.\n",
      " Its academic publishing house is Karolinum Press and the university also operates several museums. The Botanical Garden of Charles University, maintained by its Faculty of Science, is located in the New Town.\n",
      " Among the four original faculties of Charles University were: the faculty of law, medicine, art (philosophy) and theology (now catholic theology). Today, Charles University consists of 17 faculties, based primarily in Prague, two houses in Hradec Králové and one in Plzeň.\n",
      " There are also such programs as Egyptology (Czech Institute of Egyptology), Addictology and Criminology.[citation needed]\n",
      " According to Academic Ranking of World Universities (Shanghai Ranking), Charles University ranked in the upper 1.5 percent of the world's best universities in 2011. It came 201st to 300th out of 17,000 universities worldwide.[65] It is the best university in the Czech Republic and one of the best universities in Central and Eastern Europe only overtaken by Russian Lomonosov Moscow State University at 74th place.[4][5] It was placed 31st in Times BRICS & Emerging Economies Rankings 2014 (after 23rd University of Warsaw).[66]\n",
      " It was ranked in 2013 as 201–300 best in the World among 500 universities evaluated by Academic Ranking of World Universities (Shanghai Ranking), 233rd among 500 in QS World University Rankings, 351–400 among 400 universities in Times Higher Education World University Rankings and 485th in CWTS Leiden Ranking of 500 universities. Earlier rankings are presented in following table:[67]\n",
      " Rector of the University Václav Hampl said in 2008: \"I am very pleased that Charles University achieved such a great success and I would like to thank to all who have contributed to it. An overwhelming majority of schools with a similar placement like Charles University have incomparably better financing and therefore this success is not only a reflection of professional qualities of our academics but also their personal efforts and dedication.\"[68]\n",
      " According to the QS Subject Ranking Charles University is among the 150 best universities in the world in geography and linguistics.[69]\n",
      " In Germany the Charles University in Prague cooperates with the Goethe University Frankfurt. Both cities are linked by a long-lasting partnership agreement.[71]\n",
      " \n",
      "\n"
     ]
    }
   ],
   "source": [
    "response = requests.get('https://en.wikipedia.org/wiki/Charles_University')\n",
    "soup = BeautifulSoup(response.text)\n",
    "div = soup.find('div',{'id':'mw-content-text'}) #  #mw-content-text > div > p:nth-child(10)texts)\n",
    "article = ' '.join([p.text for p in div.find_all('p')])\n",
    "print(article)"
   ]
  },
  {
   "cell_type": "markdown",
   "metadata": {},
   "source": [
    "# Bonus example:\n",
    "\n",
    "## GeoJSON\n",
    "\n",
    "* One standardized data format for transferring geodata\n",
    "* Plenty of geodata out there\n",
    "* see for example http://opendata.iprpraha.cz/CUR/OVZ/OVZ_Klima_ZnecOvzdusi_p/WGS_84/OVZ_Klima_ZnecOvzdusi_p.json\n"
   ]
  },
  {
   "cell_type": "code",
   "execution_count": 74,
   "metadata": {},
   "outputs": [],
   "source": [
    "\n",
    "verbose_request = requests.get('http://opendata.iprpraha.cz/CUR/OVZ/OVZ_Klima_ZnecOvzdusi_p/WGS_84/OVZ_Klima_ZnecOvzdusi_p.json')\n"
   ]
  },
  {
   "cell_type": "code",
   "execution_count": 77,
   "metadata": {
    "jupyter": {
     "outputs_hidden": false
    }
   },
   "outputs": [
    {
     "name": "stdout",
     "output_type": "stream",
     "text": [
      "404\n"
     ]
    },
    {
     "data": {
      "text/plain": [
       "['__attrs__',\n",
       " '__bool__',\n",
       " '__class__',\n",
       " '__delattr__',\n",
       " '__dict__',\n",
       " '__dir__',\n",
       " '__doc__',\n",
       " '__enter__',\n",
       " '__eq__',\n",
       " '__exit__',\n",
       " '__format__',\n",
       " '__ge__',\n",
       " '__getattribute__',\n",
       " '__getstate__',\n",
       " '__gt__',\n",
       " '__hash__',\n",
       " '__init__',\n",
       " '__init_subclass__',\n",
       " '__iter__',\n",
       " '__le__',\n",
       " '__lt__',\n",
       " '__module__',\n",
       " '__ne__',\n",
       " '__new__',\n",
       " '__nonzero__',\n",
       " '__reduce__',\n",
       " '__reduce_ex__',\n",
       " '__repr__',\n",
       " '__setattr__',\n",
       " '__setstate__',\n",
       " '__sizeof__',\n",
       " '__str__',\n",
       " '__subclasshook__',\n",
       " '__weakref__',\n",
       " '_content',\n",
       " '_content_consumed',\n",
       " '_next',\n",
       " 'apparent_encoding',\n",
       " 'close',\n",
       " 'connection',\n",
       " 'content',\n",
       " 'cookies',\n",
       " 'elapsed',\n",
       " 'encoding',\n",
       " 'headers',\n",
       " 'history',\n",
       " 'is_permanent_redirect',\n",
       " 'is_redirect',\n",
       " 'iter_content',\n",
       " 'iter_lines',\n",
       " 'json',\n",
       " 'links',\n",
       " 'next',\n",
       " 'ok',\n",
       " 'raise_for_status',\n",
       " 'raw',\n",
       " 'reason',\n",
       " 'request',\n",
       " 'status_code',\n",
       " 'text',\n",
       " 'url']"
      ]
     },
     "execution_count": 77,
     "metadata": {},
     "output_type": "execute_result"
    }
   ],
   "source": [
    "print(verbose_request.status_code)\n",
    "dir(verbose_request)\n"
   ]
  },
  {
   "cell_type": "code",
   "execution_count": 76,
   "metadata": {
    "jupyter": {
     "outputs_hidden": false
    }
   },
   "outputs": [
    {
     "ename": "JSONDecodeError",
     "evalue": "Expecting value: line 1 column 1 (char 0)",
     "output_type": "error",
     "traceback": [
      "\u001b[1;31m---------------------------------------------------------------------------\u001b[0m",
      "\u001b[1;31mJSONDecodeError\u001b[0m                           Traceback (most recent call last)",
      "File \u001b[1;32mC:\\ProgramData\\anaconda3\\lib\\site-packages\\requests\\models.py:971\u001b[0m, in \u001b[0;36mResponse.json\u001b[1;34m(self, **kwargs)\u001b[0m\n\u001b[0;32m    970\u001b[0m \u001b[38;5;28;01mtry\u001b[39;00m:\n\u001b[1;32m--> 971\u001b[0m     \u001b[38;5;28;01mreturn\u001b[39;00m complexjson\u001b[38;5;241m.\u001b[39mloads(\u001b[38;5;28mself\u001b[39m\u001b[38;5;241m.\u001b[39mtext, \u001b[38;5;241m*\u001b[39m\u001b[38;5;241m*\u001b[39mkwargs)\n\u001b[0;32m    972\u001b[0m \u001b[38;5;28;01mexcept\u001b[39;00m JSONDecodeError \u001b[38;5;28;01mas\u001b[39;00m e:\n\u001b[0;32m    973\u001b[0m     \u001b[38;5;66;03m# Catch JSON-related errors and raise as requests.JSONDecodeError\u001b[39;00m\n\u001b[0;32m    974\u001b[0m     \u001b[38;5;66;03m# This aliases json.JSONDecodeError and simplejson.JSONDecodeError\u001b[39;00m\n",
      "File \u001b[1;32mC:\\ProgramData\\anaconda3\\lib\\json\\__init__.py:346\u001b[0m, in \u001b[0;36mloads\u001b[1;34m(s, cls, object_hook, parse_float, parse_int, parse_constant, object_pairs_hook, **kw)\u001b[0m\n\u001b[0;32m    343\u001b[0m \u001b[38;5;28;01mif\u001b[39;00m (\u001b[38;5;28mcls\u001b[39m \u001b[38;5;129;01mis\u001b[39;00m \u001b[38;5;28;01mNone\u001b[39;00m \u001b[38;5;129;01mand\u001b[39;00m object_hook \u001b[38;5;129;01mis\u001b[39;00m \u001b[38;5;28;01mNone\u001b[39;00m \u001b[38;5;129;01mand\u001b[39;00m\n\u001b[0;32m    344\u001b[0m         parse_int \u001b[38;5;129;01mis\u001b[39;00m \u001b[38;5;28;01mNone\u001b[39;00m \u001b[38;5;129;01mand\u001b[39;00m parse_float \u001b[38;5;129;01mis\u001b[39;00m \u001b[38;5;28;01mNone\u001b[39;00m \u001b[38;5;129;01mand\u001b[39;00m\n\u001b[0;32m    345\u001b[0m         parse_constant \u001b[38;5;129;01mis\u001b[39;00m \u001b[38;5;28;01mNone\u001b[39;00m \u001b[38;5;129;01mand\u001b[39;00m object_pairs_hook \u001b[38;5;129;01mis\u001b[39;00m \u001b[38;5;28;01mNone\u001b[39;00m \u001b[38;5;129;01mand\u001b[39;00m \u001b[38;5;129;01mnot\u001b[39;00m kw):\n\u001b[1;32m--> 346\u001b[0m     \u001b[38;5;28;01mreturn\u001b[39;00m \u001b[43m_default_decoder\u001b[49m\u001b[38;5;241;43m.\u001b[39;49m\u001b[43mdecode\u001b[49m\u001b[43m(\u001b[49m\u001b[43ms\u001b[49m\u001b[43m)\u001b[49m\n\u001b[0;32m    347\u001b[0m \u001b[38;5;28;01mif\u001b[39;00m \u001b[38;5;28mcls\u001b[39m \u001b[38;5;129;01mis\u001b[39;00m \u001b[38;5;28;01mNone\u001b[39;00m:\n",
      "File \u001b[1;32mC:\\ProgramData\\anaconda3\\lib\\json\\decoder.py:337\u001b[0m, in \u001b[0;36mJSONDecoder.decode\u001b[1;34m(self, s, _w)\u001b[0m\n\u001b[0;32m    333\u001b[0m \u001b[38;5;124;03m\"\"\"Return the Python representation of ``s`` (a ``str`` instance\u001b[39;00m\n\u001b[0;32m    334\u001b[0m \u001b[38;5;124;03mcontaining a JSON document).\u001b[39;00m\n\u001b[0;32m    335\u001b[0m \n\u001b[0;32m    336\u001b[0m \u001b[38;5;124;03m\"\"\"\u001b[39;00m\n\u001b[1;32m--> 337\u001b[0m obj, end \u001b[38;5;241m=\u001b[39m \u001b[38;5;28;43mself\u001b[39;49m\u001b[38;5;241;43m.\u001b[39;49m\u001b[43mraw_decode\u001b[49m\u001b[43m(\u001b[49m\u001b[43ms\u001b[49m\u001b[43m,\u001b[49m\u001b[43m \u001b[49m\u001b[43midx\u001b[49m\u001b[38;5;241;43m=\u001b[39;49m\u001b[43m_w\u001b[49m\u001b[43m(\u001b[49m\u001b[43ms\u001b[49m\u001b[43m,\u001b[49m\u001b[43m \u001b[49m\u001b[38;5;241;43m0\u001b[39;49m\u001b[43m)\u001b[49m\u001b[38;5;241;43m.\u001b[39;49m\u001b[43mend\u001b[49m\u001b[43m(\u001b[49m\u001b[43m)\u001b[49m\u001b[43m)\u001b[49m\n\u001b[0;32m    338\u001b[0m end \u001b[38;5;241m=\u001b[39m _w(s, end)\u001b[38;5;241m.\u001b[39mend()\n",
      "File \u001b[1;32mC:\\ProgramData\\anaconda3\\lib\\json\\decoder.py:355\u001b[0m, in \u001b[0;36mJSONDecoder.raw_decode\u001b[1;34m(self, s, idx)\u001b[0m\n\u001b[0;32m    354\u001b[0m \u001b[38;5;28;01mexcept\u001b[39;00m \u001b[38;5;167;01mStopIteration\u001b[39;00m \u001b[38;5;28;01mas\u001b[39;00m err:\n\u001b[1;32m--> 355\u001b[0m     \u001b[38;5;28;01mraise\u001b[39;00m JSONDecodeError(\u001b[38;5;124m\"\u001b[39m\u001b[38;5;124mExpecting value\u001b[39m\u001b[38;5;124m\"\u001b[39m, s, err\u001b[38;5;241m.\u001b[39mvalue) \u001b[38;5;28;01mfrom\u001b[39;00m \u001b[38;5;28mNone\u001b[39m\n\u001b[0;32m    356\u001b[0m \u001b[38;5;28;01mreturn\u001b[39;00m obj, end\n",
      "\u001b[1;31mJSONDecodeError\u001b[0m: Expecting value: line 1 column 1 (char 0)",
      "\nDuring handling of the above exception, another exception occurred:\n",
      "\u001b[1;31mJSONDecodeError\u001b[0m                           Traceback (most recent call last)",
      "Cell \u001b[1;32mIn[76], line 1\u001b[0m\n\u001b[1;32m----> 1\u001b[0m \u001b[43mverbose_request\u001b[49m\u001b[38;5;241;43m.\u001b[39;49m\u001b[43mjson\u001b[49m\u001b[43m(\u001b[49m\u001b[43m)\u001b[49m\n",
      "File \u001b[1;32mC:\\ProgramData\\anaconda3\\lib\\site-packages\\requests\\models.py:975\u001b[0m, in \u001b[0;36mResponse.json\u001b[1;34m(self, **kwargs)\u001b[0m\n\u001b[0;32m    971\u001b[0m     \u001b[38;5;28;01mreturn\u001b[39;00m complexjson\u001b[38;5;241m.\u001b[39mloads(\u001b[38;5;28mself\u001b[39m\u001b[38;5;241m.\u001b[39mtext, \u001b[38;5;241m*\u001b[39m\u001b[38;5;241m*\u001b[39mkwargs)\n\u001b[0;32m    972\u001b[0m \u001b[38;5;28;01mexcept\u001b[39;00m JSONDecodeError \u001b[38;5;28;01mas\u001b[39;00m e:\n\u001b[0;32m    973\u001b[0m     \u001b[38;5;66;03m# Catch JSON-related errors and raise as requests.JSONDecodeError\u001b[39;00m\n\u001b[0;32m    974\u001b[0m     \u001b[38;5;66;03m# This aliases json.JSONDecodeError and simplejson.JSONDecodeError\u001b[39;00m\n\u001b[1;32m--> 975\u001b[0m     \u001b[38;5;28;01mraise\u001b[39;00m RequestsJSONDecodeError(e\u001b[38;5;241m.\u001b[39mmsg, e\u001b[38;5;241m.\u001b[39mdoc, e\u001b[38;5;241m.\u001b[39mpos)\n",
      "\u001b[1;31mJSONDecodeError\u001b[0m: Expecting value: line 1 column 1 (char 0)"
     ]
    }
   ],
   "source": [
    "verbose_request.json()\n",
    "\n"
   ]
  },
  {
   "cell_type": "code",
   "execution_count": 78,
   "metadata": {
    "jupyter": {
     "outputs_hidden": false
    }
   },
   "outputs": [
    {
     "ename": "JSONDecodeError",
     "evalue": "Expecting value: line 1 column 1 (char 0)",
     "output_type": "error",
     "traceback": [
      "\u001b[1;31m---------------------------------------------------------------------------\u001b[0m",
      "\u001b[1;31mJSONDecodeError\u001b[0m                           Traceback (most recent call last)",
      "File \u001b[1;32mC:\\ProgramData\\anaconda3\\lib\\site-packages\\requests\\models.py:971\u001b[0m, in \u001b[0;36mResponse.json\u001b[1;34m(self, **kwargs)\u001b[0m\n\u001b[0;32m    970\u001b[0m \u001b[38;5;28;01mtry\u001b[39;00m:\n\u001b[1;32m--> 971\u001b[0m     \u001b[38;5;28;01mreturn\u001b[39;00m complexjson\u001b[38;5;241m.\u001b[39mloads(\u001b[38;5;28mself\u001b[39m\u001b[38;5;241m.\u001b[39mtext, \u001b[38;5;241m*\u001b[39m\u001b[38;5;241m*\u001b[39mkwargs)\n\u001b[0;32m    972\u001b[0m \u001b[38;5;28;01mexcept\u001b[39;00m JSONDecodeError \u001b[38;5;28;01mas\u001b[39;00m e:\n\u001b[0;32m    973\u001b[0m     \u001b[38;5;66;03m# Catch JSON-related errors and raise as requests.JSONDecodeError\u001b[39;00m\n\u001b[0;32m    974\u001b[0m     \u001b[38;5;66;03m# This aliases json.JSONDecodeError and simplejson.JSONDecodeError\u001b[39;00m\n",
      "File \u001b[1;32mC:\\ProgramData\\anaconda3\\lib\\json\\__init__.py:346\u001b[0m, in \u001b[0;36mloads\u001b[1;34m(s, cls, object_hook, parse_float, parse_int, parse_constant, object_pairs_hook, **kw)\u001b[0m\n\u001b[0;32m    343\u001b[0m \u001b[38;5;28;01mif\u001b[39;00m (\u001b[38;5;28mcls\u001b[39m \u001b[38;5;129;01mis\u001b[39;00m \u001b[38;5;28;01mNone\u001b[39;00m \u001b[38;5;129;01mand\u001b[39;00m object_hook \u001b[38;5;129;01mis\u001b[39;00m \u001b[38;5;28;01mNone\u001b[39;00m \u001b[38;5;129;01mand\u001b[39;00m\n\u001b[0;32m    344\u001b[0m         parse_int \u001b[38;5;129;01mis\u001b[39;00m \u001b[38;5;28;01mNone\u001b[39;00m \u001b[38;5;129;01mand\u001b[39;00m parse_float \u001b[38;5;129;01mis\u001b[39;00m \u001b[38;5;28;01mNone\u001b[39;00m \u001b[38;5;129;01mand\u001b[39;00m\n\u001b[0;32m    345\u001b[0m         parse_constant \u001b[38;5;129;01mis\u001b[39;00m \u001b[38;5;28;01mNone\u001b[39;00m \u001b[38;5;129;01mand\u001b[39;00m object_pairs_hook \u001b[38;5;129;01mis\u001b[39;00m \u001b[38;5;28;01mNone\u001b[39;00m \u001b[38;5;129;01mand\u001b[39;00m \u001b[38;5;129;01mnot\u001b[39;00m kw):\n\u001b[1;32m--> 346\u001b[0m     \u001b[38;5;28;01mreturn\u001b[39;00m \u001b[43m_default_decoder\u001b[49m\u001b[38;5;241;43m.\u001b[39;49m\u001b[43mdecode\u001b[49m\u001b[43m(\u001b[49m\u001b[43ms\u001b[49m\u001b[43m)\u001b[49m\n\u001b[0;32m    347\u001b[0m \u001b[38;5;28;01mif\u001b[39;00m \u001b[38;5;28mcls\u001b[39m \u001b[38;5;129;01mis\u001b[39;00m \u001b[38;5;28;01mNone\u001b[39;00m:\n",
      "File \u001b[1;32mC:\\ProgramData\\anaconda3\\lib\\json\\decoder.py:337\u001b[0m, in \u001b[0;36mJSONDecoder.decode\u001b[1;34m(self, s, _w)\u001b[0m\n\u001b[0;32m    333\u001b[0m \u001b[38;5;124;03m\"\"\"Return the Python representation of ``s`` (a ``str`` instance\u001b[39;00m\n\u001b[0;32m    334\u001b[0m \u001b[38;5;124;03mcontaining a JSON document).\u001b[39;00m\n\u001b[0;32m    335\u001b[0m \n\u001b[0;32m    336\u001b[0m \u001b[38;5;124;03m\"\"\"\u001b[39;00m\n\u001b[1;32m--> 337\u001b[0m obj, end \u001b[38;5;241m=\u001b[39m \u001b[38;5;28;43mself\u001b[39;49m\u001b[38;5;241;43m.\u001b[39;49m\u001b[43mraw_decode\u001b[49m\u001b[43m(\u001b[49m\u001b[43ms\u001b[49m\u001b[43m,\u001b[49m\u001b[43m \u001b[49m\u001b[43midx\u001b[49m\u001b[38;5;241;43m=\u001b[39;49m\u001b[43m_w\u001b[49m\u001b[43m(\u001b[49m\u001b[43ms\u001b[49m\u001b[43m,\u001b[49m\u001b[43m \u001b[49m\u001b[38;5;241;43m0\u001b[39;49m\u001b[43m)\u001b[49m\u001b[38;5;241;43m.\u001b[39;49m\u001b[43mend\u001b[49m\u001b[43m(\u001b[49m\u001b[43m)\u001b[49m\u001b[43m)\u001b[49m\n\u001b[0;32m    338\u001b[0m end \u001b[38;5;241m=\u001b[39m _w(s, end)\u001b[38;5;241m.\u001b[39mend()\n",
      "File \u001b[1;32mC:\\ProgramData\\anaconda3\\lib\\json\\decoder.py:355\u001b[0m, in \u001b[0;36mJSONDecoder.raw_decode\u001b[1;34m(self, s, idx)\u001b[0m\n\u001b[0;32m    354\u001b[0m \u001b[38;5;28;01mexcept\u001b[39;00m \u001b[38;5;167;01mStopIteration\u001b[39;00m \u001b[38;5;28;01mas\u001b[39;00m err:\n\u001b[1;32m--> 355\u001b[0m     \u001b[38;5;28;01mraise\u001b[39;00m JSONDecodeError(\u001b[38;5;124m\"\u001b[39m\u001b[38;5;124mExpecting value\u001b[39m\u001b[38;5;124m\"\u001b[39m, s, err\u001b[38;5;241m.\u001b[39mvalue) \u001b[38;5;28;01mfrom\u001b[39;00m \u001b[38;5;28mNone\u001b[39m\n\u001b[0;32m    356\u001b[0m \u001b[38;5;28;01mreturn\u001b[39;00m obj, end\n",
      "\u001b[1;31mJSONDecodeError\u001b[0m: Expecting value: line 1 column 1 (char 0)",
      "\nDuring handling of the above exception, another exception occurred:\n",
      "\u001b[1;31mJSONDecodeError\u001b[0m                           Traceback (most recent call last)",
      "Cell \u001b[1;32mIn[78], line 2\u001b[0m\n\u001b[0;32m      1\u001b[0m \u001b[38;5;66;03m#get already json\u001b[39;00m\n\u001b[1;32m----> 2\u001b[0m d \u001b[38;5;241m=\u001b[39m \u001b[43mrequests\u001b[49m\u001b[38;5;241;43m.\u001b[39;49m\u001b[43mget\u001b[49m\u001b[43m(\u001b[49m\u001b[38;5;124;43m'\u001b[39;49m\u001b[38;5;124;43mhttp://opendata.iprpraha.cz/CUR/OVZ/OVZ_Klima_ZnecOvzdusi_p/WGS_84/OVZ_Klima_ZnecOvzdusi_p.json\u001b[39;49m\u001b[38;5;124;43m'\u001b[39;49m\u001b[43m)\u001b[49m\u001b[38;5;241;43m.\u001b[39;49m\u001b[43mjson\u001b[49m\u001b[43m(\u001b[49m\u001b[43m)\u001b[49m\n\u001b[0;32m      4\u001b[0m d[\u001b[38;5;124m'\u001b[39m\u001b[38;5;124mfeatures\u001b[39m\u001b[38;5;124m'\u001b[39m][\u001b[38;5;241m0\u001b[39m][\u001b[38;5;124m'\u001b[39m\u001b[38;5;124mproperties\u001b[39m\u001b[38;5;124m'\u001b[39m]\n",
      "File \u001b[1;32mC:\\ProgramData\\anaconda3\\lib\\site-packages\\requests\\models.py:975\u001b[0m, in \u001b[0;36mResponse.json\u001b[1;34m(self, **kwargs)\u001b[0m\n\u001b[0;32m    971\u001b[0m     \u001b[38;5;28;01mreturn\u001b[39;00m complexjson\u001b[38;5;241m.\u001b[39mloads(\u001b[38;5;28mself\u001b[39m\u001b[38;5;241m.\u001b[39mtext, \u001b[38;5;241m*\u001b[39m\u001b[38;5;241m*\u001b[39mkwargs)\n\u001b[0;32m    972\u001b[0m \u001b[38;5;28;01mexcept\u001b[39;00m JSONDecodeError \u001b[38;5;28;01mas\u001b[39;00m e:\n\u001b[0;32m    973\u001b[0m     \u001b[38;5;66;03m# Catch JSON-related errors and raise as requests.JSONDecodeError\u001b[39;00m\n\u001b[0;32m    974\u001b[0m     \u001b[38;5;66;03m# This aliases json.JSONDecodeError and simplejson.JSONDecodeError\u001b[39;00m\n\u001b[1;32m--> 975\u001b[0m     \u001b[38;5;28;01mraise\u001b[39;00m RequestsJSONDecodeError(e\u001b[38;5;241m.\u001b[39mmsg, e\u001b[38;5;241m.\u001b[39mdoc, e\u001b[38;5;241m.\u001b[39mpos)\n",
      "\u001b[1;31mJSONDecodeError\u001b[0m: Expecting value: line 1 column 1 (char 0)"
     ]
    }
   ],
   "source": [
    "#get already json\n",
    "d = requests.get('http://opendata.iprpraha.cz/CUR/OVZ/OVZ_Klima_ZnecOvzdusi_p/WGS_84/OVZ_Klima_ZnecOvzdusi_p.json').json()\n",
    "\n",
    "d['features'][0]['properties']"
   ]
  },
  {
   "cell_type": "code",
   "execution_count": 79,
   "metadata": {
    "jupyter": {
     "outputs_hidden": false
    }
   },
   "outputs": [
    {
     "ename": "ModuleNotFoundError",
     "evalue": "No module named 'branca'",
     "output_type": "error",
     "traceback": [
      "\u001b[1;31m---------------------------------------------------------------------------\u001b[0m",
      "\u001b[1;31mModuleNotFoundError\u001b[0m                       Traceback (most recent call last)",
      "Cell \u001b[1;32mIn[79], line 1\u001b[0m\n\u001b[1;32m----> 1\u001b[0m \u001b[38;5;28;01mimport\u001b[39;00m \u001b[38;5;21;01mbranca\u001b[39;00m\n\u001b[0;32m      2\u001b[0m \u001b[38;5;28;01mimport\u001b[39;00m \u001b[38;5;21;01mfolium\u001b[39;00m\n\u001b[0;32m      4\u001b[0m colorscale \u001b[38;5;241m=\u001b[39m branca\u001b[38;5;241m.\u001b[39mcolormap\u001b[38;5;241m.\u001b[39mlinear\u001b[38;5;241m.\u001b[39mYlOrRd_09\u001b[38;5;241m.\u001b[39mscale(\u001b[38;5;241m0\u001b[39m, \u001b[38;5;241m5\u001b[39m)\n",
      "\u001b[1;31mModuleNotFoundError\u001b[0m: No module named 'branca'"
     ]
    }
   ],
   "source": [
    "import branca\n",
    "import folium\n",
    "\n",
    "colorscale = branca.colormap.linear.YlOrRd_09.scale(0, 5)\n",
    "\n",
    "def style_function(feature):\n",
    "    gridvalue = feature['properties']['GRIDVALUE']\n",
    "    return {\n",
    "        'fillOpacity': 0.5,\n",
    "        'weight': 0,\n",
    "        'fillColor': colorscale(gridvalue)\n",
    "    }\n",
    "\n",
    "m = folium.Map(location=[50.085,14.45],zoom_start=11)\n",
    "folium.GeoJson('http://opendata.iprpraha.cz/CUR/OVZ/OVZ_Klima_ZnecOvzdusi_p/WGS_84/OVZ_Klima_ZnecOvzdusi_p.json',style_function=style_function).add_to(m)\n",
    "m"
   ]
  },
  {
   "cell_type": "code",
   "execution_count": null,
   "metadata": {
    "jupyter": {
     "outputs_hidden": false
    }
   },
   "outputs": [],
   "source": []
  },
  {
   "cell_type": "code",
   "execution_count": null,
   "metadata": {},
   "outputs": [],
   "source": []
  },
  {
   "cell_type": "code",
   "execution_count": null,
   "metadata": {},
   "outputs": [],
   "source": []
  },
  {
   "cell_type": "code",
   "execution_count": null,
   "metadata": {},
   "outputs": [],
   "source": []
  }
 ],
 "metadata": {
  "kernelspec": {
   "display_name": "Python 3 (ipykernel)",
   "language": "python",
   "name": "python3"
  },
  "language_info": {
   "codemirror_mode": {
    "name": "ipython",
    "version": 3
   },
   "file_extension": ".py",
   "mimetype": "text/x-python",
   "name": "python",
   "nbconvert_exporter": "python",
   "pygments_lexer": "ipython3",
   "version": "3.10.9"
  }
 },
 "nbformat": 4,
 "nbformat_minor": 4
}
