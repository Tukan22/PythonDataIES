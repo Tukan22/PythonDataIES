{
 "cells": [
  {
   "cell_type": "markdown",
   "id": "63662a76",
   "metadata": {},
   "source": [
    "# Lecture III - basic python II\n",
    "\n",
    "\n",
    "\n",
    "generated with OpenAI DALL-E3"
   ]
  },
  {
   "cell_type": "markdown",
   "id": "d2509b00-dd89-4166-bc92-fad73a9f623a",
   "metadata": {},
   "source": [
    "#### issues with installations, homework understanding?"
   ]
  },
  {
   "cell_type": "markdown",
   "id": "691ba451-05f4-4cb9-a54a-bc186791c631",
   "metadata": {},
   "source": [
    "## Recap\n",
    "\n",
    "what data types do you remember from last lecture?"
   ]
  },
  {
   "cell_type": "markdown",
   "id": "96447e1b-814c-4fc9-a65e-3789aff50a59",
   "metadata": {},
   "source": [
    "shout any buzz word you remember"
   ]
  },
  {
   "cell_type": "markdown",
   "id": "7914b0c4-32e8-4baf-ba5c-ec1874bee647",
   "metadata": {},
   "source": [
    "your new homepage\n",
    "\n",
    "https://stackoverflow.com/"
   ]
  },
  {
   "cell_type": "markdown",
   "id": "ac36bc30-bbbe-4862-a8af-74788f38da1c",
   "metadata": {},
   "source": [
    "## Docs\n",
    "https://docs.python.org/3/tutorial/index.html\n",
    "\n",
    "\n",
    "https://docs.python.org/3/tutorial/datastructures.html"
   ]
  },
  {
   "cell_type": "markdown",
   "id": "a1c6f332",
   "metadata": {},
   "source": [
    "## Lists"
   ]
  },
  {
   "cell_type": "code",
   "execution_count": 1,
   "id": "38df9067",
   "metadata": {},
   "outputs": [],
   "source": [
    "\n",
    "my_list = [0, 1, 2, 3, 4, 5] #collection of items\n",
    "\n"
   ]
  },
  {
   "cell_type": "code",
   "execution_count": 2,
   "id": "5f2390ac-555b-4f26-977c-246a299238a5",
   "metadata": {},
   "outputs": [
    {
     "data": {
      "text/plain": [
       "[0, 'a', <function __main__.<lambda>(x)>]"
      ]
     },
     "execution_count": 2,
     "metadata": {},
     "output_type": "execute_result"
    }
   ],
   "source": [
    "[0,'a',lambda x: x+1] #very versatile\n",
    "\n",
    "#can save integers, strings, functions, anything"
   ]
  },
  {
   "cell_type": "code",
   "execution_count": 3,
   "id": "a5f08f76-e6b7-4263-9a41-12c9f8fafe6d",
   "metadata": {},
   "outputs": [
    {
     "data": {
      "text/plain": [
       "[0, 2, 4]"
      ]
     },
     "execution_count": 3,
     "metadata": {},
     "output_type": "execute_result"
    }
   ],
   "source": [
    "#general concept of iterables \n",
    "\n",
    "my_list[0:5:2] #how to look into object\n"
   ]
  },
  {
   "cell_type": "code",
   "execution_count": 4,
   "id": "450f5a99-751e-4d05-b891-954dfa97f5b2",
   "metadata": {},
   "outputs": [
    {
     "name": "stdout",
     "output_type": "stream",
     "text": [
      "0\n",
      "1\n",
      "2\n",
      "3\n",
      "4\n",
      "5\n"
     ]
    }
   ],
   "source": [
    "#iteration - very important concept! \n",
    "for item in my_list:\n",
    "    print(item)"
   ]
  },
  {
   "cell_type": "code",
   "execution_count": 5,
   "id": "dd85bfd3-5397-45d5-b43f-01dab4c50f1b",
   "metadata": {},
   "outputs": [
    {
     "name": "stdout",
     "output_type": "stream",
     "text": [
      "index 0 in my_list contains value 1\n",
      "index 1 in my_list contains value 2\n",
      "index 2 in my_list contains value 43\n",
      "index 3 in my_list contains value 4\n",
      "index 4 in my_list contains value 5\n",
      "index 5 in my_list contains value 3\n",
      "index 6 in my_list contains value 1\n"
     ]
    }
   ],
   "source": [
    "for idx, item in enumerate([1,2,43,4,5,3,1]):\n",
    "    print(f\"index {idx} in my_list contains value {item}\")"
   ]
  },
  {
   "cell_type": "code",
   "execution_count": 274,
   "id": "c9552e98-85f8-4018-8448-9fc7ebd4c575",
   "metadata": {},
   "outputs": [
    {
     "data": {
      "text/plain": [
       "['h', 'e', 'l', 'l', 'o']"
      ]
     },
     "execution_count": 274,
     "metadata": {},
     "output_type": "execute_result"
    }
   ],
   "source": [
    "list('hello')"
   ]
  },
  {
   "cell_type": "code",
   "execution_count": 279,
   "id": "c8d97b85",
   "metadata": {},
   "outputs": [
    {
     "data": {
      "text/plain": [
       "[0, 2, 4]"
      ]
     },
     "execution_count": 279,
     "metadata": {},
     "output_type": "execute_result"
    }
   ],
   "source": [
    "# access \n",
    "# print(my_list)\n",
    "my_list[0:len(my_list):2] #start:end:step\n"
   ]
  },
  {
   "cell_type": "code",
   "execution_count": 277,
   "id": "6ef76a22-c536-4b8a-b5e4-b7dc963466ae",
   "metadata": {},
   "outputs": [
    {
     "data": {
      "text/plain": [
       "[0, 2, 4]"
      ]
     },
     "execution_count": 277,
     "metadata": {},
     "output_type": "execute_result"
    }
   ],
   "source": [
    "my_list[::2] # get every other item"
   ]
  },
  {
   "cell_type": "code",
   "execution_count": 280,
   "id": "f9c6fcbe",
   "metadata": {},
   "outputs": [
    {
     "data": {
      "text/plain": [
       "[5, 4, 3, 2, 1, 0]"
      ]
     },
     "execution_count": 280,
     "metadata": {},
     "output_type": "execute_result"
    }
   ],
   "source": [
    "reversed_list = my_list[::-1]\n",
    "reversed_list\n"
   ]
  },
  {
   "cell_type": "markdown",
   "id": "307e1214-f94d-4026-b573-7d605a1aef26",
   "metadata": {},
   "source": [
    "### list comprehension"
   ]
  },
  {
   "cell_type": "code",
   "execution_count": 286,
   "id": "da5a18d5-6a46-40b4-b05a-46b2afa91601",
   "metadata": {},
   "outputs": [
    {
     "data": {
      "text/plain": [
       "[0, 1, 2, 3, 4]"
      ]
     },
     "execution_count": 286,
     "metadata": {},
     "output_type": "execute_result"
    }
   ],
   "source": [
    "list(range(5))"
   ]
  },
  {
   "cell_type": "code",
   "execution_count": 6,
   "id": "b8f16358-611b-4708-9570-1b3f67c293f4",
   "metadata": {},
   "outputs": [
    {
     "data": {
      "text/plain": [
       "[0, 1, 4, 9, 16]"
      ]
     },
     "execution_count": 6,
     "metadata": {},
     "output_type": "execute_result"
    }
   ],
   "source": [
    "# Creating a list of squared numbers\n",
    "squares = [x**2 for x in range(5)] #list comprehension (pythonic term)\n",
    "squares"
   ]
  },
  {
   "cell_type": "code",
   "execution_count": 290,
   "id": "36d47197-ef07-4aac-bf80-e3e847b1abb4",
   "metadata": {},
   "outputs": [
    {
     "name": "stdout",
     "output_type": "stream",
     "text": [
      "[[1, 2, 3], [4, 5, 6], [7, 8, 9]]\n",
      "[1, 2, 3, 4, 5, 6, 7, 8, 9]\n"
     ]
    }
   ],
   "source": [
    "# Creating a flat list from a matrix (2d array-> array of array)\n",
    "matrix = [[1, 2, 3], [4, 5, 6], [7, 8, 9]]\n",
    "print(matrix)\n",
    "flat_list = [element for row in matrix for element in row] #two-for loops in one comprehension\n",
    "print(flat_list)"
   ]
  },
  {
   "cell_type": "code",
   "execution_count": 292,
   "id": "f17c936b-553f-483f-bcfd-196359d850b1",
   "metadata": {},
   "outputs": [
    {
     "data": {
      "text/plain": [
       "[0, 4, 16, 36, 64]"
      ]
     },
     "execution_count": 292,
     "metadata": {},
     "output_type": "execute_result"
    }
   ],
   "source": [
    "# Creating a list of even numbers\n",
    "evens = [x**2 for x in range(10) if x % 2 == 0] #comprehension with conditions\n",
    "evens\n",
    "#python built-in filter\n",
    "# DYI! Try to look up how to filter values in Python array (list)! Let's filter even values using function filter()"
   ]
  },
  {
   "cell_type": "code",
   "execution_count": 298,
   "id": "49b2f2b6-47cc-49bf-92a1-a23ef3f32d59",
   "metadata": {},
   "outputs": [
    {
     "data": {
      "text/plain": [
       "[1, 2, 3, 'hi', 5, 6]"
      ]
     },
     "execution_count": 298,
     "metadata": {},
     "output_type": "execute_result"
    }
   ],
   "source": [
    "# Using append and extend\n",
    "my_list = [1, 2, 3]\n",
    "my_list.append('hi')  # [1, 2, 3, 4]\n",
    "my_list.extend([5, 6])  # [1, 2, 3, 4, 5, 6]\n",
    "\n",
    "my_list"
   ]
  },
  {
   "cell_type": "code",
   "execution_count": 7,
   "id": "f36eda59-1076-4f7e-a069-e9f88821601c",
   "metadata": {},
   "outputs": [],
   "source": [
    "#removing from list\n",
    "my_list.remove(5)\n",
    "#Remove the first item from the list whose value is equal to x. It raises a ValueError if there is no such item.\n",
    "\n",
    "popped = my_list.pop()\n",
    "#Remove the item at the given position in the list, and return it. If no index is specified, a.pop() removes and returns the last item in the list. It raises an IndexError if the list is empty or the index is outside the list range."
   ]
  },
  {
   "cell_type": "code",
   "execution_count": 8,
   "id": "2e048683-a236-453a-9471-c613f84ddb0e",
   "metadata": {},
   "outputs": [
    {
     "name": "stdout",
     "output_type": "stream",
     "text": [
      "[0, 1, 2, 3]\n"
     ]
    },
    {
     "data": {
      "text/plain": [
       "4"
      ]
     },
     "execution_count": 8,
     "metadata": {},
     "output_type": "execute_result"
    }
   ],
   "source": [
    "print(my_list)\n",
    "popped"
   ]
  },
  {
   "cell_type": "code",
   "execution_count": null,
   "id": "5f93aa78-1e83-4fcf-811b-76c0e9583d07",
   "metadata": {},
   "outputs": [],
   "source": [
    "#there are operations which change the item itself, some return a new object -> more on that later "
   ]
  },
  {
   "cell_type": "code",
   "execution_count": 9,
   "id": "a70b811c-4f70-4fa0-9d3f-9cb7095b1e73",
   "metadata": {},
   "outputs": [
    {
     "name": "stdout",
     "output_type": "stream",
     "text": [
      "range(0, 6)\n"
     ]
    },
    {
     "data": {
      "text/plain": [
       "6"
      ]
     },
     "execution_count": 9,
     "metadata": {},
     "output_type": "execute_result"
    }
   ],
   "source": [
    "# Basic operations on arrays\n",
    "my_list=range(6)\n",
    "print(my_list)\n",
    "# Using sum, min, max, and len\n",
    "sum(my_list)  # 21\n",
    "min(my_list)  # 1\n",
    "max(my_list)  # 6\n",
    "len(my_list)  # 6\n"
   ]
  },
  {
   "cell_type": "code",
   "execution_count": 10,
   "id": "628e51b4-9e71-40a5-9613-5698371dc4c2",
   "metadata": {},
   "outputs": [],
   "source": [
    "#merge lists\n",
    "\n",
    "list_a = [1, 2, 3]\n",
    "list_b = [4, 5, 6]\n",
    "# [*list_a, *list_b]\n",
    "# list_a+list_b\n",
    "\n",
    "# how does this differ?\n",
    "list_a.extend(list_b)"
   ]
  },
  {
   "cell_type": "code",
   "execution_count": 318,
   "id": "bd7f3ea7-2c62-490b-aa2d-6209ff37c2f5",
   "metadata": {},
   "outputs": [
    {
     "data": {
      "text/plain": [
       "[1, 2, 3, 4, 5, 6]"
      ]
     },
     "execution_count": 318,
     "metadata": {},
     "output_type": "execute_result"
    }
   ],
   "source": [
    "list_a"
   ]
  },
  {
   "cell_type": "code",
   "execution_count": 11,
   "id": "4781af74-6416-4443-81d5-f02dc2a90c85",
   "metadata": {},
   "outputs": [],
   "source": [
    "# Creating a list of all coordinates within a 3x3 grid - list comprehension\n",
    "coordinates = [(x, y) for x in range(3) for y in range(3)]\n",
    "# coordinates"
   ]
  },
  {
   "cell_type": "code",
   "execution_count": 323,
   "id": "c78c6fe4-f6d8-48e2-8cbd-672201df7921",
   "metadata": {},
   "outputs": [],
   "source": [
    "# Transposing a matrix using nested list comprehension - two for loops in one comprehension\n",
    "matrix = [[1, 2, 3], [4, 5, 6], [7, 8, 9]]\n",
    "transposed = [[row[i] for row in matrix] for i in range(3)]\n"
   ]
  },
  {
   "cell_type": "code",
   "execution_count": 12,
   "id": "08c588b7-5ea9-437c-ba9a-f3123852d920",
   "metadata": {},
   "outputs": [
    {
     "data": {
      "text/plain": [
       "[1, 2, 1, 2]"
      ]
     },
     "execution_count": 12,
     "metadata": {},
     "output_type": "execute_result"
    }
   ],
   "source": [
    "# Repeating lists\n",
    "my_list=[1,2]\n",
    "repeated = my_list * 2  # [1, 2, 3, 4, 5, 6, 1, 2, 3, 4, 5, 6]\n",
    "repeated\n",
    "# len(repeated)"
   ]
  },
  {
   "cell_type": "markdown",
   "id": "b087e69c",
   "metadata": {},
   "source": [
    "## Iterating Backward"
   ]
  },
  {
   "cell_type": "code",
   "execution_count": 13,
   "id": "59a4a1e1",
   "metadata": {},
   "outputs": [
    {
     "data": {
      "text/plain": [
       "[2, 1]"
      ]
     },
     "execution_count": 13,
     "metadata": {},
     "output_type": "execute_result"
    }
   ],
   "source": [
    "\n",
    "# Iterating backward through a list\n",
    "[item for item in reversed(my_list)]\n"
   ]
  },
  {
   "cell_type": "code",
   "execution_count": 14,
   "id": "b3093d79",
   "metadata": {},
   "outputs": [
    {
     "data": {
      "text/plain": [
       "['c', 'i', 'n', 'o', 'h', 't', 'y', 'P']"
      ]
     },
     "execution_count": 14,
     "metadata": {},
     "output_type": "execute_result"
    }
   ],
   "source": [
    "my_str = 'Pythonic' #strings are also collections of single charactes\n",
    "\n",
    "# Iterating backward through a string\n",
    "[char for char in reversed(my_str)]\n"
   ]
  },
  {
   "cell_type": "markdown",
   "id": "2c57a27b",
   "metadata": {},
   "source": [
    "## Using Negative Indices"
   ]
  },
  {
   "cell_type": "code",
   "execution_count": 16,
   "id": "29393fce",
   "metadata": {},
   "outputs": [
    {
     "data": {
      "text/plain": [
       "2"
      ]
     },
     "execution_count": 16,
     "metadata": {},
     "output_type": "execute_result"
    }
   ],
   "source": [
    "\n",
    "last_element = my_list[-1]\n",
    "last_element\n"
   ]
  },
  {
   "cell_type": "code",
   "execution_count": 17,
   "id": "8f6da6df",
   "metadata": {},
   "outputs": [
    {
     "data": {
      "text/plain": [
       "[1]"
      ]
     },
     "execution_count": 17,
     "metadata": {},
     "output_type": "execute_result"
    }
   ],
   "source": [
    "\n",
    "subset = my_list[-3:-1]\n",
    "subset\n"
   ]
  },
  {
   "cell_type": "markdown",
   "id": "efc592b7",
   "metadata": {},
   "source": [
    "## Strings and Slicing"
   ]
  },
  {
   "cell_type": "code",
   "execution_count": 19,
   "id": "8a71aab0",
   "metadata": {},
   "outputs": [
    {
     "data": {
      "text/plain": [
       "'yth'"
      ]
     },
     "execution_count": 19,
     "metadata": {},
     "output_type": "execute_result"
    }
   ],
   "source": [
    "\n",
    "my_str = \"Pythonic\"\n",
    "substring = my_str[1:4]\n",
    "substring\n"
   ]
  },
  {
   "cell_type": "code",
   "execution_count": 20,
   "id": "8e8d3bcc",
   "metadata": {},
   "outputs": [
    {
     "data": {
      "text/plain": [
       "'Ptoi'"
      ]
     },
     "execution_count": 20,
     "metadata": {},
     "output_type": "execute_result"
    }
   ],
   "source": [
    "\n",
    "skipped_string = my_str[::2]\n",
    "skipped_string\n"
   ]
  },
  {
   "cell_type": "code",
   "execution_count": 23,
   "id": "d8942737",
   "metadata": {},
   "outputs": [
    {
     "data": {
      "text/plain": [
       "'cinohtyP'"
      ]
     },
     "execution_count": 23,
     "metadata": {},
     "output_type": "execute_result"
    }
   ],
   "source": [
    "\n",
    "reversed_string = my_str[::-1]\n",
    "reversed_string\n"
   ]
  },
  {
   "cell_type": "code",
   "execution_count": 24,
   "id": "3b90ba63-83e6-4a80-a6a1-091a74278f35",
   "metadata": {},
   "outputs": [
    {
     "data": {
      "text/plain": [
       "'my string is Pythonic'"
      ]
     },
     "execution_count": 24,
     "metadata": {},
     "output_type": "execute_result"
    }
   ],
   "source": [
    "#f-strings - most efficient to initialize\n",
    "\n",
    "f'my string is {my_str}'"
   ]
  },
  {
   "cell_type": "code",
   "execution_count": 25,
   "id": "aa16a3bc-3887-40ab-bdb9-93f9d69a143c",
   "metadata": {},
   "outputs": [
    {
     "data": {
      "text/plain": [
       "'my string is Pythonic, no kidding!'"
      ]
     },
     "execution_count": 25,
     "metadata": {},
     "output_type": "execute_result"
    }
   ],
   "source": [
    "f'my string is {my_str+ \", no kidding!\"}' #notice the \"\" in f string"
   ]
  },
  {
   "cell_type": "code",
   "execution_count": 26,
   "id": "b5c4ab02-7e0c-4de8-8fa1-df302ca814f0",
   "metadata": {},
   "outputs": [
    {
     "data": {
      "text/plain": [
       "'PYTHON IS fantastic!'"
      ]
     },
     "execution_count": 26,
     "metadata": {},
     "output_type": "execute_result"
    }
   ],
   "source": [
    "# Example: Converting, replacing, and formatting strings\n",
    "original = \"Python is fun\"\n",
    "formatted = original.upper().replace(\"FUN\", \"fantastic\")\n",
    "final = f\"{formatted}!\"\n",
    "final"
   ]
  },
  {
   "cell_type": "code",
   "execution_count": 27,
   "id": "2076e192-1526-45c2-9825-eb2f649e8b82",
   "metadata": {},
   "outputs": [
    {
     "data": {
      "text/plain": [
       "'Pi is 3.14'"
      ]
     },
     "execution_count": 27,
     "metadata": {},
     "output_type": "execute_result"
    }
   ],
   "source": [
    "f\"Pi is {22/7:.2f}\" #rounding floats in strings"
   ]
  },
  {
   "cell_type": "code",
   "execution_count": 28,
   "id": "a76c0ca6-c41b-4710-ae0d-00fd842a7c99",
   "metadata": {},
   "outputs": [
    {
     "data": {
      "text/plain": [
       "6"
      ]
     },
     "execution_count": 28,
     "metadata": {},
     "output_type": "execute_result"
    }
   ],
   "source": [
    "len(\"Python\") #number of characters\n"
   ]
  },
  {
   "cell_type": "code",
   "execution_count": 29,
   "id": "94bf644f-3d67-4752-a571-f016cc5e4f7f",
   "metadata": {},
   "outputs": [
    {
     "data": {
      "text/plain": [
       "'Pythonic'"
      ]
     },
     "execution_count": 29,
     "metadata": {},
     "output_type": "execute_result"
    }
   ],
   "source": [
    "my_str"
   ]
  },
  {
   "cell_type": "code",
   "execution_count": 30,
   "id": "4e6af8ed-aaa2-4709-a3bd-ee42c8e80c61",
   "metadata": {},
   "outputs": [
    {
     "data": {
      "text/plain": [
       "[0, 1, 2, 'hi', 4, 5, 6, 7, 8, 9]"
      ]
     },
     "execution_count": 30,
     "metadata": {},
     "output_type": "execute_result"
    }
   ],
   "source": [
    "my_arr=list(range(10))\n",
    "my_arr[3]='hi'\n",
    "my_arr"
   ]
  },
  {
   "cell_type": "code",
   "execution_count": 31,
   "id": "b1fe3ab4-9644-4750-ad3b-296038d99bb7",
   "metadata": {},
   "outputs": [
    {
     "ename": "TypeError",
     "evalue": "'str' object does not support item assignment",
     "output_type": "error",
     "traceback": [
      "\u001b[1;31m---------------------------------------------------------------------------\u001b[0m",
      "\u001b[1;31mTypeError\u001b[0m                                 Traceback (most recent call last)",
      "Cell \u001b[1;32mIn[31], line 1\u001b[0m\n\u001b[1;32m----> 1\u001b[0m my_str[\u001b[38;5;241m2\u001b[39m]\u001b[38;5;241m=\u001b[39m\u001b[38;5;124m'\u001b[39m\u001b[38;5;124mZ\u001b[39m\u001b[38;5;124m'\u001b[39m\n",
      "\u001b[1;31mTypeError\u001b[0m: 'str' object does not support item assignment"
     ]
    }
   ],
   "source": [
    "my_str[2]='Z' #immutable "
   ]
  },
  {
   "cell_type": "code",
   "execution_count": null,
   "id": "6664d12e-d107-4f0b-a403-56f87a8e4462",
   "metadata": {},
   "outputs": [],
   "source": [
    "# TypeError: 'str' object does not support item assignment is called Exception\n",
    "# more on these later\n"
   ]
  },
  {
   "cell_type": "code",
   "execution_count": 347,
   "id": "2ef5e858-2927-4f95-8cdb-166107290964",
   "metadata": {},
   "outputs": [
    {
     "name": "stdout",
     "output_type": "stream",
     "text": [
      "This is a \"quote\".\n",
      "------\n",
      "This is a line.\n",
      "And this is another.\n"
     ]
    }
   ],
   "source": [
    "escaped = \"This is a \\\"quote\\\".\"\n",
    "newline = \"This is a line.\\nAnd this is another.\"\n",
    "print(escaped)\n",
    "print('------')\n",
    "print(newline)"
   ]
  },
  {
   "cell_type": "code",
   "execution_count": 32,
   "id": "047b4d09-8bf5-4d97-98f5-2a776e7881fe",
   "metadata": {},
   "outputs": [
    {
     "data": {
      "text/plain": [
       "'This is a snowman: ☃'"
      ]
     },
     "execution_count": 32,
     "metadata": {},
     "output_type": "execute_result"
    }
   ],
   "source": [
    "\"This is a snowman: \\u2603\"\n"
   ]
  },
  {
   "cell_type": "code",
   "execution_count": 33,
   "id": "b7d12168-3723-41dc-9e46-6f1b6d345951",
   "metadata": {},
   "outputs": [
    {
     "name": "stdout",
     "output_type": "stream",
     "text": [
      "This is a\n",
      "multiline string.\n"
     ]
    }
   ],
   "source": [
    "multiline = \"\"\"This is a\n",
    "multiline string.\"\"\"\n",
    "print(multiline) # the end of line is implicit, compared to \\n"
   ]
  },
  {
   "cell_type": "code",
   "execution_count": 34,
   "id": "f9c6ec83-5336-4424-8347-c1b3db2e4b65",
   "metadata": {},
   "outputs": [
    {
     "name": "stdout",
     "output_type": "stream",
     "text": [
      "item1☃item2☃item3\n"
     ]
    }
   ],
   "source": [
    "#create simple csv\n",
    "# to_csv = ('list_me_to_csv') \n",
    "# print(','.join(to_csv)+\"\\n\")#add line break - bonus -> how to write it to file end of lecture\n",
    "print('\\u2603'.join(['item1','item2','item3']))\n"
   ]
  },
  {
   "cell_type": "code",
   "execution_count": 35,
   "id": "57b265bf-c8ad-4466-9d48-f263d7acc72d",
   "metadata": {},
   "outputs": [
    {
     "data": {
      "text/plain": [
       "'0,1,2'"
      ]
     },
     "execution_count": 35,
     "metadata": {},
     "output_type": "execute_result"
    }
   ],
   "source": [
    "#create manual csv file with integers\n",
    "','.join([str(el) for el in list(range(3))]) #items to be joined need to be stringsf"
   ]
  },
  {
   "cell_type": "markdown",
   "id": "39effd52",
   "metadata": {},
   "source": [
    "## Dictionaries"
   ]
  },
  {
   "cell_type": "code",
   "execution_count": null,
   "id": "9a1150b3-0aa7-4383-9c97-81d25cc03a16",
   "metadata": {},
   "outputs": [],
   "source": [
    "#very useful containers -> quick O(1) access to their values"
   ]
  },
  {
   "cell_type": "code",
   "execution_count": 37,
   "id": "bc8f46d0",
   "metadata": {},
   "outputs": [
    {
     "name": "stdout",
     "output_type": "stream",
     "text": [
      "a 1\n",
      "b 2\n",
      "c 3\n"
     ]
    }
   ],
   "source": [
    "\n",
    "my_dict = {'a': 1, 'b': 2, 'c': 3}\n",
    "for key, value in my_dict.items():\n",
    "    print(key, value)\n"
   ]
  },
  {
   "cell_type": "code",
   "execution_count": 38,
   "id": "56993a3c-e425-485d-821b-9d6be333e71e",
   "metadata": {},
   "outputs": [
    {
     "name": "stdout",
     "output_type": "stream",
     "text": [
      "1\n"
     ]
    }
   ],
   "source": [
    "# Creating and accessing elements\n",
    "print(my_dict['a'])  # Output: 1\n"
   ]
  },
  {
   "cell_type": "code",
   "execution_count": 40,
   "id": "3db58c5d",
   "metadata": {},
   "outputs": [
    {
     "data": {
      "text/plain": [
       "{'key': 16}"
      ]
     },
     "execution_count": 40,
     "metadata": {},
     "output_type": "execute_result"
    }
   ],
   "source": [
    "\n",
    "squares = {f'key': x**2 for x in range(5)}\n",
    "squares\n",
    "\n"
   ]
  },
  {
   "cell_type": "code",
   "execution_count": 41,
   "id": "04891977-538b-4ee6-8f8b-51ab3d539546",
   "metadata": {},
   "outputs": [
    {
     "data": {
      "text/plain": [
       "{'key': 'hi'}"
      ]
     },
     "execution_count": 41,
     "metadata": {},
     "output_type": "execute_result"
    }
   ],
   "source": [
    "squares['key']='hi'\n",
    "squares"
   ]
  },
  {
   "cell_type": "code",
   "execution_count": 42,
   "id": "d3da64a9",
   "metadata": {},
   "outputs": [
    {
     "data": {
      "text/plain": [
       "{0: 0, 2: 4, 4: 16}"
      ]
     },
     "execution_count": 42,
     "metadata": {},
     "output_type": "execute_result"
    }
   ],
   "source": [
    "\n",
    "even_squares = {x: x**2 for x in range(5) if x % 2 == 0}\n",
    "even_squares\n"
   ]
  },
  {
   "cell_type": "code",
   "execution_count": 43,
   "id": "9d56ccd9",
   "metadata": {},
   "outputs": [
    {
     "data": {
      "text/plain": [
       "{'a': 1, 'b': 4, 'c': 3}"
      ]
     },
     "execution_count": 43,
     "metadata": {},
     "output_type": "execute_result"
    }
   ],
   "source": [
    "\n",
    "dict1 = {'a': 1, 'b': 2}\n",
    "dict2 = {'c': 3, 'b': 4}\n",
    "merged = {**dict1, **dict2}\n",
    "merged\n"
   ]
  },
  {
   "cell_type": "code",
   "execution_count": null,
   "id": "9ee70b5c-b594-4f0e-a296-9ef583a7cfb0",
   "metadata": {},
   "outputs": [],
   "source": [
    "dict1 | dict2 #shorthand for before - fancy syntax! (union, logical or)...look up if interested"
   ]
  },
  {
   "cell_type": "code",
   "execution_count": 46,
   "id": "cc514d6c-13a6-4cb7-a048-6260e9f60e66",
   "metadata": {},
   "outputs": [
    {
     "data": {
      "text/plain": [
       "{'a': 1, 'b': 4, 'c': 9}"
      ]
     },
     "execution_count": 46,
     "metadata": {},
     "output_type": "execute_result"
    }
   ],
   "source": [
    "# Using dictionary comprehension - notice similar behavior like array\n",
    "squared_dict = {k: v**2 for k, v in my_dict.items()}\n",
    "squared_dict"
   ]
  },
  {
   "cell_type": "code",
   "execution_count": 47,
   "id": "5ab1085a-e299-42ef-8665-47679629c8b9",
   "metadata": {},
   "outputs": [
    {
     "name": "stdout",
     "output_type": "stream",
     "text": [
      "a: 1\n",
      "b: 2\n",
      "c: 3\n"
     ]
    }
   ],
   "source": [
    "# Iterating through keys and values\n",
    "for key, value in my_dict.items():\n",
    "    print(f\"{key}: {value}\")\n"
   ]
  },
  {
   "cell_type": "code",
   "execution_count": 48,
   "id": "54fd8766-1c62-45df-82cd-5f6be0ae25d6",
   "metadata": {},
   "outputs": [
    {
     "data": {
      "text/plain": [
       "1"
      ]
     },
     "execution_count": 48,
     "metadata": {},
     "output_type": "execute_result"
    }
   ],
   "source": [
    "# Accessing\n",
    "my_dict['a']\n",
    "my_dict.get('a')\n",
    "# my_dict['c']\n",
    "# my_dict.get('c')"
   ]
  },
  {
   "cell_type": "code",
   "execution_count": 49,
   "id": "26e8a32a-6caf-41e6-a5c8-12389ea0097b",
   "metadata": {},
   "outputs": [
    {
     "name": "stdout",
     "output_type": "stream",
     "text": [
      "a\n",
      "b\n",
      "c\n",
      "1\n",
      "2\n",
      "3\n",
      "a 1\n",
      "b 2\n",
      "c 3\n"
     ]
    }
   ],
   "source": [
    "# Iterating through keys, values, and items individually\n",
    "my_dict = {'a': 1, 'b': 2, 'c': 3}\n",
    "for key in my_dict.keys():\n",
    "    print(key)\n",
    "for value in my_dict.values():\n",
    "    print(value)\n",
    "for key, value in my_dict.items():\n",
    "    print(key, value)\n",
    "\n",
    "\n",
    "#best is last one, always can ommit value"
   ]
  },
  {
   "cell_type": "code",
   "execution_count": 51,
   "id": "c5c87c27-af87-43d4-9589-6fe183da8d6a",
   "metadata": {},
   "outputs": [],
   "source": [
    "# Using get, pop, and update\n",
    "value = my_dict.get('a', 0)  # Get value with a default\n",
    "popped = my_dict.pop('b', 0)  # Remove item, default if not found\n",
    "my_dict.update({'d': 4, 'e': 5})  # Add multiple key-value pairs\n"
   ]
  },
  {
   "cell_type": "markdown",
   "id": "ddc19af0",
   "metadata": {},
   "source": [
    "## Sets"
   ]
  },
  {
   "cell_type": "code",
   "execution_count": 56,
   "id": "62b5c2aa",
   "metadata": {},
   "outputs": [
    {
     "ename": "AttributeError",
     "evalue": "'int' object has no attribute 'add'",
     "output_type": "error",
     "traceback": [
      "\u001b[1;31m---------------------------------------------------------------------------\u001b[0m",
      "\u001b[1;31mAttributeError\u001b[0m                            Traceback (most recent call last)",
      "Cell \u001b[1;32mIn[56], line 3\u001b[0m\n\u001b[0;32m      1\u001b[0m x \u001b[38;5;241m=\u001b[39m \u001b[38;5;241m1\u001b[39m\n\u001b[0;32m      2\u001b[0m my_set \u001b[38;5;241m=\u001b[39m x\n\u001b[1;32m----> 3\u001b[0m \u001b[43mmy_set\u001b[49m\u001b[38;5;241;43m.\u001b[39;49m\u001b[43madd\u001b[49m(\u001b[38;5;241m4\u001b[39m)\n\u001b[0;32m      4\u001b[0m my_set\n",
      "\u001b[1;31mAttributeError\u001b[0m: 'int' object has no attribute 'add'"
     ]
    }
   ],
   "source": [
    "\n",
    "my_set = x\n",
    "my_set.add(4)\n",
    "my_set\n"
   ]
  },
  {
   "cell_type": "code",
   "execution_count": 53,
   "id": "9f97205d",
   "metadata": {},
   "outputs": [
    {
     "ename": "NameError",
     "evalue": "name 'my_set' is not defined",
     "output_type": "error",
     "traceback": [
      "\u001b[1;31m---------------------------------------------------------------------------\u001b[0m",
      "\u001b[1;31mNameError\u001b[0m                                 Traceback (most recent call last)",
      "Cell \u001b[1;32mIn[53], line 1\u001b[0m\n\u001b[1;32m----> 1\u001b[0m squared_set \u001b[38;5;241m=\u001b[39m {x\u001b[38;5;241m*\u001b[39m\u001b[38;5;241m*\u001b[39m\u001b[38;5;241m2\u001b[39m \u001b[38;5;28;01mfor\u001b[39;00m x \u001b[38;5;129;01min\u001b[39;00m \u001b[43mmy_set\u001b[49m}\n\u001b[0;32m      2\u001b[0m squared_set\n",
      "\u001b[1;31mNameError\u001b[0m: name 'my_set' is not defined"
     ]
    }
   ],
   "source": [
    "\n",
    "squared_set = {x**2 for x in my_set}\n",
    "squared_set\n"
   ]
  },
  {
   "cell_type": "code",
   "execution_count": 54,
   "id": "2c1a412a",
   "metadata": {},
   "outputs": [
    {
     "ename": "NameError",
     "evalue": "name 'my_set' is not defined",
     "output_type": "error",
     "traceback": [
      "\u001b[1;31m---------------------------------------------------------------------------\u001b[0m",
      "\u001b[1;31mNameError\u001b[0m                                 Traceback (most recent call last)",
      "Cell \u001b[1;32mIn[54], line 2\u001b[0m\n\u001b[0;32m      1\u001b[0m another_set \u001b[38;5;241m=\u001b[39m {\u001b[38;5;241m3\u001b[39m, \u001b[38;5;241m4\u001b[39m, \u001b[38;5;241m5\u001b[39m}\n\u001b[1;32m----> 2\u001b[0m union_set \u001b[38;5;241m=\u001b[39m \u001b[43mmy_set\u001b[49m\u001b[38;5;241m.\u001b[39munion(another_set)\n\u001b[0;32m      3\u001b[0m intersection_set \u001b[38;5;241m=\u001b[39m my_set\u001b[38;5;241m.\u001b[39mintersection(another_set)\n\u001b[0;32m      4\u001b[0m difference_set \u001b[38;5;241m=\u001b[39m my_set\u001b[38;5;241m.\u001b[39mdifference(another_set)\n",
      "\u001b[1;31mNameError\u001b[0m: name 'my_set' is not defined"
     ]
    }
   ],
   "source": [
    "\n",
    "another_set = {3, 4, 5}\n",
    "union_set = my_set.union(another_set)\n",
    "intersection_set = my_set.intersection(another_set)\n",
    "difference_set = my_set.difference(another_set)\n",
    "union_set, intersection_set, difference_set\n",
    "\n",
    "#useful with strings, Getting subsets of some collections"
   ]
  },
  {
   "cell_type": "code",
   "execution_count": 55,
   "id": "2d7bf9c0-0624-484b-8b1e-0b8a2bdf50f0",
   "metadata": {},
   "outputs": [
    {
     "ename": "NameError",
     "evalue": "name 'my_set' is not defined",
     "output_type": "error",
     "traceback": [
      "\u001b[1;31m---------------------------------------------------------------------------\u001b[0m",
      "\u001b[1;31mNameError\u001b[0m                                 Traceback (most recent call last)",
      "Cell \u001b[1;32mIn[55], line 2\u001b[0m\n\u001b[0;32m      1\u001b[0m \u001b[38;5;66;03m# Using set comprehension\u001b[39;00m\n\u001b[1;32m----> 2\u001b[0m squared_set \u001b[38;5;241m=\u001b[39m {x\u001b[38;5;241m*\u001b[39m\u001b[38;5;241m*\u001b[39m\u001b[38;5;241m2\u001b[39m \u001b[38;5;28;01mfor\u001b[39;00m x \u001b[38;5;129;01min\u001b[39;00m \u001b[43mmy_set\u001b[49m}\n\u001b[0;32m      3\u001b[0m squared_set\n",
      "\u001b[1;31mNameError\u001b[0m: name 'my_set' is not defined"
     ]
    }
   ],
   "source": [
    "# Using set comprehension\n",
    "squared_set = {x**2 for x in my_set}\n",
    "squared_set"
   ]
  },
  {
   "cell_type": "markdown",
   "id": "75f0a72c",
   "metadata": {},
   "source": [
    "## Tuples"
   ]
  },
  {
   "cell_type": "code",
   "execution_count": 57,
   "id": "fe9e2277",
   "metadata": {},
   "outputs": [
    {
     "data": {
      "text/plain": [
       "'apple'"
      ]
     },
     "execution_count": 57,
     "metadata": {},
     "output_type": "execute_result"
    }
   ],
   "source": [
    "\n",
    "my_tuple = (1, \"apple\", 3.14)\n",
    "element = my_tuple[1]\n",
    "element\n"
   ]
  },
  {
   "cell_type": "code",
   "execution_count": 58,
   "id": "e2d8d434",
   "metadata": {},
   "outputs": [
    {
     "data": {
      "text/plain": [
       "(1, 'apple', 3.14)"
      ]
     },
     "execution_count": 58,
     "metadata": {},
     "output_type": "execute_result"
    }
   ],
   "source": [
    "\n",
    "x, y, z = my_tuple #get individual values easily (same in .items() in dictionaries\n",
    "x, y, z\n"
   ]
  },
  {
   "cell_type": "code",
   "execution_count": 59,
   "id": "32ca76fb",
   "metadata": {},
   "outputs": [
    {
     "name": "stdout",
     "output_type": "stream",
     "text": [
      "fruit:\n",
      "  apple: 3\n",
      "  banana: 5\n",
      "vegetable:\n",
      "  carrot: 4\n",
      "  pepper: 7\n"
     ]
    }
   ],
   "source": [
    "\n",
    "nested_data = {\n",
    "    'fruit': {'apple': 3, 'banana': 5},\n",
    "    'vegetable': {'carrot': 4, 'pepper': 7}\n",
    "}\n",
    "for key, value in nested_data.items():\n",
    "    print(f\"{key}:\")\n",
    "    for inner_key, inner_value in value.items():\n",
    "        print(f\"  {inner_key}: {inner_value}\")\n"
   ]
  },
  {
   "cell_type": "markdown",
   "id": "08d061a2",
   "metadata": {},
   "source": [
    "## Defaultdict"
   ]
  },
  {
   "cell_type": "code",
   "execution_count": 62,
   "id": "3914d594",
   "metadata": {},
   "outputs": [
    {
     "data": {
      "text/plain": [
       "defaultdict(int, {'apple': 2, 'banana': 1, 'cherry': 2})"
      ]
     },
     "execution_count": 62,
     "metadata": {},
     "output_type": "execute_result"
    }
   ],
   "source": [
    "\n",
    "from collections import defaultdict #import library, top of the script!!\n",
    "\n",
    "fruits = ['apple', 'banana', 'cherry', 'apple', 'cherry'] #could how many of each we have\n",
    "fruit_counts = defaultdict(int) \n",
    "for fruit in fruits:\n",
    "    fruit_counts[fruit] += 1\n",
    "fruit_counts\n"
   ]
  },
  {
   "cell_type": "code",
   "execution_count": 63,
   "id": "554f55c3-d5ba-4bde-9686-773f6152d0bc",
   "metadata": {},
   "outputs": [
    {
     "data": {
      "text/plain": [
       "{'apple': 2, 'banana': 2, 'cherry': 1}"
      ]
     },
     "execution_count": 63,
     "metadata": {},
     "output_type": "execute_result"
    }
   ],
   "source": [
    "# Using list as a default factory - too sophisticated, but why not\n",
    "words = [\"apple\", \"banana\", \"cherry\", \"apple\", \"banana\"]\n",
    "word_count = defaultdict(list)\n",
    "\n",
    "for word in words:\n",
    "    word_count[word].append(1)\n",
    "\n",
    "# Summing counts\n",
    "word_sum = {word: sum(counts) for word, counts in word_count.items()}\n",
    "word_sum"
   ]
  },
  {
   "cell_type": "code",
   "execution_count": 66,
   "id": "1bc4889b-b766-42ab-86bb-ac1bb04965bf",
   "metadata": {},
   "outputs": [],
   "source": [
    "#useful when we do not know how many items we will get (keys in dict)\n",
    "\n",
    "# Using int as a default factory\n",
    "word_count = defaultdict(int)\n",
    "\n",
    "for word in words:\n",
    "    word_count[word] += 1\n",
    "\n"
   ]
  },
  {
   "cell_type": "code",
   "execution_count": 67,
   "id": "212b3768-0348-4c46-92ac-b304e31ee580",
   "metadata": {},
   "outputs": [
    {
     "name": "stdout",
     "output_type": "stream",
     "text": [
      "Fruits:\n",
      "  apple: 2\n",
      "  banana: 2\n",
      "Veggies:\n",
      "  carrot: 2\n",
      "  potato: 3\n"
     ]
    }
   ],
   "source": [
    "# Sample data: (category, item)\n",
    "data = [\n",
    "    (\"fruit\", \"apple\"),\n",
    "    (\"fruit\", \"banana\"),\n",
    "    (\"fruit\", \"apple\"),\n",
    "    (\"veggie\", \"carrot\"),\n",
    "    (\"veggie\", \"potato\"),\n",
    "    (\"veggie\", \"carrot\"),\n",
    "    (\"veggie\", \"potato\"),\n",
    "    (\"veggie\", \"potato\"),\n",
    "    (\"fruit\", \"banana\"),\n",
    "]\n",
    "\n",
    "# A nested defaultdict to store counts\n",
    "counter = defaultdict(lambda: defaultdict(int))\n",
    "\n",
    "# Counting items in categories\n",
    "for category, item in data:\n",
    "    counter[category][item] += 1\n",
    "\n",
    "# Display counts\n",
    "for category, items in counter.items():\n",
    "    print(f\"{category.capitalize()}s:\")\n",
    "    for item, count in items.items():\n",
    "        print(f\"  {item}: {count}\")\n"
   ]
  },
  {
   "cell_type": "markdown",
   "id": "91ac1579-5f44-47a2-bb28-04accf5f82f0",
   "metadata": {},
   "source": [
    "## Functions in Python\n",
    "\n",
    "Functions are foundational in Python for creating reusable, organized, and modular code. \n",
    "Modular code can be easily maintained"
   ]
  },
  {
   "cell_type": "code",
   "execution_count": 68,
   "id": "2bf16110-d958-42ff-9608-df190e02139e",
   "metadata": {},
   "outputs": [
    {
     "name": "stdout",
     "output_type": "stream",
     "text": [
      "Hello, World!\n"
     ]
    }
   ],
   "source": [
    "# 1. Defining and Calling Functions\n",
    "# Definition: Using the def keyword.\n",
    "# Calling: Using the function name followed by parentheses.\n",
    "\n",
    "def greet():\n",
    "    print(\"Hello, World!\")\n",
    "\n",
    "greet()\n"
   ]
  },
  {
   "cell_type": "code",
   "execution_count": 69,
   "id": "c6f42dea-6b88-43c7-b922-4f6d395cce54",
   "metadata": {},
   "outputs": [
    {
     "name": "stdout",
     "output_type": "stream",
     "text": [
      "Hello, Python!\n"
     ]
    }
   ],
   "source": [
    "# 2. Parameters and Arguments\n",
    "# Parameters: Variables listed inside the parentheses in the function definition.\n",
    "# Arguments: Values sent to the function when it is called.\n",
    "\n",
    "def greet(name):\n",
    "    print(f\"Hello, {name}!\")\n",
    "\n",
    "greet(\"Python\")\n"
   ]
  },
  {
   "cell_type": "code",
   "execution_count": null,
   "id": "10e1bba1-0024-46a3-a9e5-5393d73e2f08",
   "metadata": {},
   "outputs": [],
   "source": [
    "# 3. Default Parameter Values\n",
    "# Specify a default value for a parameter that will be used if the function is called without an argument for that parameter.\n",
    "\n",
    "def greet(name=\"World\"):\n",
    "    print(f\"Hello, {name}!\")\n",
    "\n",
    "greet()\n",
    "greet(\"Python\")\n"
   ]
  },
  {
   "cell_type": "code",
   "execution_count": 70,
   "id": "9613fc54-7ed1-4d14-b171-6df0e83e6997",
   "metadata": {},
   "outputs": [],
   "source": [
    "# 4. Return Values\n",
    "# Using the return statement to let a function return a value.\n",
    "\n",
    "def add(a, b):\n",
    "    return a + b\n",
    "\n",
    "result = add(3, 4)\n"
   ]
  },
  {
   "cell_type": "code",
   "execution_count": 73,
   "id": "d0c7ef3e-c58e-4661-95b4-d7b32bf26d37",
   "metadata": {},
   "outputs": [
    {
     "name": "stdout",
     "output_type": "stream",
     "text": [
      "10\n",
      "5\n"
     ]
    }
   ],
   "source": [
    "# 5. Variable Scope\n",
    "# Understanding of local and global variable scope\n",
    "\n",
    "def my_function():\n",
    "    local_var = 10  # Local variable\n",
    "    print(local_var)\n",
    "\n",
    "global_var = 5  # Global variable - not a good practice, but nevertheless possible. Drawback of notebook structure in general.\n",
    "my_function()\n",
    "print(global_var)\n"
   ]
  },
  {
   "cell_type": "code",
   "execution_count": 72,
   "id": "c314e2e0-43d1-41b3-9b97-b07f253fc394",
   "metadata": {},
   "outputs": [
    {
     "name": "stdout",
     "output_type": "stream",
     "text": [
      "1 2\n",
      "1 2\n"
     ]
    }
   ],
   "source": [
    "# 6. Positional vs. Keyword Arguments\n",
    "# Positional arguments: Must be passed in the correct positional order.\n",
    "# Keyword arguments: Passed by keyword and can be in any order.\n",
    "\n",
    "def example_function(arg1, arg2):\n",
    "    print(arg1, arg2)\n",
    "\n",
    "example_function(1, 2)  # Positional\n",
    "example_function(arg2=2, arg1=1)  # Keyword\n"
   ]
  },
  {
   "cell_type": "code",
   "execution_count": 74,
   "id": "73717cab-41b8-4f22-a433-3d087cff9d01",
   "metadata": {},
   "outputs": [
    {
     "name": "stdout",
     "output_type": "stream",
     "text": [
      "(1, 2, 3)\n",
      "{'a': 4, 'b': 5}\n"
     ]
    }
   ],
   "source": [
    "# 7. Arbitrary Argument Lists\n",
    "# *args: For arbitrary number of positional arguments.\n",
    "# **kwargs: For arbitrary number of keyword arguments.\n",
    "\n",
    "def example_function(*args, **kwargs):\n",
    "    print(args)  # Tuple\n",
    "    print(kwargs)  # Dictionary\n",
    "\n",
    "example_function(1, 2, 3, a=4, b=5)\n"
   ]
  },
  {
   "cell_type": "code",
   "execution_count": 75,
   "id": "356b2937-29b5-4a19-a561-1f839d1ff9fc",
   "metadata": {},
   "outputs": [
    {
     "name": "stdout",
     "output_type": "stream",
     "text": [
      "16\n"
     ]
    }
   ],
   "source": [
    "# 8. Lambda Functions\n",
    "# Anonymous functions defined with the lambda keyword.\n",
    "\n",
    "square = lambda x: x ** 2\n",
    "print(square(4))\n"
   ]
  },
  {
   "cell_type": "code",
   "execution_count": 76,
   "id": "dc100338-4b05-4970-9ef8-2bbb2d879510",
   "metadata": {},
   "outputs": [],
   "source": [
    "# 9. Docstrings\n",
    "# Documentation strings providing a description of the function's purpose.\n",
    "\n",
    "def greet():\n",
    "    \"\"\"\n",
    "    This function prints a greeting.\n",
    "    \"\"\"\n",
    "    print(\"Hello, World!\")\n"
   ]
  },
  {
   "cell_type": "code",
   "execution_count": 77,
   "id": "fb2a8722-08e7-4aaa-ab26-6a0467c761ee",
   "metadata": {},
   "outputs": [
    {
     "name": "stdout",
     "output_type": "stream",
     "text": [
      "120\n"
     ]
    }
   ],
   "source": [
    "# 10. Recursion\n",
    "# Functions calling themselves to solve problems.\n",
    "def factorial(n):\n",
    "    return 1 if n == 0 else n * factorial(n-1)\n",
    "\n",
    "print(factorial(5))\n",
    "\n"
   ]
  },
  {
   "cell_type": "code",
   "execution_count": 78,
   "id": "0ef00fa5-2183-4596-b822-f437e2ee3801",
   "metadata": {},
   "outputs": [
    {
     "name": "stdout",
     "output_type": "stream",
     "text": [
      "HELLO, WORLD!\n"
     ]
    }
   ],
   "source": [
    "# 11. First-Class Functions\n",
    "# Functions in Python are first-class citizens, meaning they can be passed around and used as arguments.\n",
    "\n",
    "def greet():\n",
    "    return \"Hello, World!\"\n",
    "\n",
    "def shout(func):\n",
    "    print(func().upper()) #calling on some objects passed as input to function. Like trying 5(), but still possible.\n",
    "\n",
    "shout(greet)\n"
   ]
  },
  {
   "cell_type": "code",
   "execution_count": 80,
   "id": "3c2011ca-4f9c-4833-af4c-f05e8153ddf8",
   "metadata": {},
   "outputs": [
    {
     "name": "stdout",
     "output_type": "stream",
     "text": [
      "Something is happening before the function is called.\n",
      "Hello, World!\n",
      "Something is happening after the function 'greet' is called.\n"
     ]
    }
   ],
   "source": [
    "# 12. Decorators\n",
    "# Functions that modify the behavior of other functions.\n",
    "\n",
    "def my_decorator(func):\n",
    "    def wrapper():\n",
    "        print(\"Something is happening before the function is called.\")\n",
    "        func()\n",
    "        print(f\"Something is happening after the function '{func.__name__}' is called.\")\n",
    "    return wrapper\n",
    "\n",
    "@my_decorator\n",
    "def greet():\n",
    "    print(\"Hello, World!\")\n",
    "\n",
    "greet()\n",
    "\n"
   ]
  },
  {
   "cell_type": "markdown",
   "id": "30c7a307-759d-426d-a147-2b5152f0b2cf",
   "metadata": {},
   "source": [
    "## Input/Output (I/O) Operations in Python"
   ]
  },
  {
   "cell_type": "code",
   "execution_count": null,
   "id": "053772be-d296-429c-8c16-486cbcd1baa2",
   "metadata": {},
   "outputs": [],
   "source": [
    "\n",
    "# Handling I/O operations effectively is crucial for various applications. \n",
    "\n",
    "# 1. Basic File I/O\n",
    "# Reading and Writing Text Files"
   ]
  },
  {
   "cell_type": "code",
   "execution_count": 81,
   "id": "8430fcfc-ddfe-4bd0-851c-ea04fbc0ff8a",
   "metadata": {},
   "outputs": [],
   "source": [
    "# Writing to a file\n",
    "with open('example.txt', 'w') as file:\n",
    "    file.write(\"Hello, Python!\")\n",
    "\n"
   ]
  },
  {
   "cell_type": "code",
   "execution_count": 82,
   "id": "da94256b-3171-4c22-8d66-6cdf22501a8e",
   "metadata": {},
   "outputs": [
    {
     "name": "stdout",
     "output_type": "stream",
     "text": [
      "Hello, Python!\n"
     ]
    }
   ],
   "source": [
    "# Reading from a file\n",
    "with open('example.txt', 'r') as file:\n",
    "    content = file.read()\n",
    "    print(content)\n"
   ]
  },
  {
   "cell_type": "code",
   "execution_count": 83,
   "id": "2565c6a6-7a89-4b4b-b414-c372f4e73f0d",
   "metadata": {},
   "outputs": [
    {
     "name": "stdout",
     "output_type": "stream",
     "text": [
      "Hello, Python!\n"
     ]
    }
   ],
   "source": [
    "# Reading file line by line\n",
    "with open('example.txt', 'r') as file:\n",
    "    for line in file:\n",
    "        print(line)\n"
   ]
  },
  {
   "cell_type": "code",
   "execution_count": 84,
   "id": "327faf3b-46f9-494e-b227-c7613e7de5b1",
   "metadata": {},
   "outputs": [],
   "source": [
    "import csv\n",
    "\n",
    "data = [[\"Name\", \"Age\"], [\"Alice\", 30], [\"Bob\", 28]]\n",
    "\n",
    "# Writing to a CSV file\n",
    "with open('people.csv', 'w', newline='') as file:\n",
    "    writer = csv.writer(file)\n",
    "    writer.writerows(data)\n"
   ]
  },
  {
   "cell_type": "code",
   "execution_count": 85,
   "id": "42e81473-ea6b-41a7-b29b-0b32dea575ce",
   "metadata": {},
   "outputs": [
    {
     "name": "stdout",
     "output_type": "stream",
     "text": [
      "['Name', 'Age']\n",
      "['Alice', '30']\n",
      "['Bob', '28']\n"
     ]
    }
   ],
   "source": [
    "# Reading from a CSV file\n",
    "with open('people.csv', 'r') as file:\n",
    "    reader = csv.reader(file)\n",
    "    for row in reader:\n",
    "        print(row)\n"
   ]
  },
  {
   "cell_type": "code",
   "execution_count": null,
   "id": "ee32032a-a276-4fc1-9e77-0ec112b67420",
   "metadata": {},
   "outputs": [],
   "source": [
    "try:\n",
    "    with open('nonexistent.txt', 'r') as file:\n",
    "        content = file.read()\n",
    "except FileNotFoundError:\n",
    "    print(\"File not found.\")\n"
   ]
  },
  {
   "cell_type": "code",
   "execution_count": 88,
   "id": "d1282dcb-f59e-4b1f-b3e4-cf99506855ef",
   "metadata": {},
   "outputs": [
    {
     "name": "stdout",
     "output_type": "stream",
     "text": [
      "['.git', '.gitignore', '.ipynb_checkpoints', '00_Setup', '01_PythonBasics', '02_Basics_II.ipynb', 'example.txt', 'newnew.txt', 'people.csv', 'README.md', 'txtxtxt.txt']\n"
     ]
    }
   ],
   "source": [
    "import os\n",
    "# List directory content\n",
    "print(os.listdir('.'))\n",
    "\n",
    "# Change directory\n",
    "os.chdir('./')\n"
   ]
  },
  {
   "cell_type": "code",
   "execution_count": 89,
   "id": "f3087dcd-3231-4ec7-bdf1-b7097e752489",
   "metadata": {},
   "outputs": [],
   "source": [
    "import os\n",
    "\n",
    "# Get current directory\n",
    "current_dir = os.getcwd()\n",
    "\n",
    "# Join paths\n",
    "path = os.path.join(current_dir, 'example.txt')\n"
   ]
  },
  {
   "cell_type": "code",
   "execution_count": 90,
   "id": "bbad71a5-2693-417f-a90f-9324c8673690",
   "metadata": {},
   "outputs": [
    {
     "data": {
      "text/plain": [
       "'C:\\\\Users\\\\František Vlach\\\\F_link\\\\IES\\\\Python\\\\PythonDataIES\\\\example.txt'"
      ]
     },
     "execution_count": 90,
     "metadata": {},
     "output_type": "execute_result"
    }
   ],
   "source": [
    "path"
   ]
  },
  {
   "cell_type": "markdown",
   "id": "12ccfbad-646e-4ca4-ad39-5e291aa334ff",
   "metadata": {},
   "source": [
    "## Error and Exception Handling in Python\n"
   ]
  },
  {
   "cell_type": "code",
   "execution_count": 91,
   "id": "2296202c-f3d8-4ccf-b01e-7957a5245a5a",
   "metadata": {},
   "outputs": [
    {
     "name": "stdout",
     "output_type": "stream",
     "text": [
      "You can't divide by zero!\n"
     ]
    }
   ],
   "source": [
    "# 1. Basic Try/Except Block\n",
    "# Handling exceptions with try and except.\n",
    "\n",
    "try:\n",
    "    result = 10 / 0\n",
    "except ZeroDivisionError:\n",
    "    print(\"You can't divide by zero!\")\n"
   ]
  },
  {
   "cell_type": "code",
   "execution_count": 92,
   "id": "545622cc-da80-4a8d-ba3b-e010ee6c17de",
   "metadata": {},
   "outputs": [
    {
     "name": "stdout",
     "output_type": "stream",
     "text": [
      "An error occurred: division by zero\n"
     ]
    }
   ],
   "source": [
    "# 2. Handling Multiple Exceptions\n",
    "# Catching different exception types.\n",
    "    \n",
    "try:\n",
    "    result = 10 / 0\n",
    "except (TypeError, ZeroDivisionError) as e:\n",
    "    print(f\"An error occurred: {str(e)}\")\n"
   ]
  },
  {
   "cell_type": "code",
   "execution_count": 93,
   "id": "ae583796-6d68-43ed-a6c6-a2e4afe38518",
   "metadata": {},
   "outputs": [
    {
     "name": "stdout",
     "output_type": "stream",
     "text": [
      "Division successful!\n",
      "This block will run no matter what.\n"
     ]
    }
   ],
   "source": [
    "# 3. Else and Finally Clauses\n",
    "# else: Runs when no exception is raised in the try block.\n",
    "# finally: Always runs, whether an exception is raised or not.\n",
    "try:\n",
    "    result = 10 / 5\n",
    "except ZeroDivisionError:\n",
    "    print(\"You can't divide by zero!\")\n",
    "else:\n",
    "    print(\"Division successful!\")\n",
    "finally:\n",
    "    print(\"This block will run no matter what.\")\n",
    "\n",
    "\n"
   ]
  },
  {
   "cell_type": "code",
   "execution_count": 96,
   "id": "5a2e853a-56cb-4faf-86e2-a685c9223a40",
   "metadata": {},
   "outputs": [
    {
     "name": "stdout",
     "output_type": "stream",
     "text": [
      "A CustomError occurred: This is a custom exception\n"
     ]
    }
   ],
   "source": [
    "class CustomError(Exception):\n",
    "    pass\n",
    "\n",
    "try:\n",
    "    raise CustomError(\"This is a custom exception\")\n",
    "except CustomError as e:\n",
    "    print(f\"A CustomError occurred: {str(e)}\")\n"
   ]
  },
  {
   "cell_type": "code",
   "execution_count": 95,
   "id": "1f2642bb-b6e1-4736-9ca2-2aff630feb9c",
   "metadata": {},
   "outputs": [
    {
     "ename": "AssertionError",
     "evalue": "Only non-negative numbers are allowed!",
     "output_type": "error",
     "traceback": [
      "\u001b[1;31m---------------------------------------------------------------------------\u001b[0m",
      "\u001b[1;31mAssertionError\u001b[0m                            Traceback (most recent call last)",
      "Cell \u001b[1;32mIn[95], line 5\u001b[0m\n\u001b[0;32m      1\u001b[0m \u001b[38;5;66;03m# 5. Assertion and the Assert Statement\u001b[39;00m\n\u001b[0;32m      2\u001b[0m \u001b[38;5;66;03m# Using assert to automatically trigger an exception when a condition is not met.\u001b[39;00m\n\u001b[0;32m      4\u001b[0m x \u001b[38;5;241m=\u001b[39m \u001b[38;5;241m-\u001b[39m\u001b[38;5;241m1\u001b[39m\n\u001b[1;32m----> 5\u001b[0m \u001b[38;5;28;01massert\u001b[39;00m x \u001b[38;5;241m>\u001b[39m\u001b[38;5;241m=\u001b[39m \u001b[38;5;241m0\u001b[39m, \u001b[38;5;124m\"\u001b[39m\u001b[38;5;124mOnly non-negative numbers are allowed!\u001b[39m\u001b[38;5;124m\"\u001b[39m\n",
      "\u001b[1;31mAssertionError\u001b[0m: Only non-negative numbers are allowed!"
     ]
    }
   ],
   "source": [
    "# 5. Assertion and the Assert Statement\n",
    "# Using assert to automatically trigger an exception when a condition is not met.\n",
    "\n",
    "x = -1\n",
    "assert x >= 0, \"Only non-negative numbers are allowed!\"\n"
   ]
  },
  {
   "cell_type": "code",
   "execution_count": 98,
   "id": "90dd266e-21f8-4575-b6a4-7f19d8cfd468",
   "metadata": {},
   "outputs": [
    {
     "name": "stdout",
     "output_type": "stream",
     "text": [
      "Can't divide by zero!\n",
      "None\n"
     ]
    }
   ],
   "source": [
    "# 7. Handling Exceptions in Functions\n",
    "# Creating functions that handle exceptions.\n",
    "# python\n",
    "def safe_divide(a, b):\n",
    "    try:\n",
    "        return a / b\n",
    "    except ZeroDivisionError:\n",
    "        print(\"Can't divide by zero!\")\n",
    "        return None\n",
    "\n",
    "result = safe_divide(10, 0)\n"
   ]
  },
  {
   "cell_type": "code",
   "execution_count": 99,
   "id": "9125ce39-864e-4c3f-81df-b34ddc54506b",
   "metadata": {},
   "outputs": [
    {
     "name": "stdout",
     "output_type": "stream",
     "text": [
      "Validation failed: Age cannot be negative\n"
     ]
    }
   ],
   "source": [
    "# 8. Raising Exceptions\n",
    "# Using raise to trigger an exception.\n",
    "\n",
    "def validate_age(age):\n",
    "    if age < 0:\n",
    "        raise ValueError(\"Age cannot be negative\")\n",
    "\n",
    "try:\n",
    "    validate_age(-1)\n",
    "except ValueError as e:\n",
    "    print(f\"Validation failed: {str(e)}\")\n"
   ]
  },
  {
   "cell_type": "code",
   "execution_count": 100,
   "id": "57216bd4-a74f-46bd-ac12-e46a6c8deebf",
   "metadata": {},
   "outputs": [
    {
     "name": "stdout",
     "output_type": "stream",
     "text": [
      "An error occurred: A parsing error occurred\n",
      "Due to: invalid literal for int() with base 10: 'not_a_number'\n"
     ]
    }
   ],
   "source": [
    "# 9. Chaining Exceptions\n",
    "# Using from with raise to chain exceptions and maintain tracebacks.\n",
    "\n",
    "def example():\n",
    "    try:\n",
    "        int(\"not_a_number\")\n",
    "    except ValueError as e:\n",
    "        raise RuntimeError(\"A parsing error occurred\") from e\n",
    "\n",
    "try:\n",
    "    example()\n",
    "except RuntimeError as e:\n",
    "    print(f\"An error occurred: {str(e)}\")\n",
    "    print(f\"Due to: {str(e.__cause__)}\")\n"
   ]
  },
  {
   "cell_type": "code",
   "execution_count": null,
   "id": "4115fb83-7962-4b51-95ef-65f7f11d13ac",
   "metadata": {},
   "outputs": [],
   "source": [
    "### simple data pipeline"
   ]
  },
  {
   "cell_type": "code",
   "execution_count": 101,
   "id": "c31cd5b1-cb82-4a62-a4d0-acbd359452e4",
   "metadata": {},
   "outputs": [],
   "source": [
    "def read_data(file_path):\n",
    "    data = []\n",
    "    with open(file_path, 'r') as file:\n",
    "        for line in file:\n",
    "            name, age = line.strip().split(',')\n",
    "            data.append((name, int(age)))\n",
    "    return data\n",
    "\n",
    "def calculate_average_age(data):\n",
    "    total_age = sum(age for _, age in data)\n",
    "    average_age = total_age / len(data)\n",
    "    return average_age\n",
    "\n",
    "def display_average_age(average_age):\n",
    "    print(f\"The average age is: {average_age:.2f}\")\n",
    "\n",
    "def main(file_path):\n",
    "    data = read_data(file_path)\n",
    "    average_age = calculate_average_age(data)\n",
    "    display_average_age(average_age)\n"
   ]
  },
  {
   "cell_type": "code",
   "execution_count": 102,
   "id": "21019019-d720-4fee-8bb5-09d6003875c0",
   "metadata": {},
   "outputs": [
    {
     "ename": "FileNotFoundError",
     "evalue": "[Errno 2] No such file or directory: 'sample.txt'",
     "output_type": "error",
     "traceback": [
      "\u001b[1;31m---------------------------------------------------------------------------\u001b[0m",
      "\u001b[1;31mFileNotFoundError\u001b[0m                         Traceback (most recent call last)",
      "Cell \u001b[1;32mIn[102], line 1\u001b[0m\n\u001b[1;32m----> 1\u001b[0m \u001b[43mmain\u001b[49m\u001b[43m(\u001b[49m\u001b[38;5;124;43m'\u001b[39;49m\u001b[38;5;124;43msample.txt\u001b[39;49m\u001b[38;5;124;43m'\u001b[39;49m\u001b[43m)\u001b[49m\n",
      "Cell \u001b[1;32mIn[101], line 18\u001b[0m, in \u001b[0;36mmain\u001b[1;34m(file_path)\u001b[0m\n\u001b[0;32m     17\u001b[0m \u001b[38;5;28;01mdef\u001b[39;00m \u001b[38;5;21mmain\u001b[39m(file_path):\n\u001b[1;32m---> 18\u001b[0m     data \u001b[38;5;241m=\u001b[39m \u001b[43mread_data\u001b[49m\u001b[43m(\u001b[49m\u001b[43mfile_path\u001b[49m\u001b[43m)\u001b[49m\n\u001b[0;32m     19\u001b[0m     average_age \u001b[38;5;241m=\u001b[39m calculate_average_age(data)\n\u001b[0;32m     20\u001b[0m     display_average_age(average_age)\n",
      "Cell \u001b[1;32mIn[101], line 3\u001b[0m, in \u001b[0;36mread_data\u001b[1;34m(file_path)\u001b[0m\n\u001b[0;32m      1\u001b[0m \u001b[38;5;28;01mdef\u001b[39;00m \u001b[38;5;21mread_data\u001b[39m(file_path):\n\u001b[0;32m      2\u001b[0m     data \u001b[38;5;241m=\u001b[39m []\n\u001b[1;32m----> 3\u001b[0m     \u001b[38;5;28;01mwith\u001b[39;00m \u001b[38;5;28;43mopen\u001b[39;49m\u001b[43m(\u001b[49m\u001b[43mfile_path\u001b[49m\u001b[43m,\u001b[49m\u001b[43m \u001b[49m\u001b[38;5;124;43m'\u001b[39;49m\u001b[38;5;124;43mr\u001b[39;49m\u001b[38;5;124;43m'\u001b[39;49m\u001b[43m)\u001b[49m \u001b[38;5;28;01mas\u001b[39;00m file:\n\u001b[0;32m      4\u001b[0m         \u001b[38;5;28;01mfor\u001b[39;00m line \u001b[38;5;129;01min\u001b[39;00m file:\n\u001b[0;32m      5\u001b[0m             name, age \u001b[38;5;241m=\u001b[39m line\u001b[38;5;241m.\u001b[39mstrip()\u001b[38;5;241m.\u001b[39msplit(\u001b[38;5;124m'\u001b[39m\u001b[38;5;124m,\u001b[39m\u001b[38;5;124m'\u001b[39m)\n",
      "File \u001b[1;32mC:\\ProgramData\\anaconda3\\lib\\site-packages\\IPython\\core\\interactiveshell.py:282\u001b[0m, in \u001b[0;36m_modified_open\u001b[1;34m(file, *args, **kwargs)\u001b[0m\n\u001b[0;32m    275\u001b[0m \u001b[38;5;28;01mif\u001b[39;00m file \u001b[38;5;129;01min\u001b[39;00m {\u001b[38;5;241m0\u001b[39m, \u001b[38;5;241m1\u001b[39m, \u001b[38;5;241m2\u001b[39m}:\n\u001b[0;32m    276\u001b[0m     \u001b[38;5;28;01mraise\u001b[39;00m \u001b[38;5;167;01mValueError\u001b[39;00m(\n\u001b[0;32m    277\u001b[0m         \u001b[38;5;124mf\u001b[39m\u001b[38;5;124m\"\u001b[39m\u001b[38;5;124mIPython won\u001b[39m\u001b[38;5;124m'\u001b[39m\u001b[38;5;124mt let you open fd=\u001b[39m\u001b[38;5;132;01m{\u001b[39;00mfile\u001b[38;5;132;01m}\u001b[39;00m\u001b[38;5;124m by default \u001b[39m\u001b[38;5;124m\"\u001b[39m\n\u001b[0;32m    278\u001b[0m         \u001b[38;5;124m\"\u001b[39m\u001b[38;5;124mas it is likely to crash IPython. If you know what you are doing, \u001b[39m\u001b[38;5;124m\"\u001b[39m\n\u001b[0;32m    279\u001b[0m         \u001b[38;5;124m\"\u001b[39m\u001b[38;5;124myou can use builtins\u001b[39m\u001b[38;5;124m'\u001b[39m\u001b[38;5;124m open.\u001b[39m\u001b[38;5;124m\"\u001b[39m\n\u001b[0;32m    280\u001b[0m     )\n\u001b[1;32m--> 282\u001b[0m \u001b[38;5;28;01mreturn\u001b[39;00m io_open(file, \u001b[38;5;241m*\u001b[39margs, \u001b[38;5;241m*\u001b[39m\u001b[38;5;241m*\u001b[39mkwargs)\n",
      "\u001b[1;31mFileNotFoundError\u001b[0m: [Errno 2] No such file or directory: 'sample.txt'"
     ]
    }
   ],
   "source": [
    "main('sample.txt')"
   ]
  },
  {
   "cell_type": "code",
   "execution_count": null,
   "id": "f694dd79-2e62-4517-8d56-4852a698870f",
   "metadata": {},
   "outputs": [],
   "source": []
  },
  {
   "cell_type": "code",
   "execution_count": null,
   "id": "8e395330-9783-4210-927d-a4afc278c3df",
   "metadata": {},
   "outputs": [],
   "source": []
  },
  {
   "cell_type": "code",
   "execution_count": null,
   "id": "bf2d9f09-a934-4c8b-907d-d55d2a1a93e6",
   "metadata": {},
   "outputs": [],
   "source": []
  },
  {
   "cell_type": "code",
   "execution_count": null,
   "id": "7dbd03bd-223a-4d10-9f05-6ce9fc221639",
   "metadata": {},
   "outputs": [],
   "source": []
  },
  {
   "cell_type": "code",
   "execution_count": null,
   "id": "b57cd614-628e-42bb-8de4-d5570e30e810",
   "metadata": {},
   "outputs": [],
   "source": []
  },
  {
   "cell_type": "code",
   "execution_count": null,
   "id": "4278559e-967d-46f7-a066-d037530117f8",
   "metadata": {},
   "outputs": [],
   "source": []
  }
 ],
 "metadata": {
  "kernelspec": {
   "display_name": "Python 3 (ipykernel)",
   "language": "python",
   "name": "python3"
  },
  "language_info": {
   "codemirror_mode": {
    "name": "ipython",
    "version": 3
   },
   "file_extension": ".py",
   "mimetype": "text/x-python",
   "name": "python",
   "nbconvert_exporter": "python",
   "pygments_lexer": "ipython3",
   "version": "3.10.9"
  }
 },
 "nbformat": 4,
 "nbformat_minor": 5
}
