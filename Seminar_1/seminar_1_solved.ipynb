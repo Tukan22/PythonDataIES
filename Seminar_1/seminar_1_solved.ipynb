{
 "cells": [
  {
   "cell_type": "markdown",
   "id": "fa9e11ab",
   "metadata": {},
   "source": [
    "# Seminar: Lists, dictionaries, functions, exceptions\n"
   ]
  },
  {
   "cell_type": "markdown",
   "id": "239ab00a-b400-4a6b-a51f-780c76eb3f3e",
   "metadata": {
    "tags": []
   },
   "source": [
    "### Task 0. \n",
    "Write a loop which will add \"_adj\" to the each element of the list:\n",
    "[\"close\", \"open\", \"high\", \"high\"]"
   ]
  },
  {
   "cell_type": "code",
   "execution_count": 19,
   "id": "cf359ec2-8f2b-4570-b075-a3bf5afd73ff",
   "metadata": {
    "tags": []
   },
   "outputs": [],
   "source": [
    "my_list = [\"close\", \"open\", \"high\", \"high\"]"
   ]
  },
  {
   "cell_type": "code",
   "execution_count": 18,
   "id": "0d51f0d0-cdf4-4eda-9288-07d00c0b8906",
   "metadata": {
    "tags": []
   },
   "outputs": [
    {
     "name": "stdout",
     "output_type": "stream",
     "text": [
      "['close_adj', 'open_adj', 'high_adj', 'high_adj']\n"
     ]
    }
   ],
   "source": [
    "for i in range(len(my_list)):\n",
    "    my_list[i] += \"_adj\"\n",
    "print(my_list)"
   ]
  },
  {
   "cell_type": "markdown",
   "id": "9d88e376-d4f8-43e5-8131-29eb944a9ced",
   "metadata": {},
   "source": [
    "Do the same but write all of the code in one line (list comprehension)."
   ]
  },
  {
   "cell_type": "code",
   "execution_count": 20,
   "id": "50ab8814-f05b-4ed0-9099-d9d761fe98ff",
   "metadata": {
    "tags": []
   },
   "outputs": [],
   "source": [
    "my_list = [\"close\", \"open\", \"high\", \"high\"]"
   ]
  },
  {
   "cell_type": "code",
   "execution_count": 22,
   "id": "d329b4d6-7b43-431e-a670-fdd78799c1c6",
   "metadata": {
    "tags": []
   },
   "outputs": [
    {
     "data": {
      "text/plain": [
       "['close_adj', 'open_adj', 'high_adj', 'high_adj']"
      ]
     },
     "execution_count": 22,
     "metadata": {},
     "output_type": "execute_result"
    }
   ],
   "source": [
    "[i+\"_adj\" for i in my_list]"
   ]
  },
  {
   "cell_type": "markdown",
   "id": "d0dda828",
   "metadata": {},
   "source": [
    "### Task 1. \n",
    "\n",
    "Write a function which will sum up all values in the list"
   ]
  },
  {
   "cell_type": "markdown",
   "id": "1401ca62",
   "metadata": {},
   "source": [
    "#### a. For the case when input is list of integers."
   ]
  },
  {
   "cell_type": "code",
   "execution_count": 23,
   "id": "f6d17a45-c02d-43e5-ae03-144d79d7121c",
   "metadata": {
    "tags": []
   },
   "outputs": [],
   "source": [
    "my_list_int = [0, 1, 1, 2, 3, 5, 8, 13]"
   ]
  },
  {
   "cell_type": "code",
   "execution_count": 24,
   "id": "8750cd32",
   "metadata": {
    "tags": []
   },
   "outputs": [],
   "source": [
    "def sum_up(my_list):\n",
    "    res_of_sum = 0\n",
    "    for num in my_list:\n",
    "        res_of_sum += num\n",
    "    return res_of_sum"
   ]
  },
  {
   "cell_type": "code",
   "execution_count": 25,
   "id": "fefdbef8",
   "metadata": {
    "tags": []
   },
   "outputs": [
    {
     "data": {
      "text/plain": [
       "33"
      ]
     },
     "execution_count": 25,
     "metadata": {},
     "output_type": "execute_result"
    }
   ],
   "source": [
    "sum_up(my_list_int)"
   ]
  },
  {
   "cell_type": "markdown",
   "id": "e06770f1",
   "metadata": {},
   "source": [
    "#### b. What will be if the input is list of strings?"
   ]
  },
  {
   "cell_type": "code",
   "execution_count": 27,
   "id": "f07c53c5-edc2-473c-80c4-b141c3a85c27",
   "metadata": {
    "tags": []
   },
   "outputs": [],
   "source": [
    "my_list_str = ['0', 'a', '1', 'bb', 'ccc', '5', '8', '13']"
   ]
  },
  {
   "cell_type": "code",
   "execution_count": 28,
   "id": "10ec1e55-5ea2-4e4d-86c0-985f118e2802",
   "metadata": {
    "tags": []
   },
   "outputs": [
    {
     "ename": "TypeError",
     "evalue": "unsupported operand type(s) for +=: 'int' and 'str'",
     "output_type": "error",
     "traceback": [
      "\u001b[1;31m---------------------------------------------------------------------------\u001b[0m",
      "\u001b[1;31mTypeError\u001b[0m                                 Traceback (most recent call last)",
      "Cell \u001b[1;32mIn[28], line 1\u001b[0m\n\u001b[1;32m----> 1\u001b[0m \u001b[43msum_up\u001b[49m\u001b[43m(\u001b[49m\u001b[43mmy_list_str\u001b[49m\u001b[43m)\u001b[49m\n",
      "Cell \u001b[1;32mIn[24], line 4\u001b[0m, in \u001b[0;36msum_up\u001b[1;34m(my_list)\u001b[0m\n\u001b[0;32m      2\u001b[0m res_of_sum \u001b[38;5;241m=\u001b[39m \u001b[38;5;241m0\u001b[39m\n\u001b[0;32m      3\u001b[0m \u001b[38;5;28;01mfor\u001b[39;00m num \u001b[38;5;129;01min\u001b[39;00m my_list:\n\u001b[1;32m----> 4\u001b[0m     res_of_sum \u001b[38;5;241m+\u001b[39m\u001b[38;5;241m=\u001b[39m num\n\u001b[0;32m      5\u001b[0m \u001b[38;5;28;01mreturn\u001b[39;00m res_of_sum\n",
      "\u001b[1;31mTypeError\u001b[0m: unsupported operand type(s) for +=: 'int' and 'str'"
     ]
    }
   ],
   "source": [
    "sum_up(my_list_str)"
   ]
  },
  {
   "cell_type": "code",
   "execution_count": null,
   "id": "6f214987-4948-4afb-85fb-4a140196d051",
   "metadata": {},
   "outputs": [],
   "source": [
    "# change the function in order to avoid error and get the answer: '0a1bbccc5813'"
   ]
  },
  {
   "cell_type": "code",
   "execution_count": 29,
   "id": "c4aa17cc",
   "metadata": {
    "tags": []
   },
   "outputs": [],
   "source": [
    "def sum_up_str(my_list):\n",
    "    res_of_sum = \"\"\n",
    "    for num in my_list:\n",
    "        res_of_sum += num\n",
    "    return res_of_sum"
   ]
  },
  {
   "cell_type": "code",
   "execution_count": 30,
   "id": "10fac1f0",
   "metadata": {
    "tags": []
   },
   "outputs": [
    {
     "data": {
      "text/plain": [
       "'0a1bbccc5813'"
      ]
     },
     "execution_count": 30,
     "metadata": {},
     "output_type": "execute_result"
    }
   ],
   "source": [
    "sum_up_str(my_list_str)"
   ]
  },
  {
   "cell_type": "markdown",
   "id": "d67d8c92",
   "metadata": {},
   "source": [
    "#### c. Rewrite the function sum_up in the way, that we will get a message 'can not sum it up' if the summation can't be performed"
   ]
  },
  {
   "cell_type": "code",
   "execution_count": 32,
   "id": "461057db-76ed-45ce-9195-94e7449b8042",
   "metadata": {
    "tags": []
   },
   "outputs": [],
   "source": [
    "mixed_list = [1, 4, 'd']"
   ]
  },
  {
   "cell_type": "code",
   "execution_count": 33,
   "id": "7b489ffb-38d3-46e5-b150-ed2c8470dda3",
   "metadata": {
    "tags": []
   },
   "outputs": [],
   "source": [
    "def sum_up_except(my_list):\n",
    "    res_of_sum = 0\n",
    "    for num in my_list:\n",
    "        try:\n",
    "            res_of_sum += num\n",
    "        except Exception:\n",
    "            print('can not sum it up')\n",
    "    return res_of_sum"
   ]
  },
  {
   "cell_type": "code",
   "execution_count": 34,
   "id": "2c31130b-b976-4861-9609-484d8a22ff72",
   "metadata": {
    "tags": []
   },
   "outputs": [
    {
     "name": "stdout",
     "output_type": "stream",
     "text": [
      "can not sum it up\n"
     ]
    },
    {
     "data": {
      "text/plain": [
       "5"
      ]
     },
     "execution_count": 34,
     "metadata": {},
     "output_type": "execute_result"
    }
   ],
   "source": [
    "sum_up_except(mixed_list)"
   ]
  },
  {
   "cell_type": "code",
   "execution_count": null,
   "id": "93ba0f67-a433-4104-a57a-7a897d3dcf2b",
   "metadata": {},
   "outputs": [],
   "source": [
    "# return nothing if the summation can not be performed "
   ]
  },
  {
   "cell_type": "code",
   "execution_count": 35,
   "id": "fb521cf9-ba60-49ef-b144-8448c2f8c908",
   "metadata": {
    "tags": []
   },
   "outputs": [],
   "source": [
    "def sum_up_except(my_list):\n",
    "    res_of_sum = 0\n",
    "    for num in my_list:\n",
    "        try:\n",
    "            res_of_sum += num\n",
    "        except Exception:\n",
    "            print('can not sum it up')\n",
    "            return\n",
    "    return res_of_sum"
   ]
  },
  {
   "cell_type": "code",
   "execution_count": 36,
   "id": "759ddcbd-076c-4135-bbb2-b4bc9159248a",
   "metadata": {
    "tags": []
   },
   "outputs": [
    {
     "name": "stdout",
     "output_type": "stream",
     "text": [
      "can not sum it up\n"
     ]
    }
   ],
   "source": [
    "sum_up_except(mixed_list)"
   ]
  },
  {
   "cell_type": "markdown",
   "id": "3240b759",
   "metadata": {},
   "source": [
    "#### d. Why do we need to write the exceptions?"
   ]
  },
  {
   "cell_type": "code",
   "execution_count": 37,
   "id": "ad2390cf",
   "metadata": {
    "tags": []
   },
   "outputs": [
    {
     "name": "stdout",
     "output_type": "stream",
     "text": [
      "Step 1\n",
      "can not sum it up\n",
      "Step 2: None\n",
      "Step 3\n"
     ]
    }
   ],
   "source": [
    "print('Step 1')\n",
    "print(f'Step 2: {sum_up_except([1, 4, \"d\"])}')\n",
    "print('Step 3')"
   ]
  },
  {
   "cell_type": "code",
   "execution_count": 38,
   "id": "ec92a671",
   "metadata": {
    "tags": []
   },
   "outputs": [
    {
     "name": "stdout",
     "output_type": "stream",
     "text": [
      "Step 1\n"
     ]
    },
    {
     "ename": "TypeError",
     "evalue": "unsupported operand type(s) for +=: 'int' and 'str'",
     "output_type": "error",
     "traceback": [
      "\u001b[1;31m---------------------------------------------------------------------------\u001b[0m",
      "\u001b[1;31mTypeError\u001b[0m                                 Traceback (most recent call last)",
      "Cell \u001b[1;32mIn[38], line 2\u001b[0m\n\u001b[0;32m      1\u001b[0m \u001b[38;5;28mprint\u001b[39m(\u001b[38;5;124m'\u001b[39m\u001b[38;5;124mStep 1\u001b[39m\u001b[38;5;124m'\u001b[39m)\n\u001b[1;32m----> 2\u001b[0m \u001b[38;5;28mprint\u001b[39m(\u001b[38;5;124mf\u001b[39m\u001b[38;5;124m'\u001b[39m\u001b[38;5;124mStep 2: \u001b[39m\u001b[38;5;132;01m{\u001b[39;00msum_up([\u001b[38;5;241m1\u001b[39m, \u001b[38;5;241m4\u001b[39m, \u001b[38;5;124m\"\u001b[39m\u001b[38;5;124md\u001b[39m\u001b[38;5;124m\"\u001b[39m])\u001b[38;5;132;01m}\u001b[39;00m\u001b[38;5;124m'\u001b[39m)\n\u001b[0;32m      3\u001b[0m \u001b[38;5;28mprint\u001b[39m(\u001b[38;5;124m'\u001b[39m\u001b[38;5;124mStep 3\u001b[39m\u001b[38;5;124m'\u001b[39m)\n",
      "Cell \u001b[1;32mIn[24], line 4\u001b[0m, in \u001b[0;36msum_up\u001b[1;34m(my_list)\u001b[0m\n\u001b[0;32m      2\u001b[0m res_of_sum \u001b[38;5;241m=\u001b[39m \u001b[38;5;241m0\u001b[39m\n\u001b[0;32m      3\u001b[0m \u001b[38;5;28;01mfor\u001b[39;00m num \u001b[38;5;129;01min\u001b[39;00m my_list:\n\u001b[1;32m----> 4\u001b[0m     res_of_sum \u001b[38;5;241m+\u001b[39m\u001b[38;5;241m=\u001b[39m num\n\u001b[0;32m      5\u001b[0m \u001b[38;5;28;01mreturn\u001b[39;00m res_of_sum\n",
      "\u001b[1;31mTypeError\u001b[0m: unsupported operand type(s) for +=: 'int' and 'str'"
     ]
    }
   ],
   "source": [
    "print('Step 1')\n",
    "print(f'Step 2: {sum_up([1, 4, \"d\"])}')\n",
    "print('Step 3')"
   ]
  },
  {
   "cell_type": "markdown",
   "id": "278db275",
   "metadata": {},
   "source": [
    "### Task 2."
   ]
  },
  {
   "cell_type": "markdown",
   "id": "d3d3a943",
   "metadata": {},
   "source": [
    "In this task we will work with the dictionary:"
   ]
  },
  {
   "cell_type": "code",
   "execution_count": 47,
   "id": "eba4a98b",
   "metadata": {
    "tags": []
   },
   "outputs": [],
   "source": [
    "dic_food = {'apple':5, 'orange':4, 'onion':9}"
   ]
  },
  {
   "cell_type": "markdown",
   "id": "3074601e",
   "metadata": {},
   "source": [
    "#### a. Calculate how many products in total do we have. How many fruits?"
   ]
  },
  {
   "cell_type": "code",
   "execution_count": 48,
   "id": "65fc0173",
   "metadata": {
    "tags": []
   },
   "outputs": [
    {
     "data": {
      "text/plain": [
       "18"
      ]
     },
     "execution_count": 48,
     "metadata": {},
     "output_type": "execute_result"
    }
   ],
   "source": [
    "sum(dic_food.values())"
   ]
  },
  {
   "cell_type": "code",
   "execution_count": 49,
   "id": "f35e6c38",
   "metadata": {
    "tags": []
   },
   "outputs": [
    {
     "data": {
      "text/plain": [
       "18"
      ]
     },
     "execution_count": 49,
     "metadata": {},
     "output_type": "execute_result"
    }
   ],
   "source": [
    "sum([v for v in dic_food.values()])"
   ]
  },
  {
   "cell_type": "code",
   "execution_count": 50,
   "id": "c205408f",
   "metadata": {
    "tags": []
   },
   "outputs": [
    {
     "data": {
      "text/plain": [
       "9"
      ]
     },
     "execution_count": 50,
     "metadata": {},
     "output_type": "execute_result"
    }
   ],
   "source": [
    "list_fruits = ['apple', 'orange']\n",
    "sum([v for k, v in dic_food.items() if k in list_fruits])"
   ]
  },
  {
   "cell_type": "markdown",
   "id": "a3ca5ec2",
   "metadata": {},
   "source": [
    "#### b. Add one more apple and change the numbers of onions to 1"
   ]
  },
  {
   "cell_type": "code",
   "execution_count": 51,
   "id": "d85c63a1",
   "metadata": {
    "tags": []
   },
   "outputs": [
    {
     "data": {
      "text/plain": [
       "{'apple': 5, 'orange': 4, 'onion': 9}"
      ]
     },
     "execution_count": 51,
     "metadata": {},
     "output_type": "execute_result"
    }
   ],
   "source": [
    "dic_food"
   ]
  },
  {
   "cell_type": "code",
   "execution_count": 52,
   "id": "831fe4ba",
   "metadata": {
    "tags": []
   },
   "outputs": [],
   "source": [
    "dic_food['apple'] += 1"
   ]
  },
  {
   "cell_type": "code",
   "execution_count": 53,
   "id": "0b9ace80",
   "metadata": {
    "tags": []
   },
   "outputs": [
    {
     "data": {
      "text/plain": [
       "{'apple': 6, 'orange': 4, 'onion': 9}"
      ]
     },
     "execution_count": 53,
     "metadata": {},
     "output_type": "execute_result"
    }
   ],
   "source": [
    "dic_food"
   ]
  },
  {
   "cell_type": "code",
   "execution_count": 55,
   "id": "6d513519",
   "metadata": {
    "tags": []
   },
   "outputs": [],
   "source": [
    "dic_food['onion'] = 1"
   ]
  },
  {
   "cell_type": "code",
   "execution_count": 57,
   "id": "9e7d3831",
   "metadata": {
    "tags": []
   },
   "outputs": [
    {
     "data": {
      "text/plain": [
       "{'apple': 6, 'orange': 4, 'onion': 1}"
      ]
     },
     "execution_count": 57,
     "metadata": {},
     "output_type": "execute_result"
    }
   ],
   "source": [
    "dic_food"
   ]
  },
  {
   "cell_type": "markdown",
   "id": "7c03197c",
   "metadata": {},
   "source": [
    "#### c. Make the same dictionary from the lists: "
   ]
  },
  {
   "cell_type": "code",
   "execution_count": 65,
   "id": "cc3b305e",
   "metadata": {},
   "outputs": [],
   "source": [
    "prod_name = ['apple', 'orange', 'onion']\n",
    "prod_amount = [1,5,5]"
   ]
  },
  {
   "cell_type": "code",
   "execution_count": 66,
   "id": "6672ef13",
   "metadata": {},
   "outputs": [
    {
     "data": {
      "text/plain": [
       "{'apple': 1, 'orange': 5, 'onion': 5}"
      ]
     },
     "execution_count": 66,
     "metadata": {},
     "output_type": "execute_result"
    }
   ],
   "source": [
    "new_dict = {name:amount for name,amount in zip(prod_name, prod_amount)}\n",
    "new_dict"
   ]
  },
  {
   "cell_type": "markdown",
   "id": "3649c1cb",
   "metadata": {},
   "source": [
    "#### d. What will happened if we have dublicates in the list of keys?"
   ]
  },
  {
   "cell_type": "code",
   "execution_count": 63,
   "id": "c66a0a13",
   "metadata": {},
   "outputs": [],
   "source": [
    "prod_name = ['apple', 'orange', 'onion', 'apple']\n",
    "prod_amount = [1,5,3,2]"
   ]
  },
  {
   "cell_type": "code",
   "execution_count": 64,
   "id": "a1188206",
   "metadata": {},
   "outputs": [
    {
     "data": {
      "text/plain": [
       "{'apple': 2, 'orange': 5, 'onion': 3}"
      ]
     },
     "execution_count": 64,
     "metadata": {},
     "output_type": "execute_result"
    }
   ],
   "source": [
    "{name:amount for name,amount in zip(prod_name, prod_amount)}"
   ]
  }
 ],
 "metadata": {
  "kernelspec": {
   "display_name": "Python 3 (ipykernel)",
   "language": "python",
   "name": "python3"
  },
  "language_info": {
   "codemirror_mode": {
    "name": "ipython",
    "version": 3
   },
   "file_extension": ".py",
   "mimetype": "text/x-python",
   "name": "python",
   "nbconvert_exporter": "python",
   "pygments_lexer": "ipython3",
   "version": "3.10.9"
  }
 },
 "nbformat": 4,
 "nbformat_minor": 5
}
